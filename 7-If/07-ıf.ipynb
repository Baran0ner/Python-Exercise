{
 "cells": [
  {
   "cell_type": "code",
   "execution_count": 1,
   "id": "44a9cd64-812f-4466-80e0-c7c509de003e",
   "metadata": {},
   "outputs": [],
   "source": [
    "x=4"
   ]
  },
  {
   "cell_type": "code",
   "execution_count": 14,
   "id": "e4ec9b79-44f4-443e-9e49-dee92ac00e7a",
   "metadata": {},
   "outputs": [],
   "source": [
    "y=3\n",
    "z=9"
   ]
  },
  {
   "cell_type": "code",
   "execution_count": 11,
   "id": "983b6afc-74fd-425e-9188-504b52bc5bab",
   "metadata": {},
   "outputs": [
    {
     "name": "stdout",
     "output_type": "stream",
     "text": [
      "x,y den daha büyük\n"
     ]
    }
   ],
   "source": [
    "if x>y:\n",
    "    print(\"x,y den daha büyük\")\n",
    "elif y>x:\n",
    "    print(\"y,x den daha büyük\")\n",
    "else :\n",
    "    print(\"y ve x birbirine eşitmiş\")"
   ]
  },
  {
   "cell_type": "code",
   "execution_count": 15,
   "id": "60b6542a-8244-4b9f-99e7-9e91e303f3a3",
   "metadata": {},
   "outputs": [
    {
     "name": "stdout",
     "output_type": "stream",
     "text": [
      "ZZZ\n"
     ]
    }
   ],
   "source": [
    "if x>y and x>z:\n",
    "    print(\"aaaaa\")\n",
    "elif y<x and z>x:\n",
    "    print(\"ZZZ\")"
   ]
  },
  {
   "cell_type": "code",
   "execution_count": 19,
   "id": "1ec851c7-c5da-43d5-8dfa-33935c9691b4",
   "metadata": {},
   "outputs": [],
   "source": [
    "\n",
    "karakterCanli= True"
   ]
  },
  {
   "cell_type": "code",
   "execution_count": 23,
   "id": "c016c50c-857d-4dad-9527-9c68e9227393",
   "metadata": {},
   "outputs": [
    {
     "name": "stdout",
     "output_type": "stream",
     "text": [
      "oyun karakteri yaşıyor\n"
     ]
    }
   ],
   "source": [
    "if karakterCanli ==True:\n",
    "    print(\"oyun karakteri yaşıyor\")\n",
    "else:\n",
    "    print(\"öldü\")"
   ]
  },
  {
   "cell_type": "code",
   "execution_count": null,
   "id": "60cc2c8b-123d-4b52-9212-5f702447e381",
   "metadata": {},
   "outputs": [],
   "source": []
  }
 ],
 "metadata": {
  "kernelspec": {
   "display_name": "Python 3 (ipykernel)",
   "language": "python",
   "name": "python3"
  },
  "language_info": {
   "codemirror_mode": {
    "name": "ipython",
    "version": 3
   },
   "file_extension": ".py",
   "mimetype": "text/x-python",
   "name": "python",
   "nbconvert_exporter": "python",
   "pygments_lexer": "ipython3",
   "version": "3.12.4"
  }
 },
 "nbformat": 4,
 "nbformat_minor": 5
}
