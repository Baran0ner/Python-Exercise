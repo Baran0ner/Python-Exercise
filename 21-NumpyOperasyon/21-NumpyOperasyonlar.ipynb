{
 "cells": [
  {
   "cell_type": "code",
   "execution_count": 1,
   "id": "dca683d9-7703-4b31-a3c5-acb59fd879b5",
   "metadata": {},
   "outputs": [],
   "source": [
    "import numpy as np"
   ]
  },
  {
   "cell_type": "code",
   "execution_count": 2,
   "id": "740b4116-f2e4-4437-bfa3-b8a9ae9a2d25",
   "metadata": {},
   "outputs": [],
   "source": [
    "benimDiizm =np.arange(1,6)"
   ]
  },
  {
   "cell_type": "code",
   "execution_count": 3,
   "id": "4c1e7814-eef6-4d03-8eab-6212e3b98d73",
   "metadata": {},
   "outputs": [
    {
     "data": {
      "text/plain": [
       "array([1, 2, 3, 4, 5])"
      ]
     },
     "execution_count": 3,
     "metadata": {},
     "output_type": "execute_result"
    }
   ],
   "source": [
    "benimDiizm"
   ]
  },
  {
   "cell_type": "code",
   "execution_count": 4,
   "id": "00c9c523-dfe6-445f-933c-acebabc39d6f",
   "metadata": {},
   "outputs": [],
   "source": [
    "benimDiizm[1:3] = -5"
   ]
  },
  {
   "cell_type": "code",
   "execution_count": 5,
   "id": "267b01b2-be3b-4899-806b-444520e2e2f2",
   "metadata": {},
   "outputs": [
    {
     "data": {
      "text/plain": [
       "array([ 1, -5, -5,  4,  5])"
      ]
     },
     "execution_count": 5,
     "metadata": {},
     "output_type": "execute_result"
    }
   ],
   "source": [
    "benimDiizm"
   ]
  },
  {
   "cell_type": "code",
   "execution_count": 6,
   "id": "9ac298ff-0244-4a20-9bec-0ae82ebc9202",
   "metadata": {},
   "outputs": [],
   "source": [
    "dizi = np.arange(0,23)"
   ]
  },
  {
   "cell_type": "code",
   "execution_count": 7,
   "id": "226fdbf6-9dd9-42f9-b7bf-8ef20f4cc59b",
   "metadata": {},
   "outputs": [
    {
     "data": {
      "text/plain": [
       "array([ 0,  1,  2,  3,  4,  5,  6,  7,  8,  9, 10, 11, 12, 13, 14, 15, 16,\n",
       "       17, 18, 19, 20, 21, 22])"
      ]
     },
     "execution_count": 7,
     "metadata": {},
     "output_type": "execute_result"
    }
   ],
   "source": [
    "dizi"
   ]
  },
  {
   "cell_type": "code",
   "execution_count": 8,
   "id": "b55b968a-0cac-4118-a3eb-4c19dcb3309f",
   "metadata": {},
   "outputs": [],
   "source": [
    "baskaDizi = dizi[3:10]"
   ]
  },
  {
   "cell_type": "code",
   "execution_count": 9,
   "id": "de994006-ebcd-4040-af7d-952bb0f9352c",
   "metadata": {},
   "outputs": [
    {
     "data": {
      "text/plain": [
       "array([3, 4, 5, 6, 7, 8, 9])"
      ]
     },
     "execution_count": 9,
     "metadata": {},
     "output_type": "execute_result"
    }
   ],
   "source": [
    "baskaDizi\n"
   ]
  },
  {
   "cell_type": "code",
   "execution_count": 10,
   "id": "0dce38d9-28b2-4a96-b3bc-5f411b704e59",
   "metadata": {},
   "outputs": [],
   "source": [
    "baskaDizi[:] =100"
   ]
  },
  {
   "cell_type": "code",
   "execution_count": 12,
   "id": "379551ec-2503-4035-9b9c-ef60aac87d96",
   "metadata": {},
   "outputs": [
    {
     "data": {
      "text/plain": [
       "array([100, 100, 100, 100, 100, 100, 100])"
      ]
     },
     "execution_count": 12,
     "metadata": {},
     "output_type": "execute_result"
    }
   ],
   "source": [
    "baskaDizi"
   ]
  },
  {
   "cell_type": "code",
   "execution_count": 13,
   "id": "7a73a4ca-d0c5-4d49-bcf6-ce6800bb30a6",
   "metadata": {},
   "outputs": [
    {
     "data": {
      "text/plain": [
       "array([  0,   1,   2, 100, 100, 100, 100, 100, 100, 100,  10,  11,  12,\n",
       "        13,  14,  15,  16,  17,  18,  19,  20,  21,  22])"
      ]
     },
     "execution_count": 13,
     "metadata": {},
     "output_type": "execute_result"
    }
   ],
   "source": [
    "dizi"
   ]
  },
  {
   "cell_type": "markdown",
   "id": "4def55c6-e898-4822-b2f4-1351ae9a2118",
   "metadata": {},
   "source": [
    "matrix"
   ]
  },
  {
   "cell_type": "code",
   "execution_count": 15,
   "id": "0841d411-302b-4d9c-b006-71926f3605be",
   "metadata": {},
   "outputs": [],
   "source": [
    "benimListem = [[10,20,30],[40,50,60],[70,80,90]]"
   ]
  },
  {
   "cell_type": "code",
   "execution_count": 16,
   "id": "638c7246-1973-436a-852e-b2bdff21c17d",
   "metadata": {},
   "outputs": [],
   "source": [
    "benimMatrixDizim = np.array(benimListem)"
   ]
  },
  {
   "cell_type": "code",
   "execution_count": 17,
   "id": "f285e42c-7c29-478f-94e3-375e977a3508",
   "metadata": {},
   "outputs": [
    {
     "data": {
      "text/plain": [
       "array([[10, 20, 30],\n",
       "       [40, 50, 60],\n",
       "       [70, 80, 90]])"
      ]
     },
     "execution_count": 17,
     "metadata": {},
     "output_type": "execute_result"
    }
   ],
   "source": [
    "benimMatrixDizim"
   ]
  },
  {
   "cell_type": "code",
   "execution_count": 18,
   "id": "27112f66-1c53-4054-894e-ebba1c562ae4",
   "metadata": {},
   "outputs": [
    {
     "data": {
      "text/plain": [
       "array([10, 20, 30])"
      ]
     },
     "execution_count": 18,
     "metadata": {},
     "output_type": "execute_result"
    }
   ],
   "source": [
    "benimMatrixDizim[0]"
   ]
  },
  {
   "cell_type": "code",
   "execution_count": 19,
   "id": "f4bfff27-aa74-4030-bd9d-0e4fbb3dd609",
   "metadata": {},
   "outputs": [
    {
     "data": {
      "text/plain": [
       "array([30, 60, 90])"
      ]
     },
     "execution_count": 19,
     "metadata": {},
     "output_type": "execute_result"
    }
   ],
   "source": [
    "benimMatrixDizim[0:,2]"
   ]
  },
  {
   "cell_type": "code",
   "execution_count": 20,
   "id": "8ea03625-e2b5-4739-9ad8-679680360058",
   "metadata": {},
   "outputs": [],
   "source": [
    "yeniListe = [[1,2,3,4],[5,6,7,8],[9,10,22,23]]"
   ]
  },
  {
   "cell_type": "code",
   "execution_count": 21,
   "id": "50146bd7-57ae-449a-84ce-a28ae9c7fd8d",
   "metadata": {},
   "outputs": [],
   "source": [
    "yeniMatrix = np.array(yeniListe)"
   ]
  },
  {
   "cell_type": "code",
   "execution_count": 26,
   "id": "e5f9b049-8ba9-4bc5-b7e3-80307319e3cc",
   "metadata": {},
   "outputs": [
    {
     "data": {
      "text/plain": [
       "array([[ 1,  2,  3,  4],\n",
       "       [ 5,  6,  7,  8],\n",
       "       [ 9, 10, 22, 23]])"
      ]
     },
     "execution_count": 26,
     "metadata": {},
     "output_type": "execute_result"
    }
   ],
   "source": [
    "yeniMatrix[[0,1,2]]"
   ]
  },
  {
   "cell_type": "markdown",
   "id": "0892fbe1-f557-42e4-9169-6b8f3dca714b",
   "metadata": {},
   "source": [
    "operasyonlar"
   ]
  },
  {
   "cell_type": "code",
   "execution_count": 32,
   "id": "c51d3489-c668-4d58-9a1e-4d0bcecbda77",
   "metadata": {},
   "outputs": [],
   "source": [
    "yeniBirDizi =np.random.randint(5,29,10)"
   ]
  },
  {
   "cell_type": "code",
   "execution_count": 33,
   "id": "4f73cfe2-bfc5-4838-8f67-7db69545f25d",
   "metadata": {},
   "outputs": [
    {
     "data": {
      "text/plain": [
       "array([23, 14, 14, 21, 14,  8,  8, 23, 27, 13])"
      ]
     },
     "execution_count": 33,
     "metadata": {},
     "output_type": "execute_result"
    }
   ],
   "source": [
    "yeniBirDizi"
   ]
  },
  {
   "cell_type": "code",
   "execution_count": 34,
   "id": "2c06a5a8-5858-45c3-b477-413dce2b6d9e",
   "metadata": {},
   "outputs": [
    {
     "data": {
      "text/plain": [
       "array([ True, False, False,  True, False, False, False,  True,  True,\n",
       "       False])"
      ]
     },
     "execution_count": 34,
     "metadata": {},
     "output_type": "execute_result"
    }
   ],
   "source": [
    "yeniBirDizi > 20"
   ]
  },
  {
   "cell_type": "code",
   "execution_count": 38,
   "id": "11a75c31-3d9a-428e-9585-5d3554d61147",
   "metadata": {},
   "outputs": [
    {
     "data": {
      "text/plain": [
       "array([8, 8])"
      ]
     },
     "execution_count": 38,
     "metadata": {},
     "output_type": "execute_result"
    }
   ],
   "source": [
    "yeniBirDizi [ yeniBirDizi<10 ]"
   ]
  },
  {
   "cell_type": "code",
   "execution_count": 39,
   "id": "08c3d542-0b88-4097-b7a2-170abe438e00",
   "metadata": {},
   "outputs": [],
   "source": [
    "sonDizi = np.arange(0 ,20)"
   ]
  },
  {
   "cell_type": "code",
   "execution_count": 40,
   "id": "93186b71-264c-4780-a488-ca6e9659a63b",
   "metadata": {},
   "outputs": [
    {
     "data": {
      "text/plain": [
       "array([ 0,  1,  2,  3,  4,  5,  6,  7,  8,  9, 10, 11, 12, 13, 14, 15, 16,\n",
       "       17, 18, 19])"
      ]
     },
     "execution_count": 40,
     "metadata": {},
     "output_type": "execute_result"
    }
   ],
   "source": [
    "sonDizi"
   ]
  },
  {
   "cell_type": "code",
   "execution_count": 41,
   "id": "fe13099b-c321-42c0-9b6f-6307a264e281",
   "metadata": {},
   "outputs": [
    {
     "data": {
      "text/plain": [
       "array([ 0,  2,  4,  6,  8, 10, 12, 14, 16, 18, 20, 22, 24, 26, 28, 30, 32,\n",
       "       34, 36, 38])"
      ]
     },
     "execution_count": 41,
     "metadata": {},
     "output_type": "execute_result"
    }
   ],
   "source": [
    "sonDizi + sonDizi"
   ]
  },
  {
   "cell_type": "code",
   "execution_count": 43,
   "id": "18ba7882-23e2-49fe-86bb-5d89201d45b4",
   "metadata": {},
   "outputs": [
    {
     "data": {
      "text/plain": [
       "array([0.        , 1.        , 1.41421356, 1.73205081, 2.        ,\n",
       "       2.23606798, 2.44948974, 2.64575131, 2.82842712, 3.        ,\n",
       "       3.16227766, 3.31662479, 3.46410162, 3.60555128, 3.74165739,\n",
       "       3.87298335, 4.        , 4.12310563, 4.24264069, 4.35889894])"
      ]
     },
     "execution_count": 43,
     "metadata": {},
     "output_type": "execute_result"
    }
   ],
   "source": [
    "np.sqrt(sonDizi)"
   ]
  },
  {
   "cell_type": "code",
   "execution_count": 44,
   "id": "18d223a0-da06-4055-b514-9e1ad478cfcc",
   "metadata": {},
   "outputs": [
    {
     "data": {
      "text/plain": [
       "19"
      ]
     },
     "execution_count": 44,
     "metadata": {},
     "output_type": "execute_result"
    }
   ],
   "source": [
    "np.max(sonDizi)"
   ]
  },
  {
   "cell_type": "code",
   "execution_count": 45,
   "id": "9dd7b25f-89e4-4396-8c21-d05669e62094",
   "metadata": {},
   "outputs": [
    {
     "data": {
      "text/plain": [
       "0"
      ]
     },
     "execution_count": 45,
     "metadata": {},
     "output_type": "execute_result"
    }
   ],
   "source": [
    "np.min(sonDizi)"
   ]
  },
  {
   "cell_type": "code",
   "execution_count": null,
   "id": "d62ff950-db9e-465b-b540-848cf409cdae",
   "metadata": {},
   "outputs": [],
   "source": []
  }
 ],
 "metadata": {
  "kernelspec": {
   "display_name": "Python 3 (ipykernel)",
   "language": "python",
   "name": "python3"
  },
  "language_info": {
   "codemirror_mode": {
    "name": "ipython",
    "version": 3
   },
   "file_extension": ".py",
   "mimetype": "text/x-python",
   "name": "python",
   "nbconvert_exporter": "python",
   "pygments_lexer": "ipython3",
   "version": "3.12.4"
  }
 },
 "nbformat": 4,
 "nbformat_minor": 5
}
