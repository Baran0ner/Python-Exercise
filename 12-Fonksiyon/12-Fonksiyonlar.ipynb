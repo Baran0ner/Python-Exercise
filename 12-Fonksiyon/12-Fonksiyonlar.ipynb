{
 "cells": [
  {
   "cell_type": "code",
   "execution_count": 1,
   "id": "8a529874-2bd4-46c6-b3de-fa01ab9b2c2a",
   "metadata": {},
   "outputs": [],
   "source": [
    "benimAdim = \"Baran Öner\""
   ]
  },
  {
   "cell_type": "code",
   "execution_count": 3,
   "id": "ed8315df-e6a9-4ac0-b3d0-ce2f1da4fcf9",
   "metadata": {},
   "outputs": [
    {
     "data": {
      "text/plain": [
       "'BARAN ÖNER'"
      ]
     },
     "execution_count": 3,
     "metadata": {},
     "output_type": "execute_result"
    }
   ],
   "source": [
    "benimAdim.upper()"
   ]
  },
  {
   "cell_type": "code",
   "execution_count": 5,
   "id": "23d1818a-25d9-452d-af02-b8e7d402109c",
   "metadata": {},
   "outputs": [],
   "source": [
    "def ilkFonksiyon():\n",
    "    print(\"ilk fonksiyon\")"
   ]
  },
  {
   "cell_type": "code",
   "execution_count": 7,
   "id": "83c7a6a4-c4d2-4705-941c-3f7cac938299",
   "metadata": {},
   "outputs": [
    {
     "name": "stdout",
     "output_type": "stream",
     "text": [
      "ilk fonksiyon\n"
     ]
    }
   ],
   "source": [
    "ilkFonksiyon()"
   ]
  },
  {
   "cell_type": "markdown",
   "id": "7f28defa-862b-4d47-87b4-f3d1b6503809",
   "metadata": {},
   "source": [
    "##İNPUT & RETURN\n"
   ]
  },
  {
   "cell_type": "code",
   "execution_count": 9,
   "id": "bf1288dd-a885-40b9-be11-b118d99e014f",
   "metadata": {},
   "outputs": [],
   "source": [
    "def merhabaDunya(yazdirilacakIsım):\n",
    "    print(\"Merhaba \")\n",
    "    print(yazdirilacakIsım)"
   ]
  },
  {
   "cell_type": "code",
   "execution_count": 10,
   "id": "6ff59b4d-f6dd-4a28-a90e-04dcb74ec911",
   "metadata": {},
   "outputs": [
    {
     "name": "stdout",
     "output_type": "stream",
     "text": [
      "Merhaba \n",
      "Baran\n"
     ]
    }
   ],
   "source": [
    "merhabaDunya(\"Baran\")"
   ]
  },
  {
   "cell_type": "code",
   "execution_count": 14,
   "id": "a4365202-f516-4d1c-860e-fc032420880a",
   "metadata": {},
   "outputs": [],
   "source": [
    "def toplama(t1,t2):\n",
    "    sonuc = t1+t2\n",
    "    print(t1+t2)\n",
    "    print(sonuc)"
   ]
  },
  {
   "cell_type": "code",
   "execution_count": 15,
   "id": "5988d613-ccea-4b99-8d0e-37b9f06a3f6e",
   "metadata": {},
   "outputs": [
    {
     "name": "stdout",
     "output_type": "stream",
     "text": [
      "30\n",
      "30\n"
     ]
    }
   ],
   "source": [
    "toplama(10,20)"
   ]
  },
  {
   "cell_type": "code",
   "execution_count": 24,
   "id": "fd9ba57a-50e4-4798-b0f4-6024a93fd5db",
   "metadata": {},
   "outputs": [],
   "source": [
    "\n",
    "s = \"1212\"\n",
    "def kontrol(s):\n",
    "    if s == \"baran\":\n",
    "        print(\"yes\")\n",
    "    else:\n",
    "        print(\"no\")"
   ]
  },
  {
   "cell_type": "code",
   "execution_count": null,
   "id": "fe765e90-ceac-45ba-ac0a-1dfd47c1868c",
   "metadata": {},
   "outputs": [],
   "source": []
  }
 ],
 "metadata": {
  "kernelspec": {
   "display_name": "Python 3 (ipykernel)",
   "language": "python",
   "name": "python3"
  },
  "language_info": {
   "codemirror_mode": {
    "name": "ipython",
    "version": 3
   },
   "file_extension": ".py",
   "mimetype": "text/x-python",
   "name": "python",
   "nbconvert_exporter": "python",
   "pygments_lexer": "ipython3",
   "version": "3.12.4"
  }
 },
 "nbformat": 4,
 "nbformat_minor": 5
}
