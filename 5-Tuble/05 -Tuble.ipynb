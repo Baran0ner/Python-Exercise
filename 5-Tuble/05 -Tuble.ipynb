{
 "cells": [
  {
   "cell_type": "code",
   "execution_count": 1,
   "id": "56fda93a-d39a-46ef-b5a8-58209ccd8944",
   "metadata": {},
   "outputs": [],
   "source": [
    "benimListem = [1,2,3,\"w\"]\n"
   ]
  },
  {
   "cell_type": "code",
   "execution_count": 2,
   "id": "2c359e65-861d-494d-aea6-540aa2db08d1",
   "metadata": {},
   "outputs": [
    {
     "data": {
      "text/plain": [
       "1"
      ]
     },
     "execution_count": 2,
     "metadata": {},
     "output_type": "execute_result"
    }
   ],
   "source": [
    "benimListem[0]\n"
   ]
  },
  {
   "cell_type": "code",
   "execution_count": 3,
   "id": "bbcd5e13-7445-4f64-92b7-b742ca623e73",
   "metadata": {},
   "outputs": [],
   "source": [
    "benimListem[0]= 200"
   ]
  },
  {
   "cell_type": "code",
   "execution_count": 4,
   "id": "d386ac84-ee44-4b78-99f5-e394901aa104",
   "metadata": {},
   "outputs": [
    {
     "data": {
      "text/plain": [
       "200"
      ]
     },
     "execution_count": 4,
     "metadata": {},
     "output_type": "execute_result"
    }
   ],
   "source": [
    "benimListem[0]"
   ]
  },
  {
   "cell_type": "code",
   "execution_count": 5,
   "id": "14820c19-82eb-4675-bfec-0f824f0d0e0e",
   "metadata": {},
   "outputs": [],
   "source": [
    "benimTuble=(1,2,34)\n",
    "\n"
   ]
  },
  {
   "cell_type": "code",
   "execution_count": 7,
   "id": "945f7e44-28e6-4c89-b0ef-02b14a5e2346",
   "metadata": {},
   "outputs": [],
   "source": [
    "#benimTuble[0]=2"
   ]
  },
  {
   "cell_type": "code",
   "execution_count": 8,
   "id": "acf69202-1732-45b9-8a46-923a46e3d2a5",
   "metadata": {},
   "outputs": [
    {
     "data": {
      "text/plain": [
       "1"
      ]
     },
     "execution_count": 8,
     "metadata": {},
     "output_type": "execute_result"
    }
   ],
   "source": [
    "benimTuble.count(1)"
   ]
  },
  {
   "cell_type": "code",
   "execution_count": null,
   "id": "4d8911e7-33b8-4c1c-9317-80de50a1403d",
   "metadata": {},
   "outputs": [],
   "source": []
  }
 ],
 "metadata": {
  "kernelspec": {
   "display_name": "Python 3 (ipykernel)",
   "language": "python",
   "name": "python3"
  },
  "language_info": {
   "codemirror_mode": {
    "name": "ipython",
    "version": 3
   },
   "file_extension": ".py",
   "mimetype": "text/x-python",
   "name": "python",
   "nbconvert_exporter": "python",
   "pygments_lexer": "ipython3",
   "version": "3.12.4"
  }
 },
 "nbformat": 4,
 "nbformat_minor": 5
}
