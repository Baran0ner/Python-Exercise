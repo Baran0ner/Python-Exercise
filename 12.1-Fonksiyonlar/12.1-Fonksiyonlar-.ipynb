{
 "cells": [
  {
   "cell_type": "code",
   "execution_count": 1,
   "id": "e695996b-cfa6-4441-9dde-1b8fa87ddf19",
   "metadata": {},
   "outputs": [],
   "source": [
    "def bolmeIslemi(numara):\n",
    "      return numara /2"
   ]
  },
  {
   "cell_type": "code",
   "execution_count": 2,
   "id": "39a5bf58-5059-43c8-a300-7a517a4ebf3b",
   "metadata": {},
   "outputs": [
    {
     "data": {
      "text/plain": [
       "10.0"
      ]
     },
     "execution_count": 2,
     "metadata": {},
     "output_type": "execute_result"
    }
   ],
   "source": [
    "bolmeIslemi(20)"
   ]
  },
  {
   "cell_type": "code",
   "execution_count": 4,
   "id": "1b5ed5b3-9f56-4f01-93a9-267385edfefd",
   "metadata": {},
   "outputs": [],
   "source": [
    "benimListem = [1,2,3,4,5,6,7,8]"
   ]
  },
  {
   "cell_type": "code",
   "execution_count": 5,
   "id": "04952d46-83cc-43f9-b796-6730f761fab3",
   "metadata": {},
   "outputs": [],
   "source": [
    "yeniListe = []"
   ]
  },
  {
   "cell_type": "code",
   "execution_count": 7,
   "id": "bfe08413-f4a5-4b18-b910-2e1d9d48fe74",
   "metadata": {},
   "outputs": [],
   "source": [
    "for eleman in benimListem:\n",
    "    yeniListe.append(bolmeIslemi(eleman))\n",
    "\n"
   ]
  },
  {
   "cell_type": "code",
   "execution_count": 8,
   "id": "4883d0f5-67ef-4e01-b0d9-6096ea95b7af",
   "metadata": {},
   "outputs": [
    {
     "data": {
      "text/plain": [
       "[0.5, 1.0, 1.5, 2.0, 2.5, 3.0, 3.5, 4.0]"
      ]
     },
     "execution_count": 8,
     "metadata": {},
     "output_type": "execute_result"
    }
   ],
   "source": [
    "yeniListe"
   ]
  },
  {
   "cell_type": "markdown",
   "id": "4929cd21-e31a-4e98-9d59-95e829a5f858",
   "metadata": {},
   "source": [
    "##MAP"
   ]
  },
  {
   "cell_type": "code",
   "execution_count": 10,
   "id": "125cd478-ed2c-4155-a163-109e2b4d812b",
   "metadata": {},
   "outputs": [
    {
     "data": {
      "text/plain": [
       "[0.5, 1.0, 1.5, 2.0, 2.5, 3.0, 3.5, 4.0]"
      ]
     },
     "execution_count": 10,
     "metadata": {},
     "output_type": "execute_result"
    }
   ],
   "source": [
    "list(map(bolmeIslemi,benimListem))"
   ]
  },
  {
   "cell_type": "code",
   "execution_count": 19,
   "id": "b331506e-7c8b-4f35-8e01-4d116cff6b7e",
   "metadata": {},
   "outputs": [],
   "source": [
    "def kontrolFonk(string):\n",
    "    return \"a\" in string"
   ]
  },
  {
   "cell_type": "code",
   "execution_count": 20,
   "id": "25410033-53ba-4d1a-97fa-34f84768690a",
   "metadata": {},
   "outputs": [
    {
     "data": {
      "text/plain": [
       "True"
      ]
     },
     "execution_count": 20,
     "metadata": {},
     "output_type": "execute_result"
    }
   ],
   "source": [
    "\"a\" in \"atıl\""
   ]
  },
  {
   "cell_type": "code",
   "execution_count": 21,
   "id": "a4891759-52f7-4755-888b-3999850fb953",
   "metadata": {},
   "outputs": [
    {
     "data": {
      "text/plain": [
       "True"
      ]
     },
     "execution_count": 21,
     "metadata": {},
     "output_type": "execute_result"
    }
   ],
   "source": [
    "kontrolFonk(\"atıl\")"
   ]
  },
  {
   "cell_type": "code",
   "execution_count": 22,
   "id": "a4cdb7d8-5fb1-4eab-9aff-682178284d31",
   "metadata": {},
   "outputs": [],
   "source": [
    "stringListesi = [\"baran\",\"atıl\",\"lale\",\"zeynep\"]"
   ]
  },
  {
   "cell_type": "code",
   "execution_count": 35,
   "id": "b7de9b0a-cdfc-403e-854c-b106ea1cce7e",
   "metadata": {},
   "outputs": [],
   "source": [
    "sonucListesi = list(map(kontrolFonk,stringListesi))\n",
    "    "
   ]
  },
  {
   "cell_type": "code",
   "execution_count": 38,
   "id": "5d561257-9a65-454a-a560-a64df60c92f6",
   "metadata": {},
   "outputs": [
    {
     "data": {
      "text/plain": [
       "3"
      ]
     },
     "execution_count": 38,
     "metadata": {},
     "output_type": "execute_result"
    }
   ],
   "source": [
    "sonucListesi.count(True)"
   ]
  },
  {
   "cell_type": "code",
   "execution_count": null,
   "id": "db86ed73-c6e2-4ad9-a7f1-d9c4d72902c1",
   "metadata": {},
   "outputs": [],
   "source": []
  },
  {
   "cell_type": "markdown",
   "id": "27661308-4c16-4c67-8cfa-33441f57fb49",
   "metadata": {},
   "source": [
    "##args kwargs"
   ]
  },
  {
   "cell_type": "code",
   "execution_count": 11,
   "id": "fbc2ab08-629b-4724-937b-7e35a5a75c7d",
   "metadata": {},
   "outputs": [],
   "source": [
    "def yeniToplama(*args):\n",
    "    return sum(args)"
   ]
  },
  {
   "cell_type": "code",
   "execution_count": 12,
   "id": "7f285037-4e34-448e-a189-d35df638a601",
   "metadata": {},
   "outputs": [
    {
     "data": {
      "text/plain": [
       "100"
      ]
     },
     "execution_count": 12,
     "metadata": {},
     "output_type": "execute_result"
    }
   ],
   "source": [
    "yeniToplama(10,20,30,40)"
   ]
  },
  {
   "cell_type": "code",
   "execution_count": 23,
   "id": "f983570e-2d4e-403d-b8cf-7c9c3a8c2b55",
   "metadata": {},
   "outputs": [],
   "source": [
    "def benimFonk(*args):\n",
    "    return print(args)"
   ]
  },
  {
   "cell_type": "code",
   "execution_count": 24,
   "id": "63256074-d4d1-4ee0-9518-b3e777db2f65",
   "metadata": {},
   "outputs": [
    {
     "name": "stdout",
     "output_type": "stream",
     "text": [
      "(10, 20, 30)\n"
     ]
    }
   ],
   "source": [
    "benimFonk(10,20,30)"
   ]
  },
  {
   "cell_type": "code",
   "execution_count": 25,
   "id": "703851fa-a17e-47cb-b90a-1cf2489b1e2f",
   "metadata": {},
   "outputs": [],
   "source": [
    "def ornekFonk(**kwargs):\n",
    "    return(kwargs)\n"
   ]
  },
  {
   "cell_type": "code",
   "execution_count": 26,
   "id": "663a229b-c898-426d-8b17-6f30bdf9ad80",
   "metadata": {},
   "outputs": [
    {
     "data": {
      "text/plain": [
       "{'muz': 100, 'elma': 200}"
      ]
     },
     "execution_count": 26,
     "metadata": {},
     "output_type": "execute_result"
    }
   ],
   "source": [
    "ornekFonk(muz = 100,elma =200)\n"
   ]
  },
  {
   "cell_type": "markdown",
   "id": "eec587f5-8cc2-4620-80b1-7f6584d1ea48",
   "metadata": {},
   "source": [
    "%%FİLTER\n"
   ]
  },
  {
   "cell_type": "code",
   "execution_count": 39,
   "id": "76f96037-5ff3-40e1-aced-4d596683554e",
   "metadata": {},
   "outputs": [
    {
     "data": {
      "text/plain": [
       "['baran', 'atıl', 'lale']"
      ]
     },
     "execution_count": 39,
     "metadata": {},
     "output_type": "execute_result"
    }
   ],
   "source": [
    "list(filter(kontrolFonk,stringListesi))"
   ]
  },
  {
   "cell_type": "markdown",
   "id": "c0f542f6-5802-473f-ab48-e17f65ccfccf",
   "metadata": {},
   "source": [
    "Lambda"
   ]
  },
  {
   "cell_type": "code",
   "execution_count": 41,
   "id": "67312eb7-ab28-484b-b8ce-7808b90529de",
   "metadata": {},
   "outputs": [],
   "source": [
    "carpma  = lambda numara : numara *3\n"
   ]
  },
  {
   "cell_type": "code",
   "execution_count": 42,
   "id": "d278cd82-be24-4877-b37d-40864601ae1c",
   "metadata": {},
   "outputs": [
    {
     "data": {
      "text/plain": [
       "30"
      ]
     },
     "execution_count": 42,
     "metadata": {},
     "output_type": "execute_result"
    }
   ],
   "source": [
    "carpma(10)"
   ]
  },
  {
   "cell_type": "code",
   "execution_count": 44,
   "id": "e032bba0-6bbc-425f-8004-3f53ff9164fa",
   "metadata": {},
   "outputs": [
    {
     "data": {
      "text/plain": [
       "[4, 8, 12, 16, 20, 24, 28, 32]"
      ]
     },
     "execution_count": 44,
     "metadata": {},
     "output_type": "execute_result"
    }
   ],
   "source": [
    "list(map(lambda numara : numara * 4 , benimListem))"
   ]
  },
  {
   "cell_type": "code",
   "execution_count": null,
   "id": "b38cc3ea-fe7a-44f2-a14b-def9e0091347",
   "metadata": {},
   "outputs": [],
   "source": []
  }
 ],
 "metadata": {
  "kernelspec": {
   "display_name": "Python 3 (ipykernel)",
   "language": "python",
   "name": "python3"
  },
  "language_info": {
   "codemirror_mode": {
    "name": "ipython",
    "version": 3
   },
   "file_extension": ".py",
   "mimetype": "text/x-python",
   "name": "python",
   "nbconvert_exporter": "python",
   "pygments_lexer": "ipython3",
   "version": "3.12.4"
  }
 },
 "nbformat": 4,
 "nbformat_minor": 5
}
