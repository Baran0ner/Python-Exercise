{
 "cells": [
  {
   "cell_type": "code",
   "execution_count": 6,
   "id": "cae438f3-126b-4b8d-abb1-799ab1aab6b2",
   "metadata": {},
   "outputs": [],
   "source": [
    "import pandas as pd"
   ]
  },
  {
   "cell_type": "code",
   "execution_count": 7,
   "id": "015c5ea0-5c52-44ff-adce-713bb1adcc57",
   "metadata": {},
   "outputs": [],
   "source": [
    "dataFrame =pd.read_excel(\"bisiklet_fiyatlari.xlsx\")"
   ]
  },
  {
   "cell_type": "code",
   "execution_count": 8,
   "id": "098e018e-d4df-439e-ad0b-6edda8a61601",
   "metadata": {},
   "outputs": [
    {
     "data": {
      "text/html": [
       "<div>\n",
       "<style scoped>\n",
       "    .dataframe tbody tr th:only-of-type {\n",
       "        vertical-align: middle;\n",
       "    }\n",
       "\n",
       "    .dataframe tbody tr th {\n",
       "        vertical-align: top;\n",
       "    }\n",
       "\n",
       "    .dataframe thead th {\n",
       "        text-align: right;\n",
       "    }\n",
       "</style>\n",
       "<table border=\"1\" class=\"dataframe\">\n",
       "  <thead>\n",
       "    <tr style=\"text-align: right;\">\n",
       "      <th></th>\n",
       "      <th>Fiyat</th>\n",
       "      <th>BisikletOzellik1</th>\n",
       "      <th>BisikletOzellik2</th>\n",
       "    </tr>\n",
       "  </thead>\n",
       "  <tbody>\n",
       "    <tr>\n",
       "      <th>0</th>\n",
       "      <td>807.673876</td>\n",
       "      <td>1749.628226</td>\n",
       "      <td>1749.590668</td>\n",
       "    </tr>\n",
       "    <tr>\n",
       "      <th>1</th>\n",
       "      <td>959.227520</td>\n",
       "      <td>1748.007826</td>\n",
       "      <td>1751.824206</td>\n",
       "    </tr>\n",
       "    <tr>\n",
       "      <th>2</th>\n",
       "      <td>718.020033</td>\n",
       "      <td>1750.122967</td>\n",
       "      <td>1747.977026</td>\n",
       "    </tr>\n",
       "    <tr>\n",
       "      <th>3</th>\n",
       "      <td>945.668885</td>\n",
       "      <td>1749.916440</td>\n",
       "      <td>1750.771646</td>\n",
       "    </tr>\n",
       "    <tr>\n",
       "      <th>4</th>\n",
       "      <td>955.542968</td>\n",
       "      <td>1750.780519</td>\n",
       "      <td>1750.592430</td>\n",
       "    </tr>\n",
       "  </tbody>\n",
       "</table>\n",
       "</div>"
      ],
      "text/plain": [
       "        Fiyat  BisikletOzellik1  BisikletOzellik2\n",
       "0  807.673876       1749.628226       1749.590668\n",
       "1  959.227520       1748.007826       1751.824206\n",
       "2  718.020033       1750.122967       1747.977026\n",
       "3  945.668885       1749.916440       1750.771646\n",
       "4  955.542968       1750.780519       1750.592430"
      ]
     },
     "execution_count": 8,
     "metadata": {},
     "output_type": "execute_result"
    }
   ],
   "source": [
    "dataFrame.head()"
   ]
  },
  {
   "cell_type": "markdown",
   "id": "125c5cd5-0464-462b-8269-cfe19ebee3c9",
   "metadata": {},
   "source": [
    "###Veriyi test/train olarak ikiye ayırnmak"
   ]
  },
  {
   "cell_type": "code",
   "execution_count": 9,
   "id": "82e77e1a-415d-4a44-9842-3aae0eb33f7a",
   "metadata": {},
   "outputs": [],
   "source": [
    "from sklearn.model_selection import train_test_split\n"
   ]
  },
  {
   "cell_type": "code",
   "execution_count": 11,
   "id": "df3d4bd4-92a6-46ac-be4b-c390d9baaca6",
   "metadata": {},
   "outputs": [],
   "source": [
    "#train_test_split"
   ]
  },
  {
   "cell_type": "raw",
   "id": "396dafc9-1735-4c41-8278-3d283c2aeeb8",
   "metadata": {},
   "source": []
  },
  {
   "cell_type": "code",
   "execution_count": 13,
   "id": "289e9be1-882d-4643-ae83-a7d9fe1bdbc4",
   "metadata": {},
   "outputs": [
    {
     "data": {
      "text/plain": [
       "0       807.673876\n",
       "1       959.227520\n",
       "2       718.020033\n",
       "3       945.668885\n",
       "4       955.542968\n",
       "          ...     \n",
       "995     833.920637\n",
       "996     800.298076\n",
       "997     799.261737\n",
       "998     705.802257\n",
       "999    1048.892414\n",
       "Name: Fiyat, Length: 1000, dtype: float64"
      ]
     },
     "execution_count": 13,
     "metadata": {},
     "output_type": "execute_result"
    }
   ],
   "source": [
    "dataFrame[\"Fiyat\"]"
   ]
  },
  {
   "cell_type": "code",
   "execution_count": 16,
   "id": "865ef03f-ee53-4dc6-8eb1-484549d91059",
   "metadata": {},
   "outputs": [],
   "source": [
    "y= dataFrame[\"Fiyat\"].values\n",
    "x= dataFrame[[\"BisikletOzellik1\",\"BisikletOzellik2\"]].values\n",
    "x_train,x_test,y_train,y_test = train_test_split(x,y,test_size=0.33,random_state=15)"
   ]
  },
  {
   "cell_type": "code",
   "execution_count": 18,
   "id": "36af0e91-cd55-4bcc-a1e2-e1a152e1b2e4",
   "metadata": {},
   "outputs": [
    {
     "data": {
      "text/plain": [
       "(670, 2)"
      ]
     },
     "execution_count": 18,
     "metadata": {},
     "output_type": "execute_result"
    }
   ],
   "source": [
    "x_train.shape"
   ]
  },
  {
   "cell_type": "code",
   "execution_count": 19,
   "id": "1eacb87a-9dca-4aaa-8020-fc400315baed",
   "metadata": {},
   "outputs": [
    {
     "data": {
      "text/plain": [
       "(330, 2)"
      ]
     },
     "execution_count": 19,
     "metadata": {},
     "output_type": "execute_result"
    }
   ],
   "source": [
    "x_test.shape"
   ]
  },
  {
   "cell_type": "code",
   "execution_count": null,
   "id": "ca60970a-31ca-4307-ab54-c9a1b8cc4678",
   "metadata": {},
   "outputs": [],
   "source": []
  }
 ],
 "metadata": {
  "kernelspec": {
   "display_name": "Python 3 (ipykernel)",
   "language": "python",
   "name": "python3"
  },
  "language_info": {
   "codemirror_mode": {
    "name": "ipython",
    "version": 3
   },
   "file_extension": ".py",
   "mimetype": "text/x-python",
   "name": "python",
   "nbconvert_exporter": "python",
   "pygments_lexer": "ipython3",
   "version": "3.12.4"
  }
 },
 "nbformat": 4,
 "nbformat_minor": 5
}
