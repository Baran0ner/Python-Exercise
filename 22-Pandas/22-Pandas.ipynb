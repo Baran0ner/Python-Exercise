{
 "cells": [
  {
   "cell_type": "code",
   "execution_count": 14,
   "id": "36623320-e528-4586-baaa-2cffc75b9806",
   "metadata": {},
   "outputs": [],
   "source": [
    "import numpy as np\n",
    "import pandas as pd\n",
    "%config IPCompleter.greedy=True\n"
   ]
  },
  {
   "cell_type": "markdown",
   "id": "5f808995-7fe4-48a0-a4e4-a50051573786",
   "metadata": {},
   "source": [
    "Series"
   ]
  },
  {
   "cell_type": "code",
   "execution_count": 15,
   "id": "f7afee7c-24fa-4400-ae6c-36c26426b6bf",
   "metadata": {},
   "outputs": [],
   "source": [
    "benimSozlugum = {\"Atıl\" : 50 ,\"Zeynep\" : 40 , \"Baran\" : 10} "
   ]
  },
  {
   "cell_type": "code",
   "execution_count": 16,
   "id": "2705ade7-b246-4057-b19f-874440baf858",
   "metadata": {},
   "outputs": [
    {
     "data": {
      "text/plain": [
       "Atıl      50\n",
       "Zeynep    40\n",
       "Baran     10\n",
       "dtype: int64"
      ]
     },
     "execution_count": 16,
     "metadata": {},
     "output_type": "execute_result"
    }
   ],
   "source": [
    "pd.Series(benimSozlugum)"
   ]
  },
  {
   "cell_type": "code",
   "execution_count": 17,
   "id": "959ec133-42fa-4dda-a1a6-102f433cae5f",
   "metadata": {},
   "outputs": [],
   "source": [
    "benimYaslarim = [10,20,30]\n",
    "benimIsimlerim =[\"baran\",\"Hasam\",\"Kasım\"]"
   ]
  },
  {
   "cell_type": "code",
   "execution_count": 18,
   "id": "a0e3bcf9-7dd6-4a57-b08f-ad8a5c307a93",
   "metadata": {},
   "outputs": [
    {
     "data": {
      "text/plain": [
       "baran    10\n",
       "Hasam    20\n",
       "Kasım    30\n",
       "dtype: int64"
      ]
     },
     "execution_count": 18,
     "metadata": {},
     "output_type": "execute_result"
    }
   ],
   "source": [
    "pd.Series(benimYaslarim,benimIsimlerim)"
   ]
  },
  {
   "cell_type": "code",
   "execution_count": 19,
   "id": "7a1980e3-9315-49da-9c03-71eaafe8cc8c",
   "metadata": {},
   "outputs": [],
   "source": [
    "numpyDizisi = np.array([10,20,30])"
   ]
  },
  {
   "cell_type": "code",
   "execution_count": 20,
   "id": "5f81c9b9-9872-4078-919b-0419e95b2381",
   "metadata": {},
   "outputs": [
    {
     "data": {
      "text/plain": [
       "array([10, 20, 30])"
      ]
     },
     "execution_count": 20,
     "metadata": {},
     "output_type": "execute_result"
    }
   ],
   "source": [
    "numpyDizisi"
   ]
  },
  {
   "cell_type": "code",
   "execution_count": 21,
   "id": "eac08a57-b994-4210-a6b5-96ed4d676103",
   "metadata": {},
   "outputs": [
    {
     "data": {
      "text/plain": [
       "0    10\n",
       "1    20\n",
       "2    30\n",
       "dtype: int32"
      ]
     },
     "execution_count": 21,
     "metadata": {},
     "output_type": "execute_result"
    }
   ],
   "source": [
    "pd.Series(numpyDizisi)"
   ]
  },
  {
   "cell_type": "code",
   "execution_count": 22,
   "id": "01546070-64b7-428f-b110-aee053d0febf",
   "metadata": {},
   "outputs": [
    {
     "data": {
      "text/plain": [
       "baran    10\n",
       "Hasam    20\n",
       "Kasım    30\n",
       "dtype: int32"
      ]
     },
     "execution_count": 22,
     "metadata": {},
     "output_type": "execute_result"
    }
   ],
   "source": [
    "pd.Series(numpyDizisi,benimIsimlerim)"
   ]
  },
  {
   "cell_type": "code",
   "execution_count": 28,
   "id": "a1f06c60-4921-4eca-885f-f39f113c437f",
   "metadata": {},
   "outputs": [],
   "source": [
    "yarışmaSonucu = pd.Series ([10,5,1],[\"baran\",\"buse\",\"arda\"])"
   ]
  },
  {
   "cell_type": "code",
   "execution_count": 29,
   "id": "f93fdb20-13ae-478a-bf87-ce02c1ae5cb5",
   "metadata": {},
   "outputs": [
    {
     "data": {
      "text/plain": [
       "baran    10\n",
       "buse      5\n",
       "arda      1\n",
       "dtype: int64"
      ]
     },
     "execution_count": 29,
     "metadata": {},
     "output_type": "execute_result"
    }
   ],
   "source": [
    "yarışmaSonucu"
   ]
  },
  {
   "cell_type": "code",
   "execution_count": 32,
   "id": "8affcd53-a405-49e7-a65f-21e72d12b64b",
   "metadata": {},
   "outputs": [],
   "source": [
    "yarışmaSonucu2 = pd.Series ([12,52,12],[\"baran\",\"buse\",\"arda\"])\n"
   ]
  },
  {
   "cell_type": "code",
   "execution_count": 33,
   "id": "5c67a31c-f6f9-47d6-8442-5bc5b83e6c63",
   "metadata": {},
   "outputs": [],
   "source": [
    "sonSonuc = yarışmaSonucu +yarışmaSonucu2"
   ]
  },
  {
   "cell_type": "code",
   "execution_count": 34,
   "id": "d00a5652-1f79-452b-8765-3800f68abc38",
   "metadata": {},
   "outputs": [
    {
     "data": {
      "text/plain": [
       "baran     24\n",
       "buse     104\n",
       "arda      24\n",
       "dtype: int64"
      ]
     },
     "execution_count": 34,
     "metadata": {},
     "output_type": "execute_result"
    }
   ],
   "source": [
    "sonSonuc"
   ]
  },
  {
   "cell_type": "code",
   "execution_count": 35,
   "id": "f4cdaf96-76e1-4128-b36f-01b149ca2378",
   "metadata": {},
   "outputs": [],
   "source": [
    "farklıSeries = pd.Series ([2,5,1],[\"b\",\"a\",\"k\"])"
   ]
  },
  {
   "cell_type": "code",
   "execution_count": 36,
   "id": "e5fb8a74-0a32-45ca-9b11-a5c63d1d32de",
   "metadata": {},
   "outputs": [],
   "source": [
    "farklıSeries2 = pd.Series ([2,5,1],[\"b\",\"s\",\"l\"])"
   ]
  },
  {
   "cell_type": "code",
   "execution_count": 37,
   "id": "3a57550c-4016-43d7-b8ad-29e581dffd19",
   "metadata": {},
   "outputs": [],
   "source": [
    "farklıSonuc = farklıSeries+farklıSeries2"
   ]
  },
  {
   "cell_type": "code",
   "execution_count": 38,
   "id": "dfa18ee1-c192-4e25-b57c-7cc2445b53d9",
   "metadata": {},
   "outputs": [
    {
     "data": {
      "text/plain": [
       "a    NaN\n",
       "b    4.0\n",
       "k    NaN\n",
       "l    NaN\n",
       "s    NaN\n",
       "dtype: float64"
      ]
     },
     "execution_count": 38,
     "metadata": {},
     "output_type": "execute_result"
    }
   ],
   "source": [
    "farklıSonuc"
   ]
  },
  {
   "cell_type": "code",
   "execution_count": null,
   "id": "b16e5fb7-1b8f-40bd-8e3c-80178e8fec9d",
   "metadata": {},
   "outputs": [],
   "source": []
  }
 ],
 "metadata": {
  "kernelspec": {
   "display_name": "Python 3 (ipykernel)",
   "language": "python",
   "name": "python3"
  },
  "language_info": {
   "codemirror_mode": {
    "name": "ipython",
    "version": 3
   },
   "file_extension": ".py",
   "mimetype": "text/x-python",
   "name": "python",
   "nbconvert_exporter": "python",
   "pygments_lexer": "ipython3",
   "version": "3.12.4"
  }
 },
 "nbformat": 4,
 "nbformat_minor": 5
}
