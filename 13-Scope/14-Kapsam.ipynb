{
 "cells": [
  {
   "cell_type": "code",
   "execution_count": 4,
   "id": "69cc9b4d-d83c-4cec-b646-8e9ee7d435f4",
   "metadata": {},
   "outputs": [],
   "source": [
    "numara = 20\n",
    "def carpma(rakam):\n",
    "    numara =10\n",
    "    return numara* rakam"
   ]
  },
  {
   "cell_type": "code",
   "execution_count": 5,
   "id": "a65b961a-45c7-4bd9-9bf8-02be79aba9b1",
   "metadata": {},
   "outputs": [
    {
     "data": {
      "text/plain": [
       "50"
      ]
     },
     "execution_count": 5,
     "metadata": {},
     "output_type": "execute_result"
    }
   ],
   "source": [
    "carpma(5)"
   ]
  },
  {
   "cell_type": "markdown",
   "id": "3535d521-359a-4793-9805-772a4e7b015c",
   "metadata": {},
   "source": [
    "Local,Enclosing,Global,Built-In"
   ]
  },
  {
   "cell_type": "code",
   "execution_count": 7,
   "id": "589c0df8-b8c1-4265-a964-a7c1c678918e",
   "metadata": {},
   "outputs": [],
   "source": [
    "y=10\n",
    "def yeniFonk (y):\n",
    "    print(y)\n",
    "    y=5\n",
    "    print(y)\n",
    "    return y"
   ]
  },
  {
   "cell_type": "code",
   "execution_count": 8,
   "id": "7155f639-dd1e-4cf0-b76c-bf7d8c44e759",
   "metadata": {},
   "outputs": [
    {
     "name": "stdout",
     "output_type": "stream",
     "text": [
      "8\n",
      "5\n"
     ]
    },
    {
     "data": {
      "text/plain": [
       "5"
      ]
     },
     "execution_count": 8,
     "metadata": {},
     "output_type": "execute_result"
    }
   ],
   "source": [
    "yeniFonk(8)"
   ]
  },
  {
   "cell_type": "code",
   "execution_count": 9,
   "id": "f5f6748c-69ca-4bde-b89d-385d74418425",
   "metadata": {},
   "outputs": [
    {
     "data": {
      "text/plain": [
       "10"
      ]
     },
     "execution_count": 9,
     "metadata": {},
     "output_type": "execute_result"
    }
   ],
   "source": [
    "y\n"
   ]
  },
  {
   "cell_type": "code",
   "execution_count": 11,
   "id": "9669e409-4259-41c7-b083-f67505ec84b5",
   "metadata": {},
   "outputs": [],
   "source": [
    "y =10\n",
    "def ornekFonksiyon():\n",
    "    global y\n",
    "    y=5\n",
    "    print(y)"
   ]
  },
  {
   "cell_type": "code",
   "execution_count": 12,
   "id": "c0220730-f8e4-4e78-a951-1f5c115870a5",
   "metadata": {},
   "outputs": [
    {
     "name": "stdout",
     "output_type": "stream",
     "text": [
      "5\n"
     ]
    }
   ],
   "source": [
    "ornekFonksiyon()"
   ]
  },
  {
   "cell_type": "code",
   "execution_count": null,
   "id": "835ab6bd-a54f-4106-836f-1f61382535b2",
   "metadata": {},
   "outputs": [],
   "source": []
  }
 ],
 "metadata": {
  "kernelspec": {
   "display_name": "Python 3 (ipykernel)",
   "language": "python",
   "name": "python3"
  },
  "language_info": {
   "codemirror_mode": {
    "name": "ipython",
    "version": 3
   },
   "file_extension": ".py",
   "mimetype": "text/x-python",
   "name": "python",
   "nbconvert_exporter": "python",
   "pygments_lexer": "ipython3",
   "version": "3.12.4"
  }
 },
 "nbformat": 4,
 "nbformat_minor": 5
}
