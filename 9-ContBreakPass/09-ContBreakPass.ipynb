{
 "cells": [
  {
   "cell_type": "code",
   "execution_count": 1,
   "id": "ec576d34-1631-4ba5-94f3-f4c670202f13",
   "metadata": {},
   "outputs": [],
   "source": [
    "benimListem = [1,2,3,4]"
   ]
  },
  {
   "cell_type": "code",
   "execution_count": 13,
   "id": "abca0595-2fb9-4836-844e-971572bc8a42",
   "metadata": {},
   "outputs": [
    {
     "name": "stdout",
     "output_type": "stream",
     "text": [
      "1\n"
     ]
    }
   ],
   "source": [
    "for numara in benimListem:\n",
    "    if numara == 2:\n",
    "        break\n",
    "    print(numara)"
   ]
  },
  {
   "cell_type": "code",
   "execution_count": 14,
   "id": "9efce87a-d58e-48a5-b198-dd411cea4e22",
   "metadata": {},
   "outputs": [
    {
     "name": "stdout",
     "output_type": "stream",
     "text": [
      "2\n",
      "3\n",
      "4\n"
     ]
    }
   ],
   "source": [
    "for numara  in  benimListem:\n",
    "    if numara ==1:\n",
    "        continue\n",
    "    print(numara)\n",
    "    "
   ]
  },
  {
   "cell_type": "code",
   "execution_count": null,
   "id": "0429728d-4ace-4381-8ca9-910d5d855d81",
   "metadata": {},
   "outputs": [],
   "source": [
    "for numara in benimListem:\n",
    "    if numara=="
   ]
  }
 ],
 "metadata": {
  "kernelspec": {
   "display_name": "Python 3 (ipykernel)",
   "language": "python",
   "name": "python3"
  },
  "language_info": {
   "codemirror_mode": {
    "name": "ipython",
    "version": 3
   },
   "file_extension": ".py",
   "mimetype": "text/x-python",
   "name": "python",
   "nbconvert_exporter": "python",
   "pygments_lexer": "ipython3",
   "version": "3.12.4"
  }
 },
 "nbformat": 4,
 "nbformat_minor": 5
}
