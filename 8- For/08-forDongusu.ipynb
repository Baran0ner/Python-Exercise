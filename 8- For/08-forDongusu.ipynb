{
 "cells": [
  {
   "cell_type": "code",
   "execution_count": 7,
   "id": "8c3c9dd2-3678-4316-8fa8-dc4be50a05ff",
   "metadata": {},
   "outputs": [],
   "source": [
    "benimListem = [10,20,30]"
   ]
  },
  {
   "cell_type": "code",
   "execution_count": 8,
   "id": "3dcc1242-b397-4bbc-b225-477aaffbd9b5",
   "metadata": {},
   "outputs": [
    {
     "name": "stdout",
     "output_type": "stream",
     "text": [
      "evet\n"
     ]
    }
   ],
   "source": [
    "if 10 in benimListem:\n",
    "    print(\"evet\")\n",
    "else:\n",
    "    print(\"hayır\")\n",
    "    "
   ]
  },
  {
   "cell_type": "code",
   "execution_count": 9,
   "id": "b45246c6-afd0-4a05-973b-22982f4f3064",
   "metadata": {},
   "outputs": [
    {
     "data": {
      "text/plain": [
       "16.666666666666668"
      ]
     },
     "execution_count": 9,
     "metadata": {},
     "output_type": "execute_result"
    }
   ],
   "source": [
    "benimListem[0]*5 /3"
   ]
  },
  {
   "cell_type": "code",
   "execution_count": 11,
   "id": "73376b29-2d43-4f83-a456-e2e3eb82f3ef",
   "metadata": {},
   "outputs": [
    {
     "name": "stdout",
     "output_type": "stream",
     "text": [
      "döngü başladı\n",
      "10\n",
      "20\n",
      "30\n",
      "döngü bitti\n"
     ]
    }
   ],
   "source": [
    "print(\"döngü başladı\")\n",
    "for numara in benimListem:\n",
    "    print(numara)\n",
    "print(\"döngü bitti\")"
   ]
  },
  {
   "cell_type": "code",
   "execution_count": 12,
   "id": "2de271f5-c809-49db-82d6-bbc9d543b331",
   "metadata": {},
   "outputs": [
    {
     "name": "stdout",
     "output_type": "stream",
     "text": [
      "13.333333333333334\n",
      "26.666666666666668\n",
      "40.0\n"
     ]
    }
   ],
   "source": [
    "for num in benimListem:\n",
    "    yeniNumara = num *4 /3\n",
    "    print(yeniNumara)\n"
   ]
  },
  {
   "cell_type": "code",
   "execution_count": 13,
   "id": "8344ea65-7cda-4518-b134-6f8ed26a02d6",
   "metadata": {},
   "outputs": [],
   "source": [
    "rakam = [1,2,3,4,5,6,7,8,9]\n"
   ]
  },
  {
   "cell_type": "code",
   "execution_count": 17,
   "id": "f53d2679-aca2-4285-af66-685ccc82233c",
   "metadata": {},
   "outputs": [
    {
     "name": "stdout",
     "output_type": "stream",
     "text": [
      "1\n",
      "2\n",
      "3\n",
      "4\n",
      "5\n",
      "6\n",
      "7\n",
      "8\n",
      "9\n"
     ]
    }
   ],
   "source": [
    "for rakamm in rakam:\n",
    "    print(rakamm)"
   ]
  },
  {
   "cell_type": "code",
   "execution_count": 19,
   "id": "4f2e366f-41fd-4b7b-8138-5609af5f00e5",
   "metadata": {},
   "outputs": [
    {
     "name": "stdout",
     "output_type": "stream",
     "text": [
      "tek sayi\n",
      "çift sayi\n",
      "tek sayi\n",
      "çift sayi\n",
      "tek sayi\n",
      "çift sayi\n",
      "tek sayi\n",
      "çift sayi\n",
      "tek sayi\n"
     ]
    }
   ],
   "source": [
    "for rakammm in rakam:\n",
    "    if rakammm%2 == 0:\n",
    "        print(\"çift sayi\")\n",
    "    else:\n",
    "        print(\"tek sayi\")"
   ]
  },
  {
   "cell_type": "code",
   "execution_count": 20,
   "id": "7f8000e2-9bb4-4288-9c10-0c6e25724963",
   "metadata": {},
   "outputs": [
    {
     "name": "stdout",
     "output_type": "stream",
     "text": [
      "2\n",
      "4\n",
      "6\n",
      "8\n"
     ]
    }
   ],
   "source": [
    "for rakammm in rakam:\n",
    "    if rakammm%2 == 0:\n",
    "        print(rakammm)\n",
    "   "
   ]
  },
  {
   "cell_type": "code",
   "execution_count": 21,
   "id": "c2f42423-e301-49fc-8ddb-c6ba47143c68",
   "metadata": {},
   "outputs": [],
   "source": [
    "ad =\"Baran Öner\"\n"
   ]
  },
  {
   "cell_type": "code",
   "execution_count": 22,
   "id": "dcfb2632-2682-4c99-b051-681da61000a5",
   "metadata": {},
   "outputs": [
    {
     "name": "stdout",
     "output_type": "stream",
     "text": [
      "B\n",
      "a\n",
      "r\n",
      "a\n",
      "n\n",
      " \n",
      "Ö\n",
      "n\n",
      "e\n",
      "r\n"
     ]
    }
   ],
   "source": [
    "for harf in ad:\n",
    "    print(harf)"
   ]
  },
  {
   "cell_type": "code",
   "execution_count": 23,
   "id": "1a6267a7-e44a-4fcd-ac27-4b2626f1097a",
   "metadata": {},
   "outputs": [],
   "source": [
    "benimTuple = (1,2,3,4,5)\n",
    "\n"
   ]
  },
  {
   "cell_type": "code",
   "execution_count": 25,
   "id": "4a052e6c-3951-4ca9-9061-41e61b913885",
   "metadata": {},
   "outputs": [
    {
     "name": "stdout",
     "output_type": "stream",
     "text": [
      "-9\n",
      "-8\n",
      "-7\n",
      "-6\n",
      "-5\n"
     ]
    }
   ],
   "source": [
    "for eleman in benimTuple:\n",
    "    print(eleman - 10)"
   ]
  },
  {
   "cell_type": "code",
   "execution_count": 36,
   "id": "4fd4ae13-dc31-4448-9384-4b30f16efc64",
   "metadata": {},
   "outputs": [],
   "source": [
    "koodrinatListesi = [(10.2,15.2) , (21.2,45.5)]"
   ]
  },
  {
   "cell_type": "code",
   "execution_count": 28,
   "id": "6faec14c-ce18-4d67-b168-3339b3ebc6bb",
   "metadata": {},
   "outputs": [
    {
     "data": {
      "text/plain": [
       "tuple"
      ]
     },
     "execution_count": 28,
     "metadata": {},
     "output_type": "execute_result"
    }
   ],
   "source": [
    "type(koodrinatListesi[0])"
   ]
  },
  {
   "cell_type": "code",
   "execution_count": 31,
   "id": "6eed2744-898f-4fc8-968d-4a3e63d43bb7",
   "metadata": {},
   "outputs": [
    {
     "name": "stdout",
     "output_type": "stream",
     "text": [
      "10.2\n",
      "21\n"
     ]
    }
   ],
   "source": [
    "for eleman in koodrinatListesi:\n",
    "    print(eleman[0])"
   ]
  },
  {
   "cell_type": "code",
   "execution_count": 37,
   "id": "05640332-7841-4bb1-a18b-1d22d16454b5",
   "metadata": {},
   "outputs": [
    {
     "name": "stdout",
     "output_type": "stream",
     "text": [
      "10.2\n",
      "21.2\n"
     ]
    }
   ],
   "source": [
    "for (x,y) in koodrinatListesi:\n",
    "    print(x)"
   ]
  },
  {
   "cell_type": "code",
   "execution_count": 38,
   "id": "3cafa535-a9a0-43ac-9559-252ca83ef21e",
   "metadata": {},
   "outputs": [],
   "source": [
    "benimGaripListem =[(1,2,3),(4,5,6),(7,8,9)]"
   ]
  },
  {
   "cell_type": "code",
   "execution_count": 39,
   "id": "e06cbda0-2954-4e3a-a632-95b54d5faea7",
   "metadata": {},
   "outputs": [
    {
     "name": "stdout",
     "output_type": "stream",
     "text": [
      "3\n",
      "6\n",
      "9\n"
     ]
    }
   ],
   "source": [
    "for (x,y,z) in benimGaripListem:\n",
    "    print(z)"
   ]
  },
  {
   "cell_type": "code",
   "execution_count": null,
   "id": "269a1527-e0c8-4666-9c33-f23e43bf5d30",
   "metadata": {},
   "outputs": [],
   "source": [
    "benim"
   ]
  }
 ],
 "metadata": {
  "kernelspec": {
   "display_name": "Python 3 (ipykernel)",
   "language": "python",
   "name": "python3"
  },
  "language_info": {
   "codemirror_mode": {
    "name": "ipython",
    "version": 3
   },
   "file_extension": ".py",
   "mimetype": "text/x-python",
   "name": "python",
   "nbconvert_exporter": "python",
   "pygments_lexer": "ipython3",
   "version": "3.12.4"
  }
 },
 "nbformat": 4,
 "nbformat_minor": 5
}
