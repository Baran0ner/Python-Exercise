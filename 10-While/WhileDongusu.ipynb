{
 "cells": [
  {
   "cell_type": "code",
   "execution_count": 10,
   "id": "114107c7-9e05-4427-bb10-fc1e1d041d8c",
   "metadata": {},
   "outputs": [
    {
     "name": "stdout",
     "output_type": "stream",
     "text": [
      "0\n",
      "1\n",
      "2\n",
      "3\n",
      "4\n",
      "5\n",
      "6\n",
      "7\n",
      "8\n",
      "9\n"
     ]
    }
   ],
   "source": [
    "x=0\n",
    "while x < 10:\n",
    "    print(x)\n",
    "    x=x+1"
   ]
  },
  {
   "cell_type": "code",
   "execution_count": 2,
   "id": "f97fb56d-9e71-4ab1-b7f9-c360cb29c3f5",
   "metadata": {},
   "outputs": [],
   "source": [
    "benimListem = [1,2,3,4,5]"
   ]
  },
  {
   "cell_type": "code",
   "execution_count": 11,
   "id": "7e43f89e-b649-46bd-b6ed-4c767378b739",
   "metadata": {},
   "outputs": [
    {
     "data": {
      "text/plain": [
       "2"
      ]
     },
     "execution_count": 11,
     "metadata": {},
     "output_type": "execute_result"
    }
   ],
   "source": [
    "benimListem.pop()\n"
   ]
  },
  {
   "cell_type": "code",
   "execution_count": 12,
   "id": "2f36b77c-521f-429e-8967-4f212ac5f5fe",
   "metadata": {},
   "outputs": [],
   "source": [
    "benimListem.append(2)"
   ]
  },
  {
   "cell_type": "code",
   "execution_count": 13,
   "id": "fc91e4e9-fb28-4866-90ef-75ce5710b9a3",
   "metadata": {},
   "outputs": [
    {
     "data": {
      "text/plain": [
       "[1, 2]"
      ]
     },
     "execution_count": 13,
     "metadata": {},
     "output_type": "execute_result"
    }
   ],
   "source": [
    "benimListem"
   ]
  },
  {
   "cell_type": "code",
   "execution_count": 16,
   "id": "692b49ac-248c-4d96-98e5-f60c10da4902",
   "metadata": {},
   "outputs": [],
   "source": [
    "while 3 in benimListem:\n",
    "    print(\"3 hala listede\")\n",
    "    benimListem.pop()"
   ]
  },
  {
   "cell_type": "code",
   "execution_count": 17,
   "id": "4424d371-3247-4bd6-b13f-d8bda84fbbd8",
   "metadata": {},
   "outputs": [],
   "source": [
    "numara = 0"
   ]
  },
  {
   "cell_type": "code",
   "execution_count": 8,
   "id": "e8a5d31e-40f9-4fb5-9589-3d092ebaf322",
   "metadata": {},
   "outputs": [
    {
     "ename": "IndentationError",
     "evalue": "unindent does not match any outer indentation level (<string>, line 4)",
     "output_type": "error",
     "traceback": [
      "\u001b[1;36m  File \u001b[1;32m<string>:4\u001b[1;36m\u001b[0m\n\u001b[1;33m    print(numara)\u001b[0m\n\u001b[1;37m                 ^\u001b[0m\n\u001b[1;31mIndentationError\u001b[0m\u001b[1;31m:\u001b[0m unindent does not match any outer indentation level\n"
     ]
    }
   ],
   "source": [
    "while numara < 5:\n",
    "     if numara == 4:\n",
    "        break\n",
    "    print(numara)\n",
    "    numara = numara + 1"
   ]
  },
  {
   "cell_type": "code",
   "execution_count": 5,
   "id": "9cacb081-1d82-4aaf-ae13-084ea4dfd0d8",
   "metadata": {},
   "outputs": [
    {
     "name": "stdout",
     "output_type": "stream",
     "text": [
      "yeni degisken güncel : 0\n",
      "yeni degisken güncel : 3\n",
      "yeni degisken güncel : 6\n",
      "yeni degisken güncel : 9\n",
      "yeni degisken güncel : 12\n"
     ]
    }
   ],
   "source": [
    "degisken =0\n",
    "while degisken<5:\n",
    "   print(f\"yeni degisken güncel : {degisken*3 }\")\n",
    "   degisken=degisken+1"
   ]
  },
  {
   "cell_type": "code",
   "execution_count": null,
   "id": "035ceff2-71b7-43cf-a5df-b28fbd44139c",
   "metadata": {},
   "outputs": [],
   "source": []
  },
  {
   "cell_type": "code",
   "execution_count": null,
   "id": "948ff24a-a412-44c6-b15e-d3da33c7e975",
   "metadata": {},
   "outputs": [],
   "source": []
  },
  {
   "cell_type": "code",
   "execution_count": null,
   "id": "7bae0624-52ab-4de8-904e-67f0297f30f3",
   "metadata": {},
   "outputs": [],
   "source": []
  }
 ],
 "metadata": {
  "kernelspec": {
   "display_name": "Python 3 (ipykernel)",
   "language": "python",
   "name": "python3"
  },
  "language_info": {
   "codemirror_mode": {
    "name": "ipython",
    "version": 3
   },
   "file_extension": ".py",
   "mimetype": "text/x-python",
   "name": "python",
   "nbconvert_exporter": "python",
   "pygments_lexer": "ipython3",
   "version": "3.12.4"
  }
 },
 "nbformat": 4,
 "nbformat_minor": 5
}
