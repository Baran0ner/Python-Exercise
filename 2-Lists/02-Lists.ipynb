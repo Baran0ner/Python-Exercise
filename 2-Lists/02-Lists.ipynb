{
 "cells": [
  {
   "cell_type": "code",
   "execution_count": 42,
   "id": "cdc969d3-6a9f-4175-a183-aadfed13b69d",
   "metadata": {},
   "outputs": [],
   "source": [
    "##LISTS"
   ]
  },
  {
   "cell_type": "code",
   "execution_count": 1,
   "id": "947faf23-5942-4137-b8e1-a2fc4f71b623",
   "metadata": {},
   "outputs": [],
   "source": [
    "benimString = \"Baran Öner\""
   ]
  },
  {
   "cell_type": "code",
   "execution_count": 2,
   "id": "7c009334-bf93-434a-ad76-ee654aaef6fb",
   "metadata": {},
   "outputs": [
    {
     "data": {
      "text/plain": [
       "'B'"
      ]
     },
     "execution_count": 2,
     "metadata": {},
     "output_type": "execute_result"
    }
   ],
   "source": [
    "benimString[0]"
   ]
  },
  {
   "cell_type": "code",
   "execution_count": 3,
   "id": "d709af1c-c3d4-4958-a6c1-7378c1705bc0",
   "metadata": {},
   "outputs": [],
   "source": [
    "# immutability & mutable"
   ]
  },
  {
   "cell_type": "code",
   "execution_count": 5,
   "id": "adb8d27b-8e2a-4d89-94ae-7b245a3c45f4",
   "metadata": {},
   "outputs": [],
   "source": [
    " #benimString[0] = \"B\""
   ]
  },
  {
   "cell_type": "code",
   "execution_count": 6,
   "id": "f67f5fa9-8f33-42e8-9aef-d261132ad5a1",
   "metadata": {},
   "outputs": [],
   "source": [
    "benimListem = [10,29,30]"
   ]
  },
  {
   "cell_type": "code",
   "execution_count": 7,
   "id": "b9ac7d39-710d-4073-b84f-c9b85c1c86c6",
   "metadata": {},
   "outputs": [
    {
     "data": {
      "text/plain": [
       "list"
      ]
     },
     "execution_count": 7,
     "metadata": {},
     "output_type": "execute_result"
    }
   ],
   "source": [
    "type(benimListem)"
   ]
  },
  {
   "cell_type": "code",
   "execution_count": 8,
   "id": "9636a542-fa9e-4380-86e5-1ed69c44a437",
   "metadata": {},
   "outputs": [],
   "source": [
    "benimNumaram =10\n"
   ]
  },
  {
   "cell_type": "code",
   "execution_count": 9,
   "id": "4c19c499-6430-4f26-a84f-fb2000298815",
   "metadata": {},
   "outputs": [],
   "source": [
    "benimDigerNuamram =20"
   ]
  },
  {
   "cell_type": "code",
   "execution_count": 10,
   "id": "62b4bb04-05f0-4f8d-a965-efd30f2a9e43",
   "metadata": {},
   "outputs": [],
   "source": [
    "benimNumaraListem=[benimNumaram,benimDigerNuamram]"
   ]
  },
  {
   "cell_type": "code",
   "execution_count": 11,
   "id": "bf235e0f-4608-4ad6-b573-4dc861d8881c",
   "metadata": {},
   "outputs": [
    {
     "data": {
      "text/plain": [
       "10"
      ]
     },
     "execution_count": 11,
     "metadata": {},
     "output_type": "execute_result"
    }
   ],
   "source": [
    "benimListem[0]"
   ]
  },
  {
   "cell_type": "code",
   "execution_count": 12,
   "id": "cb5396cd-0b16-4181-8546-2812de0422fa",
   "metadata": {},
   "outputs": [
    {
     "data": {
      "text/plain": [
       "10"
      ]
     },
     "execution_count": 12,
     "metadata": {},
     "output_type": "execute_result"
    }
   ],
   "source": [
    "benimNumaraListem[0]"
   ]
  },
  {
   "cell_type": "code",
   "execution_count": 14,
   "id": "81ed226a-c145-478b-95ba-b3cf2e4ad755",
   "metadata": {},
   "outputs": [],
   "source": [
    "benimListem.append(50)\n"
   ]
  },
  {
   "cell_type": "code",
   "execution_count": 15,
   "id": "5b472107-8d3c-4011-8a7d-972f3dafed64",
   "metadata": {},
   "outputs": [
    {
     "data": {
      "text/plain": [
       "[10, 29, 30, 50]"
      ]
     },
     "execution_count": 15,
     "metadata": {},
     "output_type": "execute_result"
    }
   ],
   "source": [
    "benimListem"
   ]
  },
  {
   "cell_type": "code",
   "execution_count": 16,
   "id": "101fcd56-3611-40fb-8686-be68fc501892",
   "metadata": {},
   "outputs": [
    {
     "data": {
      "text/plain": [
       "50"
      ]
     },
     "execution_count": 16,
     "metadata": {},
     "output_type": "execute_result"
    }
   ],
   "source": [
    "benimListem.pop()"
   ]
  },
  {
   "cell_type": "code",
   "execution_count": 17,
   "id": "15c53d76-4e4d-4c1b-876e-ab3a528b60c0",
   "metadata": {},
   "outputs": [
    {
     "data": {
      "text/plain": [
       "0"
      ]
     },
     "execution_count": 17,
     "metadata": {},
     "output_type": "execute_result"
    }
   ],
   "source": [
    "benimListem.count(20)"
   ]
  },
  {
   "cell_type": "code",
   "execution_count": 18,
   "id": "4ae96446-52cc-4ab5-ba75-4166b1d315bd",
   "metadata": {},
   "outputs": [],
   "source": [
    "benimListem.append(20)"
   ]
  },
  {
   "cell_type": "code",
   "execution_count": 19,
   "id": "55c5e352-d3f2-4280-b933-d1ab03d72764",
   "metadata": {},
   "outputs": [
    {
     "data": {
      "text/plain": [
       "1"
      ]
     },
     "execution_count": 19,
     "metadata": {},
     "output_type": "execute_result"
    }
   ],
   "source": [
    "benimListem.count(20)"
   ]
  },
  {
   "cell_type": "code",
   "execution_count": 20,
   "id": "67e20049-434f-4896-982a-0a8c1a3439d1",
   "metadata": {},
   "outputs": [
    {
     "data": {
      "text/plain": [
       "[10, 29, 30, 20]"
      ]
     },
     "execution_count": 20,
     "metadata": {},
     "output_type": "execute_result"
    }
   ],
   "source": [
    "benimListem\n"
   ]
  },
  {
   "cell_type": "code",
   "execution_count": 22,
   "id": "1c69c4cd-9f69-470e-9474-ab76254e2d79",
   "metadata": {},
   "outputs": [],
   "source": [
    "benimStringListem = [\"baran\" , \"oner\"]"
   ]
  },
  {
   "cell_type": "code",
   "execution_count": 23,
   "id": "05cc3aa7-e369-4237-ac6f-dd39f2c01b6a",
   "metadata": {},
   "outputs": [],
   "source": [
    "benimDigerStringListe =[\"buse\" , \"demirhan\"]"
   ]
  },
  {
   "cell_type": "code",
   "execution_count": 24,
   "id": "117484f9-5e5b-4d88-8966-879ae1ba33de",
   "metadata": {},
   "outputs": [],
   "source": [
    "benimToplamListem = benimDigerStringListe + benimStringListem"
   ]
  },
  {
   "cell_type": "code",
   "execution_count": 25,
   "id": "e7804f6e-613b-4928-b2c4-4ea5a85aca49",
   "metadata": {},
   "outputs": [
    {
     "data": {
      "text/plain": [
       "['buse', 'demirhan', 'baran', 'oner']"
      ]
     },
     "execution_count": 25,
     "metadata": {},
     "output_type": "execute_result"
    }
   ],
   "source": [
    "benimToplamListem"
   ]
  },
  {
   "cell_type": "code",
   "execution_count": 26,
   "id": "6b96bc5e-63a1-40d2-8fa0-7da01cbea36c",
   "metadata": {},
   "outputs": [
    {
     "data": {
      "text/plain": [
       "['buse',\n",
       " 'demirhan',\n",
       " 'baran',\n",
       " 'oner',\n",
       " 'buse',\n",
       " 'demirhan',\n",
       " 'baran',\n",
       " 'oner',\n",
       " 'buse',\n",
       " 'demirhan',\n",
       " 'baran',\n",
       " 'oner',\n",
       " 'buse',\n",
       " 'demirhan',\n",
       " 'baran',\n",
       " 'oner',\n",
       " 'buse',\n",
       " 'demirhan',\n",
       " 'baran',\n",
       " 'oner']"
      ]
     },
     "execution_count": 26,
     "metadata": {},
     "output_type": "execute_result"
    }
   ],
   "source": [
    "benimToplamListem * 5\n"
   ]
  },
  {
   "cell_type": "code",
   "execution_count": 27,
   "id": "52e6cdc9-a4ec-4735-b125-39ee975d0e3a",
   "metadata": {},
   "outputs": [],
   "source": [
    "benimToplamListem.reverse()"
   ]
  },
  {
   "cell_type": "code",
   "execution_count": 28,
   "id": "7d4646de-957b-4ddd-baad-817251fd1686",
   "metadata": {},
   "outputs": [
    {
     "data": {
      "text/plain": [
       "['oner', 'baran', 'demirhan', 'buse']"
      ]
     },
     "execution_count": 28,
     "metadata": {},
     "output_type": "execute_result"
    }
   ],
   "source": [
    "benimToplamListem"
   ]
  },
  {
   "cell_type": "code",
   "execution_count": 29,
   "id": "88f10f98-2213-42fc-ab06-898d4a7a73e4",
   "metadata": {},
   "outputs": [],
   "source": [
    "karisikListe = [1,2,3,4,\"baran\",3]"
   ]
  },
  {
   "cell_type": "code",
   "execution_count": 30,
   "id": "40f0935e-1fbc-49ec-a132-32f3b187ce00",
   "metadata": {},
   "outputs": [
    {
     "data": {
      "text/plain": [
       "1"
      ]
     },
     "execution_count": 30,
     "metadata": {},
     "output_type": "execute_result"
    }
   ],
   "source": [
    "sonucum= karisikListe[0]\n",
    "karisikListe[0]"
   ]
  },
  {
   "cell_type": "code",
   "execution_count": 32,
   "id": "e7863f77-cb86-4b72-a49e-7e476ea2dd8c",
   "metadata": {},
   "outputs": [
    {
     "data": {
      "text/plain": [
       "int"
      ]
     },
     "execution_count": 32,
     "metadata": {},
     "output_type": "execute_result"
    }
   ],
   "source": [
    "type(sonucum)"
   ]
  },
  {
   "cell_type": "code",
   "execution_count": 34,
   "id": "449f1054-c29c-40e3-8d40-22a03e3182ad",
   "metadata": {},
   "outputs": [],
   "source": [
    "nestedList = [1,2,3,\"baran\",3,[2,\"e\"]]"
   ]
  },
  {
   "cell_type": "code",
   "execution_count": 35,
   "id": "fee08adf-8ac1-47b9-ba0e-880dba198ee3",
   "metadata": {},
   "outputs": [
    {
     "data": {
      "text/plain": [
       "3"
      ]
     },
     "execution_count": 35,
     "metadata": {},
     "output_type": "execute_result"
    }
   ],
   "source": [
    "nestedList[4]"
   ]
  },
  {
   "cell_type": "code",
   "execution_count": 36,
   "id": "f7ac1200-c414-4c1a-8593-3d14abef27e0",
   "metadata": {},
   "outputs": [
    {
     "data": {
      "text/plain": [
       "[2, 'e']"
      ]
     },
     "execution_count": 36,
     "metadata": {},
     "output_type": "execute_result"
    }
   ],
   "source": [
    "nestedList[5]"
   ]
  },
  {
   "cell_type": "code",
   "execution_count": 41,
   "id": "5693b196-8bf8-4a90-be91-c8fae52bd6a7",
   "metadata": {},
   "outputs": [
    {
     "data": {
      "text/plain": [
       "'e'"
      ]
     },
     "execution_count": 41,
     "metadata": {},
     "output_type": "execute_result"
    }
   ],
   "source": [
    "nestedList[5][1]"
   ]
  },
  {
   "cell_type": "code",
   "execution_count": 48,
   "id": "ced7b22d-961e-410e-9a7a-521128561a88",
   "metadata": {},
   "outputs": [],
   "source": [
    "karmasikListe = [1,2,[23,3.4],\"a\",[\"1\"],[\"h\",\"i\"]]"
   ]
  },
  {
   "cell_type": "code",
   "execution_count": 51,
   "id": "9442a474-122f-4579-9e4d-59353c7f024a",
   "metadata": {},
   "outputs": [
    {
     "data": {
      "text/plain": [
       "'i'"
      ]
     },
     "execution_count": 51,
     "metadata": {},
     "output_type": "execute_result"
    }
   ],
   "source": [
    "karmasikListe[5][1]"
   ]
  },
  {
   "cell_type": "code",
   "execution_count": 52,
   "id": "67152e2f-bf98-4a27-a38f-a7f8213b2a4d",
   "metadata": {},
   "outputs": [
    {
     "data": {
      "text/plain": [
       "[1, 2, 3, 'baran', 3, [2, 'e']]"
      ]
     },
     "execution_count": 52,
     "metadata": {},
     "output_type": "execute_result"
    }
   ],
   "source": [
    "nestedList\n"
   ]
  },
  {
   "cell_type": "code",
   "execution_count": 54,
   "id": "b70640f3-a28a-46bc-9700-f922ebb1cf1e",
   "metadata": {},
   "outputs": [
    {
     "data": {
      "text/plain": [
       "[1, 2]"
      ]
     },
     "execution_count": 54,
     "metadata": {},
     "output_type": "execute_result"
    }
   ],
   "source": [
    "nestedList[:2]"
   ]
  },
  {
   "cell_type": "code",
   "execution_count": null,
   "id": "1a0b2070-999a-434d-9339-0118977f5ed7",
   "metadata": {},
   "outputs": [],
   "source": []
  }
 ],
 "metadata": {
  "kernelspec": {
   "display_name": "Python 3 (ipykernel)",
   "language": "python",
   "name": "python3"
  },
  "language_info": {
   "codemirror_mode": {
    "name": "ipython",
    "version": 3
   },
   "file_extension": ".py",
   "mimetype": "text/x-python",
   "name": "python",
   "nbconvert_exporter": "python",
   "pygments_lexer": "ipython3",
   "version": "3.12.4"
  }
 },
 "nbformat": 4,
 "nbformat_minor": 5
}
