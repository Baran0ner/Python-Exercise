{
 "cells": [
  {
   "cell_type": "markdown",
   "id": "fb6a26a9-c5db-40ff-a5be-f8b42e53276f",
   "metadata": {},
   "source": [
    "#Key-value Pairing/anahar kelime - değer eşleşmesi)"
   ]
  },
  {
   "cell_type": "code",
   "execution_count": 1,
   "id": "37963188-fa95-44b2-ab27-731093376a89",
   "metadata": {},
   "outputs": [],
   "source": [
    "benimSozluk = {\"anahtarKelime\" : \"deger\"}"
   ]
  },
  {
   "cell_type": "code",
   "execution_count": 2,
   "id": "6bbe07ee-09e0-4eb6-8101-3a3ad013d5ec",
   "metadata": {},
   "outputs": [
    {
     "data": {
      "text/plain": [
       "dict"
      ]
     },
     "execution_count": 2,
     "metadata": {},
     "output_type": "execute_result"
    }
   ],
   "source": [
    "type(benimSozluk)"
   ]
  },
  {
   "cell_type": "code",
   "execution_count": 3,
   "id": "5b6fd181-ae7f-4dc6-b431-f1f617018105",
   "metadata": {},
   "outputs": [
    {
     "data": {
      "text/plain": [
       "'deger'"
      ]
     },
     "execution_count": 3,
     "metadata": {},
     "output_type": "execute_result"
    }
   ],
   "source": [
    "benimSozluk[\"anahtarKelime\"]"
   ]
  },
  {
   "cell_type": "code",
   "execution_count": 4,
   "id": "6b9909b9-eb0f-4dc6-b2fc-f14932f30dda",
   "metadata": {},
   "outputs": [],
   "source": [
    "benimYemekkaloriSozlugum = {\"elma\" : 100 ,\"karpuz\" : 200 , \"muz\" : 150 }"
   ]
  },
  {
   "cell_type": "code",
   "execution_count": 5,
   "id": "27616bd9-b5f1-4c6a-ad79-67faa6a8dd66",
   "metadata": {},
   "outputs": [
    {
     "data": {
      "text/plain": [
       "200"
      ]
     },
     "execution_count": 5,
     "metadata": {},
     "output_type": "execute_result"
    }
   ],
   "source": [
    "benimYemekkaloriSozlugum[\"karpuz\"]"
   ]
  },
  {
   "cell_type": "code",
   "execution_count": 6,
   "id": "1df31f93-c507-4027-a451-e21cc5063fd8",
   "metadata": {},
   "outputs": [
    {
     "data": {
      "text/plain": [
       "{'elma': 100, 'karpuz': 200, 'muz': 150}"
      ]
     },
     "execution_count": 6,
     "metadata": {},
     "output_type": "execute_result"
    }
   ],
   "source": [
    "benimYemekkaloriSozlugum\n"
   ]
  },
  {
   "cell_type": "code",
   "execution_count": 17,
   "id": "c908088f-7565-4211-b779-e31069afa08f",
   "metadata": {},
   "outputs": [],
   "source": [
    "yeniDictionary = {\"key1\" : 100 ,\"key2\" : [10,20,30,40,\"atıl\"] , \"key3\" : {\"key4\" : 4}}"
   ]
  },
  {
   "cell_type": "code",
   "execution_count": 8,
   "id": "cf238f90-5404-45ba-8476-0e23d33d7a0f",
   "metadata": {},
   "outputs": [
    {
     "data": {
      "text/plain": [
       "dict_keys(['key1', 'key2', 'key3'])"
      ]
     },
     "execution_count": 8,
     "metadata": {},
     "output_type": "execute_result"
    }
   ],
   "source": [
    "yeniDictionary.keys()"
   ]
  },
  {
   "cell_type": "code",
   "execution_count": 9,
   "id": "dfe72081-bd45-4e31-8765-e9e92af84733",
   "metadata": {},
   "outputs": [
    {
     "data": {
      "text/plain": [
       "dict_values([100, [10, 20, 30, 40, 'atıl'], {'key3': 4}])"
      ]
     },
     "execution_count": 9,
     "metadata": {},
     "output_type": "execute_result"
    }
   ],
   "source": [
    "yeniDictionary.values()"
   ]
  },
  {
   "cell_type": "code",
   "execution_count": 14,
   "id": "4f633356-410a-4587-9241-6d85cfeb5b54",
   "metadata": {},
   "outputs": [
    {
     "data": {
      "text/plain": [
       "'atıl'"
      ]
     },
     "execution_count": 14,
     "metadata": {},
     "output_type": "execute_result"
    }
   ],
   "source": [
    "yeniDictionary[\"key2\"][4]"
   ]
  },
  {
   "cell_type": "code",
   "execution_count": 18,
   "id": "024f449f-9a4b-4d68-92d5-27e36460ff3d",
   "metadata": {},
   "outputs": [
    {
     "data": {
      "text/plain": [
       "4"
      ]
     },
     "execution_count": 18,
     "metadata": {},
     "output_type": "execute_result"
    }
   ],
   "source": [
    "yeniDictionary[\"key3\"][\"key4\"]"
   ]
  },
  {
   "cell_type": "code",
   "execution_count": null,
   "id": "571b5fe0-cfdf-4847-ad5d-e1fec6656ed2",
   "metadata": {},
   "outputs": [],
   "source": []
  }
 ],
 "metadata": {
  "kernelspec": {
   "display_name": "Python 3 (ipykernel)",
   "language": "python",
   "name": "python3"
  },
  "language_info": {
   "codemirror_mode": {
    "name": "ipython",
    "version": 3
   },
   "file_extension": ".py",
   "mimetype": "text/x-python",
   "name": "python",
   "nbconvert_exporter": "python",
   "pygments_lexer": "ipython3",
   "version": "3.12.4"
  }
 },
 "nbformat": 4,
 "nbformat_minor": 5
}
