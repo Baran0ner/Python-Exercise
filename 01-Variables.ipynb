{
 "cells": [
  {
   "cell_type": "markdown",
   "id": "8a808f10-0321-4c93-9bdf-5411d3cf8db7",
   "metadata": {},
   "source": [
    "  ## Variables\n",
    "  "
   ]
  },
  {
   "cell_type": "code",
   "execution_count": 1,
   "id": "0601b87a-64cf-49fb-a14b-45bd73f344dd",
   "metadata": {},
   "outputs": [],
   "source": [
    "x = 4"
   ]
  },
  {
   "cell_type": "code",
   "execution_count": 4,
   "id": "331879ad-a84e-40cb-ae80-66bcaec597e4",
   "metadata": {},
   "outputs": [],
   "source": [
    "y = 4"
   ]
  },
  {
   "cell_type": "code",
   "execution_count": 6,
   "id": "35151468-4726-4810-aab6-a334f2f51651",
   "metadata": {},
   "outputs": [
    {
     "data": {
      "text/plain": [
       "16"
      ]
     },
     "execution_count": 6,
     "metadata": {},
     "output_type": "execute_result"
    }
   ],
   "source": [
    "x * y "
   ]
  },
  {
   "cell_type": "code",
   "execution_count": 16,
   "id": "af3bf2e4-779a-41a3-9622-9d5cd262b606",
   "metadata": {},
   "outputs": [
    {
     "data": {
      "text/plain": [
       "8"
      ]
     },
     "execution_count": 16,
     "metadata": {},
     "output_type": "execute_result"
    }
   ],
   "source": [
    "x + y"
   ]
  },
  {
   "cell_type": "markdown",
   "id": "3048fc44-c694-4f0b-939d-dd35a32d6432",
   "metadata": {},
   "source": [
    "# Integer"
   ]
  },
  {
   "cell_type": "code",
   "execution_count": 9,
   "id": "ee05d71e-9794-44b3-a373-e2cbee319d56",
   "metadata": {},
   "outputs": [],
   "source": [
    "benimDegiskenim =10\n",
    "benimDiğerDegiskenim=20"
   ]
  },
  {
   "cell_type": "code",
   "execution_count": 10,
   "id": "394cefad-7084-4297-93f0-60df018e7fb7",
   "metadata": {},
   "outputs": [
    {
     "data": {
      "text/plain": [
       "30"
      ]
     },
     "execution_count": 10,
     "metadata": {},
     "output_type": "execute_result"
    }
   ],
   "source": [
    "benimDegiskenim + benimDiğerDegiskenim"
   ]
  },
  {
   "cell_type": "code",
   "execution_count": 11,
   "id": "ec31c871-1971-4667-8ee1-ab681e1b2103",
   "metadata": {},
   "outputs": [
    {
     "data": {
      "text/plain": [
       "int"
      ]
     },
     "execution_count": 11,
     "metadata": {},
     "output_type": "execute_result"
    }
   ],
   "source": [
    "type(benimDegiskenim)"
   ]
  },
  {
   "cell_type": "code",
   "execution_count": 12,
   "id": "628d0215-04aa-4d0a-bd11-7677ccb2dbc7",
   "metadata": {},
   "outputs": [],
   "source": [
    "sonuc= benimDiğerDegiskenim/benimDegiskenim"
   ]
  },
  {
   "cell_type": "code",
   "execution_count": 13,
   "id": "36be737a-0b09-4505-9c5e-d0c938ae11cd",
   "metadata": {},
   "outputs": [
    {
     "data": {
      "text/plain": [
       "float"
      ]
     },
     "execution_count": 13,
     "metadata": {},
     "output_type": "execute_result"
    }
   ],
   "source": [
    "type(sonuc)"
   ]
  },
  {
   "cell_type": "markdown",
   "id": "161f9c23-7c74-4671-87a3-1f42901513c0",
   "metadata": {},
   "source": [
    "# mathematical oprations\n"
   ]
  },
  {
   "cell_type": "code",
   "execution_count": 18,
   "id": "d2f9c160-9753-4bad-9b29-228be340ef57",
   "metadata": {},
   "outputs": [],
   "source": [
    "x=3\n",
    "Y=6"
   ]
  },
  {
   "cell_type": "code",
   "execution_count": 27,
   "id": "e52b3489-169f-43f8-831d-ed656c7cb315",
   "metadata": {},
   "outputs": [
    {
     "data": {
      "text/plain": [
       "729"
      ]
     },
     "execution_count": 27,
     "metadata": {},
     "output_type": "execute_result"
    }
   ],
   "source": [
    "#üstü ifade\n",
    "x**6   "
   ]
  },
  {
   "cell_type": "code",
   "execution_count": 24,
   "id": "93fe2f32-62dc-490e-9b99-a658743239c9",
   "metadata": {},
   "outputs": [
    {
     "data": {
      "text/plain": [
       "1"
      ]
     },
     "execution_count": 24,
     "metadata": {},
     "output_type": "execute_result"
    }
   ],
   "source": [
    "#Kalan bulmak için\n",
    "10%3"
   ]
  },
  {
   "cell_type": "code",
   "execution_count": 28,
   "id": "d6c1cc07-554a-45b4-9b40-baf6481d1d8f",
   "metadata": {},
   "outputs": [],
   "source": [
    "kullanicininYasi = 10  #camelCase  #snake_case\n"
   ]
  },
  {
   "cell_type": "code",
   "execution_count": 29,
   "id": "dab5ca5e-d5b1-4061-98ba-c3cf5f3922c9",
   "metadata": {},
   "outputs": [
    {
     "data": {
      "text/plain": [
       "5.0"
      ]
     },
     "execution_count": 29,
     "metadata": {},
     "output_type": "execute_result"
    }
   ],
   "source": [
    "kullanicininYasi /2"
   ]
  },
  {
   "cell_type": "code",
   "execution_count": 30,
   "id": "04ff207b-2f97-44a7-86f2-9a113e8722ec",
   "metadata": {},
   "outputs": [
    {
     "data": {
      "text/plain": [
       "int"
      ]
     },
     "execution_count": 30,
     "metadata": {},
     "output_type": "execute_result"
    }
   ],
   "source": [
    "type(kullanicininYasi)"
   ]
  },
  {
   "cell_type": "code",
   "execution_count": 32,
   "id": "1c55bd41-bf81-4e73-a302-2454dbd58a2e",
   "metadata": {},
   "outputs": [
    {
     "name": "stdin",
     "output_type": "stream",
     "text": [
      "yaşınızı Girin 40\n"
     ]
    }
   ],
   "source": [
    " kullanicininYasi=  input(\"yaşınızı Girin\")"
   ]
  },
  {
   "cell_type": "code",
   "execution_count": 33,
   "id": "0d400056-ee9f-44eb-a530-d5dc1b2210f7",
   "metadata": {},
   "outputs": [
    {
     "data": {
      "text/plain": [
       "'40'"
      ]
     },
     "execution_count": 33,
     "metadata": {},
     "output_type": "execute_result"
    }
   ],
   "source": [
    "kullanicininYasi\n"
   ]
  },
  {
   "cell_type": "code",
   "execution_count": 34,
   "id": "465b32d1-3dc3-466f-94d6-af169e360c5d",
   "metadata": {},
   "outputs": [
    {
     "data": {
      "text/plain": [
       "str"
      ]
     },
     "execution_count": 34,
     "metadata": {},
     "output_type": "execute_result"
    }
   ],
   "source": [
    "type(kullanicininYasi)\n"
   ]
  },
  {
   "cell_type": "markdown",
   "id": "950fe082-bd12-4fbe-a5f2-be8f2c2a1c48",
   "metadata": {},
   "source": [
    "## String\n"
   ]
  },
  {
   "cell_type": "code",
   "execution_count": 35,
   "id": "0939777e-49d9-4508-b8d0-fb45ca60d69d",
   "metadata": {},
   "outputs": [
    {
     "data": {
      "text/plain": [
       "'merhaba dünya'"
      ]
     },
     "execution_count": 35,
     "metadata": {},
     "output_type": "execute_result"
    }
   ],
   "source": [
    "\"merhaba dünya\""
   ]
  },
  {
   "cell_type": "code",
   "execution_count": 43,
   "id": "1179e1c1-383c-4c9d-b515-f1474b63ff53",
   "metadata": {},
   "outputs": [],
   "source": [
    "y=\"dünya merhaba\"\n",
    "\n"
   ]
  },
  {
   "cell_type": "code",
   "execution_count": 39,
   "id": "a41b4614-a4e1-4a42-b3ec-8a097f94a202",
   "metadata": {},
   "outputs": [
    {
     "data": {
      "text/plain": [
       "'Dünya'"
      ]
     },
     "execution_count": 39,
     "metadata": {},
     "output_type": "execute_result"
    }
   ],
   "source": [
    "y.capitalize()"
   ]
  },
  {
   "cell_type": "code",
   "execution_count": 44,
   "id": "a21f3714-2fc3-4e1b-9387-70ef2d4ef438",
   "metadata": {},
   "outputs": [
    {
     "data": {
      "text/plain": [
       "['dünya', 'merhaba']"
      ]
     },
     "execution_count": 44,
     "metadata": {},
     "output_type": "execute_result"
    }
   ],
   "source": [
    "y.split()\n",
    "\n"
   ]
  },
  {
   "cell_type": "code",
   "execution_count": 46,
   "id": "0eec70bf-f0fd-4a0f-8b12-fad8bff1b7f2",
   "metadata": {},
   "outputs": [],
   "source": [
    "benimString=\" Baran Öner\""
   ]
  },
  {
   "cell_type": "code",
   "execution_count": 47,
   "id": "116f2437-f1c4-478f-8959-4e927a22773c",
   "metadata": {},
   "outputs": [
    {
     "data": {
      "text/plain": [
       "' Baran Öner Baran Öner Baran Öner'"
      ]
     },
     "execution_count": 47,
     "metadata": {},
     "output_type": "execute_result"
    }
   ],
   "source": [
    "benimString*3"
   ]
  },
  {
   "cell_type": "code",
   "execution_count": 49,
   "id": "2f04b59a-9d99-477a-afb1-7ff65ae3343f",
   "metadata": {},
   "outputs": [
    {
     "name": "stdin",
     "output_type": "stream",
     "text": [
      "Yaş gir :  30\n"
     ]
    }
   ],
   "source": [
    "benimInput = input(\"Yaş gir : \")\n"
   ]
  },
  {
   "cell_type": "code",
   "execution_count": 55,
   "id": "2d453d13-833a-4e92-82ec-b9804ffabcc4",
   "metadata": {},
   "outputs": [],
   "source": [
    "benimIntInput= int(benimInput) / 2"
   ]
  },
  {
   "cell_type": "code",
   "execution_count": 56,
   "id": "f27df194-852b-4981-a4d0-747c21a55ee2",
   "metadata": {},
   "outputs": [
    {
     "data": {
      "text/plain": [
       "15.0"
      ]
     },
     "execution_count": 56,
     "metadata": {},
     "output_type": "execute_result"
    }
   ],
   "source": [
    "benimIntInput"
   ]
  },
  {
   "cell_type": "code",
   "execution_count": 58,
   "id": "ea187128-7760-464e-8c10-c04419268d26",
   "metadata": {},
   "outputs": [
    {
     "data": {
      "text/plain": [
       "2"
      ]
     },
     "execution_count": 58,
     "metadata": {},
     "output_type": "execute_result"
    }
   ],
   "source": [
    "len(benimInput)"
   ]
  },
  {
   "cell_type": "code",
   "execution_count": 60,
   "id": "21bb838c-c646-400e-94c2-ef463236e2ec",
   "metadata": {},
   "outputs": [],
   "source": [
    "isimString = \"Baran Öner\""
   ]
  },
  {
   "cell_type": "code",
   "execution_count": 61,
   "id": "20270003-0ce7-4203-a3b9-7b3bb5ceb271",
   "metadata": {},
   "outputs": [
    {
     "data": {
      "text/plain": [
       "'B'"
      ]
     },
     "execution_count": 61,
     "metadata": {},
     "output_type": "execute_result"
    }
   ],
   "source": [
    "isimString[0]"
   ]
  },
  {
   "cell_type": "code",
   "execution_count": 7,
   "id": "2483d074-03ea-473e-868b-11f68e65c17f",
   "metadata": {},
   "outputs": [],
   "source": [
    "isimString =\"Baran\"\n"
   ]
  },
  {
   "cell_type": "code",
   "execution_count": 10,
   "id": "e1589bb1-be74-4c36-9c72-da8b2aed1274",
   "metadata": {},
   "outputs": [
    {
     "data": {
      "text/plain": [
       "'Baran'"
      ]
     },
     "execution_count": 10,
     "metadata": {},
     "output_type": "execute_result"
    }
   ],
   "source": [
    "isimString\n"
   ]
  },
  {
   "cell_type": "markdown",
   "id": "5b9488e0-293a-4cb9-b65e-560243c74781",
   "metadata": {},
   "source": [
    "## INDEX"
   ]
  },
  {
   "cell_type": "code",
   "execution_count": 9,
   "id": "1606e0a8-4af4-4f04-8141-89f9d77b911e",
   "metadata": {},
   "outputs": [
    {
     "data": {
      "text/plain": [
       "'B'"
      ]
     },
     "execution_count": 9,
     "metadata": {},
     "output_type": "execute_result"
    }
   ],
   "source": [
    "isimString[0]"
   ]
  },
  {
   "cell_type": "code",
   "execution_count": 11,
   "id": "165e3911-f8f8-4cfd-a5cf-46120e251f7c",
   "metadata": {},
   "outputs": [
    {
     "data": {
      "text/plain": [
       "'n'"
      ]
     },
     "execution_count": 11,
     "metadata": {},
     "output_type": "execute_result"
    }
   ],
   "source": [
    "isimString[-1]"
   ]
  },
  {
   "cell_type": "code",
   "execution_count": 12,
   "id": "1b91c4a6-3e52-4dd1-9696-7b2161172840",
   "metadata": {},
   "outputs": [],
   "source": [
    "harfString =\"abcdefg\""
   ]
  },
  {
   "cell_type": "code",
   "execution_count": 13,
   "id": "c38edf03-ddff-49f3-a988-7a4757b89e5c",
   "metadata": {},
   "outputs": [
    {
     "data": {
      "text/plain": [
       "'abcdefg'"
      ]
     },
     "execution_count": 13,
     "metadata": {},
     "output_type": "execute_result"
    }
   ],
   "source": [
    "harfString\n"
   ]
  },
  {
   "cell_type": "code",
   "execution_count": 14,
   "id": "d8c12e70-6c84-449c-8684-cb64b3e8f4d1",
   "metadata": {},
   "outputs": [
    {
     "data": {
      "text/plain": [
       "'cdefg'"
      ]
     },
     "execution_count": 14,
     "metadata": {},
     "output_type": "execute_result"
    }
   ],
   "source": [
    "harfString[2:]"
   ]
  },
  {
   "cell_type": "code",
   "execution_count": 15,
   "id": "0c7ca31a-26ea-4568-b785-355961da9a44",
   "metadata": {},
   "outputs": [
    {
     "data": {
      "text/plain": [
       "'abc'"
      ]
     },
     "execution_count": 15,
     "metadata": {},
     "output_type": "execute_result"
    }
   ],
   "source": [
    "harfString[:3]"
   ]
  },
  {
   "cell_type": "markdown",
   "id": "1e66c27e-4f5a-4bac-992a-9eff8c0cb776",
   "metadata": {},
   "source": [
    "## Slicing"
   ]
  },
  {
   "cell_type": "code",
   "execution_count": 3,
   "id": "29326488-a8c2-40cf-b6a8-994ce7890c9e",
   "metadata": {},
   "outputs": [],
   "source": [
    "gelenVeri = \"AhmetinYasi44\""
   ]
  },
  {
   "cell_type": "code",
   "execution_count": 19,
   "id": "4346b370-8885-45e0-b559-7bb78a1424fc",
   "metadata": {},
   "outputs": [
    {
     "data": {
      "text/plain": [
       "'44'"
      ]
     },
     "execution_count": 19,
     "metadata": {},
     "output_type": "execute_result"
    }
   ],
   "source": [
    "gelenVeri[-2:]"
   ]
  },
  {
   "cell_type": "code",
   "execution_count": 20,
   "id": "d67ed976-7393-4cbd-a9ca-40312e7939e8",
   "metadata": {},
   "outputs": [
    {
     "data": {
      "text/plain": [
       "'me'"
      ]
     },
     "execution_count": 20,
     "metadata": {},
     "output_type": "execute_result"
    }
   ],
   "source": [
    "gelenVeri[2:4]"
   ]
  },
  {
   "cell_type": "code",
   "execution_count": 21,
   "id": "8e993af0-53e3-4df0-928e-fb6f1724da13",
   "metadata": {},
   "outputs": [
    {
     "data": {
      "text/plain": [
       "'AhmetinYasi44'"
      ]
     },
     "execution_count": 21,
     "metadata": {},
     "output_type": "execute_result"
    }
   ],
   "source": [
    "gelenVeri[:]"
   ]
  },
  {
   "cell_type": "code",
   "execution_count": 22,
   "id": "5d22fb47-027a-46ef-b2d6-1cc87abd1535",
   "metadata": {},
   "outputs": [
    {
     "data": {
      "text/plain": [
       "'Amtnai4'"
      ]
     },
     "execution_count": 22,
     "metadata": {},
     "output_type": "execute_result"
    }
   ],
   "source": [
    "gelenVeri[::2]"
   ]
  },
  {
   "cell_type": "code",
   "execution_count": 4,
   "id": "c893aa25-76b6-48f7-9ee0-022156adebb2",
   "metadata": {},
   "outputs": [
    {
     "data": {
      "text/plain": [
       "'44isaYnitemhA'"
      ]
     },
     "execution_count": 4,
     "metadata": {},
     "output_type": "execute_result"
    }
   ],
   "source": [
    "gelenVeri[::-1]\n"
   ]
  },
  {
   "cell_type": "code",
   "execution_count": 14,
   "id": "16f48935-c18f-44f7-a8ec-171d9db7057c",
   "metadata": {},
   "outputs": [],
   "source": [
    "benimIsmimm=\"baran Oner\""
   ]
  },
  {
   "cell_type": "code",
   "execution_count": 15,
   "id": "109b2941-85f4-40c5-81ab-c2d3221b9937",
   "metadata": {},
   "outputs": [
    {
     "data": {
      "text/plain": [
       "'Baran oner'"
      ]
     },
     "execution_count": 15,
     "metadata": {},
     "output_type": "execute_result"
    }
   ],
   "source": [
    "benimIsmimm.capitalize()"
   ]
  },
  {
   "cell_type": "code",
   "execution_count": 17,
   "id": "76740a87-26e6-4969-a112-c5ed70fc9651",
   "metadata": {},
   "outputs": [
    {
     "data": {
      "text/plain": [
       "['baran', 'Oner']"
      ]
     },
     "execution_count": 17,
     "metadata": {},
     "output_type": "execute_result"
    }
   ],
   "source": [
    "benimIsmimm.split()"
   ]
  },
  {
   "cell_type": "code",
   "execution_count": 18,
   "id": "eb466cc4-c3f3-4a7e-bae9-fff2f87fd94f",
   "metadata": {},
   "outputs": [],
   "source": [
    "listeler = benimIsmimm.split()"
   ]
  },
  {
   "cell_type": "code",
   "execution_count": 19,
   "id": "92418f81-9519-4b9c-84bb-cd3359a80506",
   "metadata": {},
   "outputs": [
    {
     "data": {
      "text/plain": [
       "'Oner'"
      ]
     },
     "execution_count": 19,
     "metadata": {},
     "output_type": "execute_result"
    }
   ],
   "source": [
    "listeler[1]"
   ]
  },
  {
   "cell_type": "code",
   "execution_count": 20,
   "id": "4047bf01-a5c7-4cc7-9724-df746bc9916d",
   "metadata": {},
   "outputs": [
    {
     "data": {
      "text/plain": [
       "'baran oner'"
      ]
     },
     "execution_count": 20,
     "metadata": {},
     "output_type": "execute_result"
    }
   ],
   "source": [
    "benimIsmimm.lower()"
   ]
  },
  {
   "cell_type": "code",
   "execution_count": 21,
   "id": "b78f7edd-7a76-40af-a750-aabd74ff45f2",
   "metadata": {},
   "outputs": [],
   "source": [
    "benimSoyIsmimm = \"oner\""
   ]
  },
  {
   "cell_type": "code",
   "execution_count": 23,
   "id": "54972de6-5990-4a8b-b002-a220e4a58c1a",
   "metadata": {},
   "outputs": [
    {
     "data": {
      "text/plain": [
       "'baran Oner oner'"
      ]
     },
     "execution_count": 23,
     "metadata": {},
     "output_type": "execute_result"
    }
   ],
   "source": [
    "benimIsmimm + \" \" + benimSoyIsmimm"
   ]
  },
  {
   "cell_type": "code",
   "execution_count": null,
   "id": "4f65f685-67ab-49c6-ba27-f973f09a2125",
   "metadata": {},
   "outputs": [],
   "source": []
  }
 ],
 "metadata": {
  "kernelspec": {
   "display_name": "Python 3 (ipykernel)",
   "language": "python",
   "name": "python3"
  },
  "language_info": {
   "codemirror_mode": {
    "name": "ipython",
    "version": 3
   },
   "file_extension": ".py",
   "mimetype": "text/x-python",
   "name": "python",
   "nbconvert_exporter": "python",
   "pygments_lexer": "ipython3",
   "version": "3.12.4"
  }
 },
 "nbformat": 4,
 "nbformat_minor": 5
}
