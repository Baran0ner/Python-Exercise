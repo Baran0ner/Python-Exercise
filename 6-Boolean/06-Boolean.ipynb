{
 "cells": [
  {
   "cell_type": "code",
   "execution_count": 1,
   "id": "63cca9b3-0048-4728-8a05-debef12158bd",
   "metadata": {},
   "outputs": [],
   "source": [
    "benimBoolean =True"
   ]
  },
  {
   "cell_type": "code",
   "execution_count": 2,
   "id": "c9af4846-33ce-445f-895f-47ced4acc8e1",
   "metadata": {},
   "outputs": [
    {
     "data": {
      "text/plain": [
       "True"
      ]
     },
     "execution_count": 2,
     "metadata": {},
     "output_type": "execute_result"
    }
   ],
   "source": [
    "benimBoolean"
   ]
  },
  {
   "cell_type": "code",
   "execution_count": 3,
   "id": "e350453a-27b2-4246-8b66-5a9448145e04",
   "metadata": {},
   "outputs": [
    {
     "data": {
      "text/plain": [
       "bool"
      ]
     },
     "execution_count": 3,
     "metadata": {},
     "output_type": "execute_result"
    }
   ],
   "source": [
    "type(benimBoolean)"
   ]
  },
  {
   "cell_type": "code",
   "execution_count": 4,
   "id": "feed37a6-4e82-4aad-a6fe-c3e56c29a12e",
   "metadata": {},
   "outputs": [
    {
     "data": {
      "text/plain": [
       "False"
      ]
     },
     "execution_count": 4,
     "metadata": {},
     "output_type": "execute_result"
    }
   ],
   "source": [
    "10<5"
   ]
  },
  {
   "cell_type": "code",
   "execution_count": 5,
   "id": "b7fe2b86-194e-454f-be7f-ab92142c875a",
   "metadata": {},
   "outputs": [
    {
     "data": {
      "text/plain": [
       "True"
      ]
     },
     "execution_count": 5,
     "metadata": {},
     "output_type": "execute_result"
    }
   ],
   "source": [
    "10>5"
   ]
  },
  {
   "cell_type": "code",
   "execution_count": 6,
   "id": "085d1cbc-46d7-48b5-947d-7321284acbfd",
   "metadata": {},
   "outputs": [],
   "source": [
    "listem =[500,100,444]"
   ]
  },
  {
   "cell_type": "code",
   "execution_count": 7,
   "id": "2a75c059-a43a-43c8-9a72-b46369e5fb96",
   "metadata": {},
   "outputs": [
    {
     "data": {
      "text/plain": [
       "3"
      ]
     },
     "execution_count": 7,
     "metadata": {},
     "output_type": "execute_result"
    }
   ],
   "source": [
    "len(listem)"
   ]
  },
  {
   "cell_type": "code",
   "execution_count": 8,
   "id": "7a546747-95f1-45d6-ae97-b1c3a2b6a093",
   "metadata": {},
   "outputs": [
    {
     "data": {
      "text/plain": [
       "<function sum(iterable, /, start=0)>"
      ]
     },
     "execution_count": 8,
     "metadata": {},
     "output_type": "execute_result"
    }
   ],
   "source": [
    "sum\n"
   ]
  },
  {
   "cell_type": "code",
   "execution_count": 10,
   "id": "fdd0bf09-34dd-4f5a-a695-73339ce09618",
   "metadata": {},
   "outputs": [
    {
     "data": {
      "text/plain": [
       "1044"
      ]
     },
     "execution_count": 10,
     "metadata": {},
     "output_type": "execute_result"
    }
   ],
   "source": []
  },
  {
   "cell_type": "code",
   "execution_count": 12,
   "id": "fbd1f79e-88e0-4fc3-ae1d-4fd5ae0ad6ee",
   "metadata": {},
   "outputs": [],
   "source": [
    "ortalama = sum(listem) /len(listem)"
   ]
  },
  {
   "cell_type": "code",
   "execution_count": 13,
   "id": "9d5c044b-ddf5-4360-9e1b-43fc4c14b554",
   "metadata": {},
   "outputs": [
    {
     "data": {
      "text/plain": [
       "348.0"
      ]
     },
     "execution_count": 13,
     "metadata": {},
     "output_type": "execute_result"
    }
   ],
   "source": [
    "ortalama"
   ]
  },
  {
   "cell_type": "code",
   "execution_count": 15,
   "id": "0b417049-f67b-4751-b034-fe9832e2903c",
   "metadata": {},
   "outputs": [
    {
     "data": {
      "text/plain": [
       "False"
      ]
     },
     "execution_count": 15,
     "metadata": {},
     "output_type": "execute_result"
    }
   ],
   "source": [
    "listem[2]>listem[0]"
   ]
  },
  {
   "cell_type": "code",
   "execution_count": 16,
   "id": "8b6b0fcc-4a8d-4bfe-aad9-bbe9ac667197",
   "metadata": {},
   "outputs": [
    {
     "name": "stdin",
     "output_type": "stream",
     "text": [
      "Maaş bilgisi giriniz 2\n"
     ]
    }
   ],
   "source": [
    "kullaniciMaas=input(\"Maaş bilgisi giriniz\")\n"
   ]
  },
  {
   "cell_type": "code",
   "execution_count": 17,
   "id": "8ff38117-c728-4533-a39e-7839e77c293f",
   "metadata": {},
   "outputs": [
    {
     "data": {
      "text/plain": [
       "'2'"
      ]
     },
     "execution_count": 17,
     "metadata": {},
     "output_type": "execute_result"
    }
   ],
   "source": [
    "kullaniciMaas\n"
   ]
  },
  {
   "cell_type": "code",
   "execution_count": null,
   "id": "bfe4f23b-a267-4077-95a1-897f247b9cab",
   "metadata": {},
   "outputs": [],
   "source": []
  }
 ],
 "metadata": {
  "kernelspec": {
   "display_name": "Python 3 (ipykernel)",
   "language": "python",
   "name": "python3"
  },
  "language_info": {
   "codemirror_mode": {
    "name": "ipython",
    "version": 3
   },
   "file_extension": ".py",
   "mimetype": "text/x-python",
   "name": "python",
   "nbconvert_exporter": "python",
   "pygments_lexer": "ipython3",
   "version": "3.12.4"
  }
 },
 "nbformat": 4,
 "nbformat_minor": 5
}
