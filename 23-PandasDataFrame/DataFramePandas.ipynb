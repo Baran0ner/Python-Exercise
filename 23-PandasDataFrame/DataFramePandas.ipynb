{
 "cells": [
  {
   "cell_type": "code",
   "execution_count": 6,
   "id": "66d07bc8-23ca-4acf-9b32-f6ea93c5e9dd",
   "metadata": {},
   "outputs": [],
   "source": [
    "import pandas as pd"
   ]
  },
  {
   "cell_type": "code",
   "execution_count": 7,
   "id": "414bf975-78d0-4877-b0f9-b679181eb661",
   "metadata": {},
   "outputs": [],
   "source": [
    "import numpy as np"
   ]
  },
  {
   "cell_type": "code",
   "execution_count": 8,
   "id": "e7425119-067a-4e57-b5df-d29dc69e7fda",
   "metadata": {},
   "outputs": [],
   "source": [
    "data =np.random.rand(4,3)"
   ]
  },
  {
   "cell_type": "code",
   "execution_count": 9,
   "id": "457ec009-f577-42d9-84e5-f237228dcf52",
   "metadata": {},
   "outputs": [
    {
     "data": {
      "text/plain": [
       "array([[0.10549145, 0.57429265, 0.26849982],\n",
       "       [0.83475804, 0.66613212, 0.31841681],\n",
       "       [0.29613812, 0.25028651, 0.38840984],\n",
       "       [0.36579024, 0.48143449, 0.69834857]])"
      ]
     },
     "execution_count": 9,
     "metadata": {},
     "output_type": "execute_result"
    }
   ],
   "source": [
    "data"
   ]
  },
  {
   "cell_type": "code",
   "execution_count": 10,
   "id": "4ecde370-9d17-49a3-b05a-d133aa9bc85f",
   "metadata": {},
   "outputs": [],
   "source": [
    " dataFrame = pd.DataFrame(data)"
   ]
  },
  {
   "cell_type": "code",
   "execution_count": 11,
   "id": "6f914fe5-7a59-4e0f-b6de-2ffc6186f945",
   "metadata": {},
   "outputs": [
    {
     "data": {
      "text/html": [
       "<div>\n",
       "<style scoped>\n",
       "    .dataframe tbody tr th:only-of-type {\n",
       "        vertical-align: middle;\n",
       "    }\n",
       "\n",
       "    .dataframe tbody tr th {\n",
       "        vertical-align: top;\n",
       "    }\n",
       "\n",
       "    .dataframe thead th {\n",
       "        text-align: right;\n",
       "    }\n",
       "</style>\n",
       "<table border=\"1\" class=\"dataframe\">\n",
       "  <thead>\n",
       "    <tr style=\"text-align: right;\">\n",
       "      <th></th>\n",
       "      <th>0</th>\n",
       "      <th>1</th>\n",
       "      <th>2</th>\n",
       "    </tr>\n",
       "  </thead>\n",
       "  <tbody>\n",
       "    <tr>\n",
       "      <th>0</th>\n",
       "      <td>0.105491</td>\n",
       "      <td>0.574293</td>\n",
       "      <td>0.268500</td>\n",
       "    </tr>\n",
       "    <tr>\n",
       "      <th>1</th>\n",
       "      <td>0.834758</td>\n",
       "      <td>0.666132</td>\n",
       "      <td>0.318417</td>\n",
       "    </tr>\n",
       "    <tr>\n",
       "      <th>2</th>\n",
       "      <td>0.296138</td>\n",
       "      <td>0.250287</td>\n",
       "      <td>0.388410</td>\n",
       "    </tr>\n",
       "    <tr>\n",
       "      <th>3</th>\n",
       "      <td>0.365790</td>\n",
       "      <td>0.481434</td>\n",
       "      <td>0.698349</td>\n",
       "    </tr>\n",
       "  </tbody>\n",
       "</table>\n",
       "</div>"
      ],
      "text/plain": [
       "          0         1         2\n",
       "0  0.105491  0.574293  0.268500\n",
       "1  0.834758  0.666132  0.318417\n",
       "2  0.296138  0.250287  0.388410\n",
       "3  0.365790  0.481434  0.698349"
      ]
     },
     "execution_count": 11,
     "metadata": {},
     "output_type": "execute_result"
    }
   ],
   "source": [
    "dataFrame"
   ]
  },
  {
   "cell_type": "code",
   "execution_count": 12,
   "id": "c9abbf41-f747-4a2e-9d0a-b4b9cc5ab8f9",
   "metadata": {},
   "outputs": [],
   "source": [
    "yeniDataFrame = pd.DataFrame(data,index=[\"Baran\",\"Öner\",\"Arda\",\"Çolak\"],columns = [\"Maas\",\"Yas\",\"Calısma Saati\"])"
   ]
  },
  {
   "cell_type": "code",
   "execution_count": 13,
   "id": "d8cf371a-4ce0-4f80-8eae-ec9aa447f139",
   "metadata": {},
   "outputs": [
    {
     "data": {
      "text/html": [
       "<div>\n",
       "<style scoped>\n",
       "    .dataframe tbody tr th:only-of-type {\n",
       "        vertical-align: middle;\n",
       "    }\n",
       "\n",
       "    .dataframe tbody tr th {\n",
       "        vertical-align: top;\n",
       "    }\n",
       "\n",
       "    .dataframe thead th {\n",
       "        text-align: right;\n",
       "    }\n",
       "</style>\n",
       "<table border=\"1\" class=\"dataframe\">\n",
       "  <thead>\n",
       "    <tr style=\"text-align: right;\">\n",
       "      <th></th>\n",
       "      <th>Maas</th>\n",
       "      <th>Yas</th>\n",
       "      <th>Calısma Saati</th>\n",
       "    </tr>\n",
       "  </thead>\n",
       "  <tbody>\n",
       "    <tr>\n",
       "      <th>Baran</th>\n",
       "      <td>0.105491</td>\n",
       "      <td>0.574293</td>\n",
       "      <td>0.268500</td>\n",
       "    </tr>\n",
       "    <tr>\n",
       "      <th>Öner</th>\n",
       "      <td>0.834758</td>\n",
       "      <td>0.666132</td>\n",
       "      <td>0.318417</td>\n",
       "    </tr>\n",
       "    <tr>\n",
       "      <th>Arda</th>\n",
       "      <td>0.296138</td>\n",
       "      <td>0.250287</td>\n",
       "      <td>0.388410</td>\n",
       "    </tr>\n",
       "    <tr>\n",
       "      <th>Çolak</th>\n",
       "      <td>0.365790</td>\n",
       "      <td>0.481434</td>\n",
       "      <td>0.698349</td>\n",
       "    </tr>\n",
       "  </tbody>\n",
       "</table>\n",
       "</div>"
      ],
      "text/plain": [
       "           Maas       Yas  Calısma Saati\n",
       "Baran  0.105491  0.574293       0.268500\n",
       "Öner   0.834758  0.666132       0.318417\n",
       "Arda   0.296138  0.250287       0.388410\n",
       "Çolak  0.365790  0.481434       0.698349"
      ]
     },
     "execution_count": 13,
     "metadata": {},
     "output_type": "execute_result"
    }
   ],
   "source": [
    "yeniDataFrame"
   ]
  },
  {
   "cell_type": "code",
   "execution_count": 14,
   "id": "909f4232-3fd1-4c46-b066-8cf2847305b9",
   "metadata": {},
   "outputs": [
    {
     "data": {
      "text/plain": [
       "Baran    0.105491\n",
       "Öner     0.834758\n",
       "Arda     0.296138\n",
       "Çolak    0.365790\n",
       "Name: Maas, dtype: float64"
      ]
     },
     "execution_count": 14,
     "metadata": {},
     "output_type": "execute_result"
    }
   ],
   "source": [
    "yeniDataFrame[\"Maas\"]"
   ]
  },
  {
   "cell_type": "code",
   "execution_count": 15,
   "id": "f50fd8ee-3eed-4337-914c-f775343391cd",
   "metadata": {},
   "outputs": [
    {
     "data": {
      "text/html": [
       "<div>\n",
       "<style scoped>\n",
       "    .dataframe tbody tr th:only-of-type {\n",
       "        vertical-align: middle;\n",
       "    }\n",
       "\n",
       "    .dataframe tbody tr th {\n",
       "        vertical-align: top;\n",
       "    }\n",
       "\n",
       "    .dataframe thead th {\n",
       "        text-align: right;\n",
       "    }\n",
       "</style>\n",
       "<table border=\"1\" class=\"dataframe\">\n",
       "  <thead>\n",
       "    <tr style=\"text-align: right;\">\n",
       "      <th></th>\n",
       "      <th>Maas</th>\n",
       "      <th>Yas</th>\n",
       "    </tr>\n",
       "  </thead>\n",
       "  <tbody>\n",
       "    <tr>\n",
       "      <th>Baran</th>\n",
       "      <td>0.105491</td>\n",
       "      <td>0.574293</td>\n",
       "    </tr>\n",
       "    <tr>\n",
       "      <th>Öner</th>\n",
       "      <td>0.834758</td>\n",
       "      <td>0.666132</td>\n",
       "    </tr>\n",
       "    <tr>\n",
       "      <th>Arda</th>\n",
       "      <td>0.296138</td>\n",
       "      <td>0.250287</td>\n",
       "    </tr>\n",
       "    <tr>\n",
       "      <th>Çolak</th>\n",
       "      <td>0.365790</td>\n",
       "      <td>0.481434</td>\n",
       "    </tr>\n",
       "  </tbody>\n",
       "</table>\n",
       "</div>"
      ],
      "text/plain": [
       "           Maas       Yas\n",
       "Baran  0.105491  0.574293\n",
       "Öner   0.834758  0.666132\n",
       "Arda   0.296138  0.250287\n",
       "Çolak  0.365790  0.481434"
      ]
     },
     "execution_count": 15,
     "metadata": {},
     "output_type": "execute_result"
    }
   ],
   "source": [
    "yeniDataFrame[[\"Maas\",\"Yas\"]]"
   ]
  },
  {
   "cell_type": "code",
   "execution_count": 16,
   "id": "eaef2a29-21ba-44eb-ad53-11d20ab56e96",
   "metadata": {},
   "outputs": [
    {
     "data": {
      "text/plain": [
       "Maas             0.105491\n",
       "Yas              0.574293\n",
       "Calısma Saati    0.268500\n",
       "Name: Baran, dtype: float64"
      ]
     },
     "execution_count": 16,
     "metadata": {},
     "output_type": "execute_result"
    }
   ],
   "source": [
    "yeniDataFrame.loc[\"Baran\"]"
   ]
  },
  {
   "cell_type": "code",
   "execution_count": 17,
   "id": "7a335bf9-3f0b-416a-8b8f-8380820e0508",
   "metadata": {},
   "outputs": [
    {
     "data": {
      "text/plain": [
       "Maas             0.834758\n",
       "Yas              0.666132\n",
       "Calısma Saati    0.318417\n",
       "Name: Öner, dtype: float64"
      ]
     },
     "execution_count": 17,
     "metadata": {},
     "output_type": "execute_result"
    }
   ],
   "source": [
    "yeniDataFrame.iloc[1]"
   ]
  },
  {
   "cell_type": "code",
   "execution_count": 18,
   "id": "3c436063-2d68-4ceb-ac5a-ba7baf253f8a",
   "metadata": {},
   "outputs": [],
   "source": [
    "yeniDataFrame[\"Emeklilik Yasi\"]= yeniDataFrame[\"Yas\"] + yeniDataFrame['Yas']"
   ]
  },
  {
   "cell_type": "code",
   "execution_count": 19,
   "id": "500ae434-b1ca-4f58-b4cf-4d583761a6d5",
   "metadata": {},
   "outputs": [
    {
     "data": {
      "text/html": [
       "<div>\n",
       "<style scoped>\n",
       "    .dataframe tbody tr th:only-of-type {\n",
       "        vertical-align: middle;\n",
       "    }\n",
       "\n",
       "    .dataframe tbody tr th {\n",
       "        vertical-align: top;\n",
       "    }\n",
       "\n",
       "    .dataframe thead th {\n",
       "        text-align: right;\n",
       "    }\n",
       "</style>\n",
       "<table border=\"1\" class=\"dataframe\">\n",
       "  <thead>\n",
       "    <tr style=\"text-align: right;\">\n",
       "      <th></th>\n",
       "      <th>Maas</th>\n",
       "      <th>Yas</th>\n",
       "      <th>Calısma Saati</th>\n",
       "      <th>Emeklilik Yasi</th>\n",
       "    </tr>\n",
       "  </thead>\n",
       "  <tbody>\n",
       "    <tr>\n",
       "      <th>Baran</th>\n",
       "      <td>0.105491</td>\n",
       "      <td>0.574293</td>\n",
       "      <td>0.268500</td>\n",
       "      <td>1.148585</td>\n",
       "    </tr>\n",
       "    <tr>\n",
       "      <th>Öner</th>\n",
       "      <td>0.834758</td>\n",
       "      <td>0.666132</td>\n",
       "      <td>0.318417</td>\n",
       "      <td>1.332264</td>\n",
       "    </tr>\n",
       "    <tr>\n",
       "      <th>Arda</th>\n",
       "      <td>0.296138</td>\n",
       "      <td>0.250287</td>\n",
       "      <td>0.388410</td>\n",
       "      <td>0.500573</td>\n",
       "    </tr>\n",
       "    <tr>\n",
       "      <th>Çolak</th>\n",
       "      <td>0.365790</td>\n",
       "      <td>0.481434</td>\n",
       "      <td>0.698349</td>\n",
       "      <td>0.962869</td>\n",
       "    </tr>\n",
       "  </tbody>\n",
       "</table>\n",
       "</div>"
      ],
      "text/plain": [
       "           Maas       Yas  Calısma Saati  Emeklilik Yasi\n",
       "Baran  0.105491  0.574293       0.268500        1.148585\n",
       "Öner   0.834758  0.666132       0.318417        1.332264\n",
       "Arda   0.296138  0.250287       0.388410        0.500573\n",
       "Çolak  0.365790  0.481434       0.698349        0.962869"
      ]
     },
     "execution_count": 19,
     "metadata": {},
     "output_type": "execute_result"
    }
   ],
   "source": [
    "yeniDataFrame\n"
   ]
  },
  {
   "cell_type": "code",
   "execution_count": 20,
   "id": "a40fd89d-7bf3-47bf-9e5b-45d9ad895f54",
   "metadata": {},
   "outputs": [
    {
     "data": {
      "text/html": [
       "<div>\n",
       "<style scoped>\n",
       "    .dataframe tbody tr th:only-of-type {\n",
       "        vertical-align: middle;\n",
       "    }\n",
       "\n",
       "    .dataframe tbody tr th {\n",
       "        vertical-align: top;\n",
       "    }\n",
       "\n",
       "    .dataframe thead th {\n",
       "        text-align: right;\n",
       "    }\n",
       "</style>\n",
       "<table border=\"1\" class=\"dataframe\">\n",
       "  <thead>\n",
       "    <tr style=\"text-align: right;\">\n",
       "      <th></th>\n",
       "      <th>Maas</th>\n",
       "      <th>Yas</th>\n",
       "      <th>Calısma Saati</th>\n",
       "    </tr>\n",
       "  </thead>\n",
       "  <tbody>\n",
       "    <tr>\n",
       "      <th>Baran</th>\n",
       "      <td>0.105491</td>\n",
       "      <td>0.574293</td>\n",
       "      <td>0.268500</td>\n",
       "    </tr>\n",
       "    <tr>\n",
       "      <th>Öner</th>\n",
       "      <td>0.834758</td>\n",
       "      <td>0.666132</td>\n",
       "      <td>0.318417</td>\n",
       "    </tr>\n",
       "    <tr>\n",
       "      <th>Arda</th>\n",
       "      <td>0.296138</td>\n",
       "      <td>0.250287</td>\n",
       "      <td>0.388410</td>\n",
       "    </tr>\n",
       "    <tr>\n",
       "      <th>Çolak</th>\n",
       "      <td>0.365790</td>\n",
       "      <td>0.481434</td>\n",
       "      <td>0.698349</td>\n",
       "    </tr>\n",
       "  </tbody>\n",
       "</table>\n",
       "</div>"
      ],
      "text/plain": [
       "           Maas       Yas  Calısma Saati\n",
       "Baran  0.105491  0.574293       0.268500\n",
       "Öner   0.834758  0.666132       0.318417\n",
       "Arda   0.296138  0.250287       0.388410\n",
       "Çolak  0.365790  0.481434       0.698349"
      ]
     },
     "execution_count": 20,
     "metadata": {},
     "output_type": "execute_result"
    }
   ],
   "source": [
    "yeniDataFrame.drop(\"Emeklilik Yasi\",axis=1)"
   ]
  },
  {
   "cell_type": "code",
   "execution_count": null,
   "id": "f48f1bcf-8c5f-4485-85f5-98ddf372df8e",
   "metadata": {},
   "outputs": [],
   "source": []
  },
  {
   "cell_type": "code",
   "execution_count": 21,
   "id": "8ec0ad5d-87a2-4a6f-bea8-2517462c7064",
   "metadata": {},
   "outputs": [
    {
     "data": {
      "text/html": [
       "<div>\n",
       "<style scoped>\n",
       "    .dataframe tbody tr th:only-of-type {\n",
       "        vertical-align: middle;\n",
       "    }\n",
       "\n",
       "    .dataframe tbody tr th {\n",
       "        vertical-align: top;\n",
       "    }\n",
       "\n",
       "    .dataframe thead th {\n",
       "        text-align: right;\n",
       "    }\n",
       "</style>\n",
       "<table border=\"1\" class=\"dataframe\">\n",
       "  <thead>\n",
       "    <tr style=\"text-align: right;\">\n",
       "      <th></th>\n",
       "      <th>Maas</th>\n",
       "      <th>Yas</th>\n",
       "      <th>Calısma Saati</th>\n",
       "      <th>Emeklilik Yasi</th>\n",
       "    </tr>\n",
       "  </thead>\n",
       "  <tbody>\n",
       "    <tr>\n",
       "      <th>Baran</th>\n",
       "      <td>0.105491</td>\n",
       "      <td>0.574293</td>\n",
       "      <td>0.268500</td>\n",
       "      <td>1.148585</td>\n",
       "    </tr>\n",
       "    <tr>\n",
       "      <th>Arda</th>\n",
       "      <td>0.296138</td>\n",
       "      <td>0.250287</td>\n",
       "      <td>0.388410</td>\n",
       "      <td>0.500573</td>\n",
       "    </tr>\n",
       "    <tr>\n",
       "      <th>Çolak</th>\n",
       "      <td>0.365790</td>\n",
       "      <td>0.481434</td>\n",
       "      <td>0.698349</td>\n",
       "      <td>0.962869</td>\n",
       "    </tr>\n",
       "  </tbody>\n",
       "</table>\n",
       "</div>"
      ],
      "text/plain": [
       "           Maas       Yas  Calısma Saati  Emeklilik Yasi\n",
       "Baran  0.105491  0.574293       0.268500        1.148585\n",
       "Arda   0.296138  0.250287       0.388410        0.500573\n",
       "Çolak  0.365790  0.481434       0.698349        0.962869"
      ]
     },
     "execution_count": 21,
     "metadata": {},
     "output_type": "execute_result"
    }
   ],
   "source": [
    "yeniDataFrame.drop(\"Öner\",axis=0)"
   ]
  },
  {
   "cell_type": "code",
   "execution_count": 22,
   "id": "134cfa85-7b07-455d-9826-1ec5b7fa03bd",
   "metadata": {},
   "outputs": [],
   "source": [
    "yeniDataFrame.drop(\"Emeklilik Yasi\",axis=1,inplace=True)"
   ]
  },
  {
   "cell_type": "code",
   "execution_count": 23,
   "id": "19628ad9-40dd-499e-abcd-5e4da17c8eaf",
   "metadata": {},
   "outputs": [
    {
     "data": {
      "text/html": [
       "<div>\n",
       "<style scoped>\n",
       "    .dataframe tbody tr th:only-of-type {\n",
       "        vertical-align: middle;\n",
       "    }\n",
       "\n",
       "    .dataframe tbody tr th {\n",
       "        vertical-align: top;\n",
       "    }\n",
       "\n",
       "    .dataframe thead th {\n",
       "        text-align: right;\n",
       "    }\n",
       "</style>\n",
       "<table border=\"1\" class=\"dataframe\">\n",
       "  <thead>\n",
       "    <tr style=\"text-align: right;\">\n",
       "      <th></th>\n",
       "      <th>Maas</th>\n",
       "      <th>Yas</th>\n",
       "      <th>Calısma Saati</th>\n",
       "    </tr>\n",
       "  </thead>\n",
       "  <tbody>\n",
       "    <tr>\n",
       "      <th>Baran</th>\n",
       "      <td>0.105491</td>\n",
       "      <td>0.574293</td>\n",
       "      <td>0.268500</td>\n",
       "    </tr>\n",
       "    <tr>\n",
       "      <th>Öner</th>\n",
       "      <td>0.834758</td>\n",
       "      <td>0.666132</td>\n",
       "      <td>0.318417</td>\n",
       "    </tr>\n",
       "    <tr>\n",
       "      <th>Arda</th>\n",
       "      <td>0.296138</td>\n",
       "      <td>0.250287</td>\n",
       "      <td>0.388410</td>\n",
       "    </tr>\n",
       "    <tr>\n",
       "      <th>Çolak</th>\n",
       "      <td>0.365790</td>\n",
       "      <td>0.481434</td>\n",
       "      <td>0.698349</td>\n",
       "    </tr>\n",
       "  </tbody>\n",
       "</table>\n",
       "</div>"
      ],
      "text/plain": [
       "           Maas       Yas  Calısma Saati\n",
       "Baran  0.105491  0.574293       0.268500\n",
       "Öner   0.834758  0.666132       0.318417\n",
       "Arda   0.296138  0.250287       0.388410\n",
       "Çolak  0.365790  0.481434       0.698349"
      ]
     },
     "execution_count": 23,
     "metadata": {},
     "output_type": "execute_result"
    }
   ],
   "source": [
    "yeniDataFrame"
   ]
  },
  {
   "cell_type": "code",
   "execution_count": 24,
   "id": "f98dbcf9-0d29-483b-8124-e6001383e61f",
   "metadata": {},
   "outputs": [
    {
     "data": {
      "text/plain": [
       "0.5742926489508418"
      ]
     },
     "execution_count": 24,
     "metadata": {},
     "output_type": "execute_result"
    }
   ],
   "source": [
    "yeniDataFrame.loc[\"Baran\",\"Yas\"]"
   ]
  },
  {
   "cell_type": "code",
   "execution_count": 25,
   "id": "1c8dbf26-9b42-44fa-8d4c-55bda6040d19",
   "metadata": {},
   "outputs": [],
   "source": [
    "boolean =yeniDataFrame<0"
   ]
  },
  {
   "cell_type": "code",
   "execution_count": 26,
   "id": "9f80ab16-7e23-468c-bad1-0bb9c15fdb2a",
   "metadata": {},
   "outputs": [
    {
     "data": {
      "text/html": [
       "<div>\n",
       "<style scoped>\n",
       "    .dataframe tbody tr th:only-of-type {\n",
       "        vertical-align: middle;\n",
       "    }\n",
       "\n",
       "    .dataframe tbody tr th {\n",
       "        vertical-align: top;\n",
       "    }\n",
       "\n",
       "    .dataframe thead th {\n",
       "        text-align: right;\n",
       "    }\n",
       "</style>\n",
       "<table border=\"1\" class=\"dataframe\">\n",
       "  <thead>\n",
       "    <tr style=\"text-align: right;\">\n",
       "      <th></th>\n",
       "      <th>Maas</th>\n",
       "      <th>Yas</th>\n",
       "      <th>Calısma Saati</th>\n",
       "    </tr>\n",
       "  </thead>\n",
       "  <tbody>\n",
       "    <tr>\n",
       "      <th>Baran</th>\n",
       "      <td>NaN</td>\n",
       "      <td>NaN</td>\n",
       "      <td>NaN</td>\n",
       "    </tr>\n",
       "    <tr>\n",
       "      <th>Öner</th>\n",
       "      <td>NaN</td>\n",
       "      <td>NaN</td>\n",
       "      <td>NaN</td>\n",
       "    </tr>\n",
       "    <tr>\n",
       "      <th>Arda</th>\n",
       "      <td>NaN</td>\n",
       "      <td>NaN</td>\n",
       "      <td>NaN</td>\n",
       "    </tr>\n",
       "    <tr>\n",
       "      <th>Çolak</th>\n",
       "      <td>NaN</td>\n",
       "      <td>NaN</td>\n",
       "      <td>NaN</td>\n",
       "    </tr>\n",
       "  </tbody>\n",
       "</table>\n",
       "</div>"
      ],
      "text/plain": [
       "       Maas  Yas  Calısma Saati\n",
       "Baran   NaN  NaN            NaN\n",
       "Öner    NaN  NaN            NaN\n",
       "Arda    NaN  NaN            NaN\n",
       "Çolak   NaN  NaN            NaN"
      ]
     },
     "execution_count": 26,
     "metadata": {},
     "output_type": "execute_result"
    }
   ],
   "source": [
    "yeniDataFrame[boolean]"
   ]
  },
  {
   "cell_type": "code",
   "execution_count": 27,
   "id": "1f74fa60-0047-4ec8-a7b0-a7c01d61f1ec",
   "metadata": {},
   "outputs": [
    {
     "data": {
      "text/html": [
       "<div>\n",
       "<style scoped>\n",
       "    .dataframe tbody tr th:only-of-type {\n",
       "        vertical-align: middle;\n",
       "    }\n",
       "\n",
       "    .dataframe tbody tr th {\n",
       "        vertical-align: top;\n",
       "    }\n",
       "\n",
       "    .dataframe thead th {\n",
       "        text-align: right;\n",
       "    }\n",
       "</style>\n",
       "<table border=\"1\" class=\"dataframe\">\n",
       "  <thead>\n",
       "    <tr style=\"text-align: right;\">\n",
       "      <th></th>\n",
       "      <th>Maas</th>\n",
       "      <th>Yas</th>\n",
       "      <th>Calısma Saati</th>\n",
       "    </tr>\n",
       "  </thead>\n",
       "  <tbody>\n",
       "    <tr>\n",
       "      <th>Baran</th>\n",
       "      <td>NaN</td>\n",
       "      <td>NaN</td>\n",
       "      <td>NaN</td>\n",
       "    </tr>\n",
       "    <tr>\n",
       "      <th>Öner</th>\n",
       "      <td>NaN</td>\n",
       "      <td>NaN</td>\n",
       "      <td>NaN</td>\n",
       "    </tr>\n",
       "    <tr>\n",
       "      <th>Arda</th>\n",
       "      <td>NaN</td>\n",
       "      <td>NaN</td>\n",
       "      <td>NaN</td>\n",
       "    </tr>\n",
       "    <tr>\n",
       "      <th>Çolak</th>\n",
       "      <td>NaN</td>\n",
       "      <td>NaN</td>\n",
       "      <td>NaN</td>\n",
       "    </tr>\n",
       "  </tbody>\n",
       "</table>\n",
       "</div>"
      ],
      "text/plain": [
       "       Maas  Yas  Calısma Saati\n",
       "Baran   NaN  NaN            NaN\n",
       "Öner    NaN  NaN            NaN\n",
       "Arda    NaN  NaN            NaN\n",
       "Çolak   NaN  NaN            NaN"
      ]
     },
     "execution_count": 27,
     "metadata": {},
     "output_type": "execute_result"
    }
   ],
   "source": [
    "yeniDataFrame[yeniDataFrame<0]"
   ]
  },
  {
   "cell_type": "code",
   "execution_count": 28,
   "id": "76113098-967e-4e47-a80b-b428cf8e6f5a",
   "metadata": {},
   "outputs": [
    {
     "data": {
      "text/plain": [
       "Baran    True\n",
       "Öner     True\n",
       "Arda     True\n",
       "Çolak    True\n",
       "Name: Yas, dtype: bool"
      ]
     },
     "execution_count": 28,
     "metadata": {},
     "output_type": "execute_result"
    }
   ],
   "source": [
    "yeniDataFrame[\"Yas\"]>0"
   ]
  },
  {
   "cell_type": "code",
   "execution_count": 29,
   "id": "aa6154b3-7d70-4de8-9624-8ea899998530",
   "metadata": {},
   "outputs": [
    {
     "data": {
      "text/html": [
       "<div>\n",
       "<style scoped>\n",
       "    .dataframe tbody tr th:only-of-type {\n",
       "        vertical-align: middle;\n",
       "    }\n",
       "\n",
       "    .dataframe tbody tr th {\n",
       "        vertical-align: top;\n",
       "    }\n",
       "\n",
       "    .dataframe thead th {\n",
       "        text-align: right;\n",
       "    }\n",
       "</style>\n",
       "<table border=\"1\" class=\"dataframe\">\n",
       "  <thead>\n",
       "    <tr style=\"text-align: right;\">\n",
       "      <th></th>\n",
       "      <th>Maas</th>\n",
       "      <th>Yas</th>\n",
       "      <th>Calısma Saati</th>\n",
       "    </tr>\n",
       "  </thead>\n",
       "  <tbody>\n",
       "    <tr>\n",
       "      <th>Baran</th>\n",
       "      <td>0.105491</td>\n",
       "      <td>0.574293</td>\n",
       "      <td>0.268500</td>\n",
       "    </tr>\n",
       "    <tr>\n",
       "      <th>Öner</th>\n",
       "      <td>0.834758</td>\n",
       "      <td>0.666132</td>\n",
       "      <td>0.318417</td>\n",
       "    </tr>\n",
       "    <tr>\n",
       "      <th>Çolak</th>\n",
       "      <td>0.365790</td>\n",
       "      <td>0.481434</td>\n",
       "      <td>0.698349</td>\n",
       "    </tr>\n",
       "  </tbody>\n",
       "</table>\n",
       "</div>"
      ],
      "text/plain": [
       "           Maas       Yas  Calısma Saati\n",
       "Baran  0.105491  0.574293       0.268500\n",
       "Öner   0.834758  0.666132       0.318417\n",
       "Çolak  0.365790  0.481434       0.698349"
      ]
     },
     "execution_count": 29,
     "metadata": {},
     "output_type": "execute_result"
    }
   ],
   "source": [
    "yeniDataFrame[yeniDataFrame[\"Yas\"] > 0.4]"
   ]
  },
  {
   "cell_type": "code",
   "execution_count": 30,
   "id": "c79a0472-d591-4744-8bb8-7f7e1a7cd489",
   "metadata": {},
   "outputs": [
    {
     "data": {
      "text/html": [
       "<div>\n",
       "<style scoped>\n",
       "    .dataframe tbody tr th:only-of-type {\n",
       "        vertical-align: middle;\n",
       "    }\n",
       "\n",
       "    .dataframe tbody tr th {\n",
       "        vertical-align: top;\n",
       "    }\n",
       "\n",
       "    .dataframe thead th {\n",
       "        text-align: right;\n",
       "    }\n",
       "</style>\n",
       "<table border=\"1\" class=\"dataframe\">\n",
       "  <thead>\n",
       "    <tr style=\"text-align: right;\">\n",
       "      <th></th>\n",
       "      <th>index</th>\n",
       "      <th>Maas</th>\n",
       "      <th>Yas</th>\n",
       "      <th>Calısma Saati</th>\n",
       "    </tr>\n",
       "  </thead>\n",
       "  <tbody>\n",
       "    <tr>\n",
       "      <th>0</th>\n",
       "      <td>Baran</td>\n",
       "      <td>0.105491</td>\n",
       "      <td>0.574293</td>\n",
       "      <td>0.268500</td>\n",
       "    </tr>\n",
       "    <tr>\n",
       "      <th>1</th>\n",
       "      <td>Öner</td>\n",
       "      <td>0.834758</td>\n",
       "      <td>0.666132</td>\n",
       "      <td>0.318417</td>\n",
       "    </tr>\n",
       "    <tr>\n",
       "      <th>2</th>\n",
       "      <td>Arda</td>\n",
       "      <td>0.296138</td>\n",
       "      <td>0.250287</td>\n",
       "      <td>0.388410</td>\n",
       "    </tr>\n",
       "    <tr>\n",
       "      <th>3</th>\n",
       "      <td>Çolak</td>\n",
       "      <td>0.365790</td>\n",
       "      <td>0.481434</td>\n",
       "      <td>0.698349</td>\n",
       "    </tr>\n",
       "  </tbody>\n",
       "</table>\n",
       "</div>"
      ],
      "text/plain": [
       "   index      Maas       Yas  Calısma Saati\n",
       "0  Baran  0.105491  0.574293       0.268500\n",
       "1   Öner  0.834758  0.666132       0.318417\n",
       "2   Arda  0.296138  0.250287       0.388410\n",
       "3  Çolak  0.365790  0.481434       0.698349"
      ]
     },
     "execution_count": 30,
     "metadata": {},
     "output_type": "execute_result"
    }
   ],
   "source": [
    "yeniDataFrame.reset_index()\n"
   ]
  },
  {
   "cell_type": "code",
   "execution_count": 31,
   "id": "1fdafd10-13bf-4a22-b54a-a33a75f5b230",
   "metadata": {},
   "outputs": [],
   "source": [
    "yeniIndexListesi = [\"Ati\",\"Zey\",\"Baran\",\"Kasım\"]"
   ]
  },
  {
   "cell_type": "code",
   "execution_count": 32,
   "id": "903ea943-78ac-4876-815a-d102acbf0255",
   "metadata": {},
   "outputs": [],
   "source": [
    "yeniDataFrame[\"Yeni Index\"] = yeniIndexListesi"
   ]
  },
  {
   "cell_type": "code",
   "execution_count": 33,
   "id": "337f63a7-4ec2-4fda-a3cf-51614debbcf7",
   "metadata": {},
   "outputs": [],
   "source": [
    "yeniDataFrame.set_index(\"Yeni Index\",inplace=True)"
   ]
  },
  {
   "cell_type": "code",
   "execution_count": 34,
   "id": "108c7b85-8e79-4bf4-a08a-fea5335792b7",
   "metadata": {},
   "outputs": [
    {
     "data": {
      "text/html": [
       "<div>\n",
       "<style scoped>\n",
       "    .dataframe tbody tr th:only-of-type {\n",
       "        vertical-align: middle;\n",
       "    }\n",
       "\n",
       "    .dataframe tbody tr th {\n",
       "        vertical-align: top;\n",
       "    }\n",
       "\n",
       "    .dataframe thead th {\n",
       "        text-align: right;\n",
       "    }\n",
       "</style>\n",
       "<table border=\"1\" class=\"dataframe\">\n",
       "  <thead>\n",
       "    <tr style=\"text-align: right;\">\n",
       "      <th></th>\n",
       "      <th>Maas</th>\n",
       "      <th>Yas</th>\n",
       "      <th>Calısma Saati</th>\n",
       "    </tr>\n",
       "    <tr>\n",
       "      <th>Yeni Index</th>\n",
       "      <th></th>\n",
       "      <th></th>\n",
       "      <th></th>\n",
       "    </tr>\n",
       "  </thead>\n",
       "  <tbody>\n",
       "    <tr>\n",
       "      <th>Ati</th>\n",
       "      <td>0.105491</td>\n",
       "      <td>0.574293</td>\n",
       "      <td>0.268500</td>\n",
       "    </tr>\n",
       "    <tr>\n",
       "      <th>Zey</th>\n",
       "      <td>0.834758</td>\n",
       "      <td>0.666132</td>\n",
       "      <td>0.318417</td>\n",
       "    </tr>\n",
       "    <tr>\n",
       "      <th>Baran</th>\n",
       "      <td>0.296138</td>\n",
       "      <td>0.250287</td>\n",
       "      <td>0.388410</td>\n",
       "    </tr>\n",
       "    <tr>\n",
       "      <th>Kasım</th>\n",
       "      <td>0.365790</td>\n",
       "      <td>0.481434</td>\n",
       "      <td>0.698349</td>\n",
       "    </tr>\n",
       "  </tbody>\n",
       "</table>\n",
       "</div>"
      ],
      "text/plain": [
       "                Maas       Yas  Calısma Saati\n",
       "Yeni Index                                   \n",
       "Ati         0.105491  0.574293       0.268500\n",
       "Zey         0.834758  0.666132       0.318417\n",
       "Baran       0.296138  0.250287       0.388410\n",
       "Kasım       0.365790  0.481434       0.698349"
      ]
     },
     "execution_count": 34,
     "metadata": {},
     "output_type": "execute_result"
    }
   ],
   "source": [
    "yeniDataFrame"
   ]
  },
  {
   "cell_type": "code",
   "execution_count": 35,
   "id": "120df0cf-5980-43cc-9d56-eb0cce5de7b8",
   "metadata": {},
   "outputs": [
    {
     "data": {
      "text/plain": [
       "Maas             0.105491\n",
       "Yas              0.574293\n",
       "Calısma Saati    0.268500\n",
       "Name: Ati, dtype: float64"
      ]
     },
     "execution_count": 35,
     "metadata": {},
     "output_type": "execute_result"
    }
   ],
   "source": [
    "yeniDataFrame.loc[\"Ati\"]"
   ]
  },
  {
   "cell_type": "code",
   "execution_count": 36,
   "id": "481d6bdf-1914-442a-8fde-4c4a585c65b9",
   "metadata": {},
   "outputs": [],
   "source": [
    "ilkIndexler = [\"Simpson\",\"Simpson\",\"Simpson\",\"South Park\",\"South Park\",\"South Park\"]"
   ]
  },
  {
   "cell_type": "code",
   "execution_count": 37,
   "id": "b1bdb4b2-2bed-4b30-be87-af09856faf50",
   "metadata": {},
   "outputs": [],
   "source": [
    "icIndexler =[\"Homer\",\"Bart\",\"Merge\",\"Cartman\",\"Kenny\",\"Kyle\"]"
   ]
  },
  {
   "cell_type": "code",
   "execution_count": 38,
   "id": "56ddc739-14b9-428b-8390-52a83cf81364",
   "metadata": {},
   "outputs": [],
   "source": [
    "birlesimIndex = list(zip(ilkIndexler,icIndexler))"
   ]
  },
  {
   "cell_type": "code",
   "execution_count": 39,
   "id": "9d08a43d-c346-4c03-95a7-ed62f86d20d5",
   "metadata": {},
   "outputs": [
    {
     "data": {
      "text/plain": [
       "[('Simpson', 'Homer'),\n",
       " ('Simpson', 'Bart'),\n",
       " ('Simpson', 'Merge'),\n",
       " ('South Park', 'Cartman'),\n",
       " ('South Park', 'Kenny'),\n",
       " ('South Park', 'Kyle')]"
      ]
     },
     "execution_count": 39,
     "metadata": {},
     "output_type": "execute_result"
    }
   ],
   "source": [
    "birlesimIndex\n"
   ]
  },
  {
   "cell_type": "code",
   "execution_count": 40,
   "id": "8f2a79d1-11e8-4b0a-8e47-8d51b6a53051",
   "metadata": {},
   "outputs": [],
   "source": [
    "birlesimIndex =pd.MultiIndex.from_tuples(birlesimIndex)"
   ]
  },
  {
   "cell_type": "code",
   "execution_count": 42,
   "id": "7f1fe404-9ea6-4327-acb5-ec5cbf65c1a3",
   "metadata": {},
   "outputs": [
    {
     "data": {
      "text/plain": [
       "MultiIndex([(   'Simpson',   'Homer'),\n",
       "            (   'Simpson',    'Bart'),\n",
       "            (   'Simpson',   'Merge'),\n",
       "            ('South Park', 'Cartman'),\n",
       "            ('South Park',   'Kenny'),\n",
       "            ('South Park',    'Kyle')],\n",
       "           )"
      ]
     },
     "execution_count": 42,
     "metadata": {},
     "output_type": "execute_result"
    }
   ],
   "source": [
    "birlesimIndex"
   ]
  },
  {
   "cell_type": "code",
   "execution_count": 48,
   "id": "2827f295-0a04-4c4e-aa98-81f57e996372",
   "metadata": {},
   "outputs": [],
   "source": [
    "benimCizgiFilmListem = [[40,\"A\"],[10,\"B\"],[30,\"C\"],[20,\"D\"],[40,\"A\"],[10,\"B\"]]"
   ]
  },
  {
   "cell_type": "code",
   "execution_count": 49,
   "id": "87e5079b-88d2-411d-aa1d-9ae6ee16f502",
   "metadata": {},
   "outputs": [],
   "source": [
    "cizgiFilmNumpyDizisi = np.array(benimCizgiFilmListem)"
   ]
  },
  {
   "cell_type": "code",
   "execution_count": 50,
   "id": "0ed896c9-1279-4ec3-b0ca-1eb8f19e9aab",
   "metadata": {},
   "outputs": [],
   "source": [
    "cizgiFilmDataFrame = pd.DataFrame(cizgiFilmNumpyDizisi,index=birlesimIndex,columns=[\"Yas\",\"Meslek\"])"
   ]
  },
  {
   "cell_type": "code",
   "execution_count": 51,
   "id": "e5a07968-434c-4ad8-b888-dbc6d0b09fa5",
   "metadata": {},
   "outputs": [
    {
     "data": {
      "text/html": [
       "<div>\n",
       "<style scoped>\n",
       "    .dataframe tbody tr th:only-of-type {\n",
       "        vertical-align: middle;\n",
       "    }\n",
       "\n",
       "    .dataframe tbody tr th {\n",
       "        vertical-align: top;\n",
       "    }\n",
       "\n",
       "    .dataframe thead th {\n",
       "        text-align: right;\n",
       "    }\n",
       "</style>\n",
       "<table border=\"1\" class=\"dataframe\">\n",
       "  <thead>\n",
       "    <tr style=\"text-align: right;\">\n",
       "      <th></th>\n",
       "      <th></th>\n",
       "      <th>Yas</th>\n",
       "      <th>Meslek</th>\n",
       "    </tr>\n",
       "  </thead>\n",
       "  <tbody>\n",
       "    <tr>\n",
       "      <th rowspan=\"3\" valign=\"top\">Simpson</th>\n",
       "      <th>Homer</th>\n",
       "      <td>40</td>\n",
       "      <td>A</td>\n",
       "    </tr>\n",
       "    <tr>\n",
       "      <th>Bart</th>\n",
       "      <td>10</td>\n",
       "      <td>B</td>\n",
       "    </tr>\n",
       "    <tr>\n",
       "      <th>Merge</th>\n",
       "      <td>30</td>\n",
       "      <td>C</td>\n",
       "    </tr>\n",
       "    <tr>\n",
       "      <th rowspan=\"3\" valign=\"top\">South Park</th>\n",
       "      <th>Cartman</th>\n",
       "      <td>20</td>\n",
       "      <td>D</td>\n",
       "    </tr>\n",
       "    <tr>\n",
       "      <th>Kenny</th>\n",
       "      <td>40</td>\n",
       "      <td>A</td>\n",
       "    </tr>\n",
       "    <tr>\n",
       "      <th>Kyle</th>\n",
       "      <td>10</td>\n",
       "      <td>B</td>\n",
       "    </tr>\n",
       "  </tbody>\n",
       "</table>\n",
       "</div>"
      ],
      "text/plain": [
       "                   Yas Meslek\n",
       "Simpson    Homer    40      A\n",
       "           Bart     10      B\n",
       "           Merge    30      C\n",
       "South Park Cartman  20      D\n",
       "           Kenny    40      A\n",
       "           Kyle     10      B"
      ]
     },
     "execution_count": 51,
     "metadata": {},
     "output_type": "execute_result"
    }
   ],
   "source": [
    "cizgiFilmDataFrame"
   ]
  },
  {
   "cell_type": "code",
   "execution_count": 55,
   "id": "8bde1bc9-30d6-443f-ac22-c7061f08e3fc",
   "metadata": {},
   "outputs": [
    {
     "data": {
      "text/plain": [
       "Yas       40\n",
       "Meslek     A\n",
       "Name: Homer, dtype: object"
      ]
     },
     "execution_count": 55,
     "metadata": {},
     "output_type": "execute_result"
    }
   ],
   "source": [
    "cizgiFilmDataFrame.loc[\"Simpson\"].loc[\"Homer\"]"
   ]
  },
  {
   "cell_type": "code",
   "execution_count": 57,
   "id": "0709700f-555c-4091-8cb9-7233b060a09a",
   "metadata": {},
   "outputs": [],
   "source": [
    "cizgiFilmDataFrame.index.names =[\"Film Adı\",\"İsim\"]"
   ]
  },
  {
   "cell_type": "code",
   "execution_count": 58,
   "id": "080f64f5-2f4a-4a50-b126-94f786381be5",
   "metadata": {},
   "outputs": [
    {
     "data": {
      "text/html": [
       "<div>\n",
       "<style scoped>\n",
       "    .dataframe tbody tr th:only-of-type {\n",
       "        vertical-align: middle;\n",
       "    }\n",
       "\n",
       "    .dataframe tbody tr th {\n",
       "        vertical-align: top;\n",
       "    }\n",
       "\n",
       "    .dataframe thead th {\n",
       "        text-align: right;\n",
       "    }\n",
       "</style>\n",
       "<table border=\"1\" class=\"dataframe\">\n",
       "  <thead>\n",
       "    <tr style=\"text-align: right;\">\n",
       "      <th></th>\n",
       "      <th></th>\n",
       "      <th>Yas</th>\n",
       "      <th>Meslek</th>\n",
       "    </tr>\n",
       "    <tr>\n",
       "      <th>Film Adı</th>\n",
       "      <th>İsim</th>\n",
       "      <th></th>\n",
       "      <th></th>\n",
       "    </tr>\n",
       "  </thead>\n",
       "  <tbody>\n",
       "    <tr>\n",
       "      <th rowspan=\"3\" valign=\"top\">Simpson</th>\n",
       "      <th>Homer</th>\n",
       "      <td>40</td>\n",
       "      <td>A</td>\n",
       "    </tr>\n",
       "    <tr>\n",
       "      <th>Bart</th>\n",
       "      <td>10</td>\n",
       "      <td>B</td>\n",
       "    </tr>\n",
       "    <tr>\n",
       "      <th>Merge</th>\n",
       "      <td>30</td>\n",
       "      <td>C</td>\n",
       "    </tr>\n",
       "    <tr>\n",
       "      <th rowspan=\"3\" valign=\"top\">South Park</th>\n",
       "      <th>Cartman</th>\n",
       "      <td>20</td>\n",
       "      <td>D</td>\n",
       "    </tr>\n",
       "    <tr>\n",
       "      <th>Kenny</th>\n",
       "      <td>40</td>\n",
       "      <td>A</td>\n",
       "    </tr>\n",
       "    <tr>\n",
       "      <th>Kyle</th>\n",
       "      <td>10</td>\n",
       "      <td>B</td>\n",
       "    </tr>\n",
       "  </tbody>\n",
       "</table>\n",
       "</div>"
      ],
      "text/plain": [
       "                   Yas Meslek\n",
       "Film Adı   İsim              \n",
       "Simpson    Homer    40      A\n",
       "           Bart     10      B\n",
       "           Merge    30      C\n",
       "South Park Cartman  20      D\n",
       "           Kenny    40      A\n",
       "           Kyle     10      B"
      ]
     },
     "execution_count": 58,
     "metadata": {},
     "output_type": "execute_result"
    }
   ],
   "source": [
    "cizgiFilmDataFrame"
   ]
  },
  {
   "cell_type": "code",
   "execution_count": null,
   "id": "e3cd2779-19f5-41ea-920d-1bbfa96d53fe",
   "metadata": {},
   "outputs": [],
   "source": []
  }
 ],
 "metadata": {
  "kernelspec": {
   "display_name": "Python 3 (ipykernel)",
   "language": "python",
   "name": "python3"
  },
  "language_info": {
   "codemirror_mode": {
    "name": "ipython",
    "version": 3
   },
   "file_extension": ".py",
   "mimetype": "text/x-python",
   "name": "python",
   "nbconvert_exporter": "python",
   "pygments_lexer": "ipython3",
   "version": "3.12.4"
  }
 },
 "nbformat": 4,
 "nbformat_minor": 5
}
