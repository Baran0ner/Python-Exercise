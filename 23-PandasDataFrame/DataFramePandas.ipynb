{
 "cells": [
  {
   "cell_type": "code",
   "execution_count": 2,
   "id": "66d07bc8-23ca-4acf-9b32-f6ea93c5e9dd",
   "metadata": {},
   "outputs": [],
   "source": [
    "import pandas as pd"
   ]
  },
  {
   "cell_type": "code",
   "execution_count": 3,
   "id": "414bf975-78d0-4877-b0f9-b679181eb661",
   "metadata": {},
   "outputs": [],
   "source": [
    "import numpy as np"
   ]
  },
  {
   "cell_type": "code",
   "execution_count": 4,
   "id": "e7425119-067a-4e57-b5df-d29dc69e7fda",
   "metadata": {},
   "outputs": [],
   "source": [
    "data =np.random.rand(4,3)"
   ]
  },
  {
   "cell_type": "code",
   "execution_count": 5,
   "id": "457ec009-f577-42d9-84e5-f237228dcf52",
   "metadata": {},
   "outputs": [
    {
     "data": {
      "text/plain": [
       "array([[0.33169348, 0.35723336, 0.6698236 ],\n",
       "       [0.15481937, 0.7703449 , 0.27569883],\n",
       "       [0.8135369 , 0.42148484, 0.26106222],\n",
       "       [0.61044681, 0.98422507, 0.20142762]])"
      ]
     },
     "execution_count": 5,
     "metadata": {},
     "output_type": "execute_result"
    }
   ],
   "source": [
    "data"
   ]
  },
  {
   "cell_type": "code",
   "execution_count": 6,
   "id": "4ecde370-9d17-49a3-b05a-d133aa9bc85f",
   "metadata": {},
   "outputs": [],
   "source": [
    " dataFrame = pd.DataFrame(data)"
   ]
  },
  {
   "cell_type": "code",
   "execution_count": 7,
   "id": "6f914fe5-7a59-4e0f-b6de-2ffc6186f945",
   "metadata": {},
   "outputs": [
    {
     "data": {
      "text/html": [
       "<div>\n",
       "<style scoped>\n",
       "    .dataframe tbody tr th:only-of-type {\n",
       "        vertical-align: middle;\n",
       "    }\n",
       "\n",
       "    .dataframe tbody tr th {\n",
       "        vertical-align: top;\n",
       "    }\n",
       "\n",
       "    .dataframe thead th {\n",
       "        text-align: right;\n",
       "    }\n",
       "</style>\n",
       "<table border=\"1\" class=\"dataframe\">\n",
       "  <thead>\n",
       "    <tr style=\"text-align: right;\">\n",
       "      <th></th>\n",
       "      <th>0</th>\n",
       "      <th>1</th>\n",
       "      <th>2</th>\n",
       "    </tr>\n",
       "  </thead>\n",
       "  <tbody>\n",
       "    <tr>\n",
       "      <th>0</th>\n",
       "      <td>0.331693</td>\n",
       "      <td>0.357233</td>\n",
       "      <td>0.669824</td>\n",
       "    </tr>\n",
       "    <tr>\n",
       "      <th>1</th>\n",
       "      <td>0.154819</td>\n",
       "      <td>0.770345</td>\n",
       "      <td>0.275699</td>\n",
       "    </tr>\n",
       "    <tr>\n",
       "      <th>2</th>\n",
       "      <td>0.813537</td>\n",
       "      <td>0.421485</td>\n",
       "      <td>0.261062</td>\n",
       "    </tr>\n",
       "    <tr>\n",
       "      <th>3</th>\n",
       "      <td>0.610447</td>\n",
       "      <td>0.984225</td>\n",
       "      <td>0.201428</td>\n",
       "    </tr>\n",
       "  </tbody>\n",
       "</table>\n",
       "</div>"
      ],
      "text/plain": [
       "          0         1         2\n",
       "0  0.331693  0.357233  0.669824\n",
       "1  0.154819  0.770345  0.275699\n",
       "2  0.813537  0.421485  0.261062\n",
       "3  0.610447  0.984225  0.201428"
      ]
     },
     "execution_count": 7,
     "metadata": {},
     "output_type": "execute_result"
    }
   ],
   "source": [
    "dataFrame"
   ]
  },
  {
   "cell_type": "code",
   "execution_count": 8,
   "id": "c9abbf41-f747-4a2e-9d0a-b4b9cc5ab8f9",
   "metadata": {},
   "outputs": [],
   "source": [
    "yeniDataFrame = pd.DataFrame(data,index=[\"Baran\",\"Öner\",\"Arda\",\"Çolak\"],columns = [\"Maas\",\"Yas\",\"Calısma Saati\"])"
   ]
  },
  {
   "cell_type": "code",
   "execution_count": 9,
   "id": "d8cf371a-4ce0-4f80-8eae-ec9aa447f139",
   "metadata": {},
   "outputs": [
    {
     "data": {
      "text/html": [
       "<div>\n",
       "<style scoped>\n",
       "    .dataframe tbody tr th:only-of-type {\n",
       "        vertical-align: middle;\n",
       "    }\n",
       "\n",
       "    .dataframe tbody tr th {\n",
       "        vertical-align: top;\n",
       "    }\n",
       "\n",
       "    .dataframe thead th {\n",
       "        text-align: right;\n",
       "    }\n",
       "</style>\n",
       "<table border=\"1\" class=\"dataframe\">\n",
       "  <thead>\n",
       "    <tr style=\"text-align: right;\">\n",
       "      <th></th>\n",
       "      <th>Maas</th>\n",
       "      <th>Yas</th>\n",
       "      <th>Calısma Saati</th>\n",
       "    </tr>\n",
       "  </thead>\n",
       "  <tbody>\n",
       "    <tr>\n",
       "      <th>Baran</th>\n",
       "      <td>0.331693</td>\n",
       "      <td>0.357233</td>\n",
       "      <td>0.669824</td>\n",
       "    </tr>\n",
       "    <tr>\n",
       "      <th>Öner</th>\n",
       "      <td>0.154819</td>\n",
       "      <td>0.770345</td>\n",
       "      <td>0.275699</td>\n",
       "    </tr>\n",
       "    <tr>\n",
       "      <th>Arda</th>\n",
       "      <td>0.813537</td>\n",
       "      <td>0.421485</td>\n",
       "      <td>0.261062</td>\n",
       "    </tr>\n",
       "    <tr>\n",
       "      <th>Çolak</th>\n",
       "      <td>0.610447</td>\n",
       "      <td>0.984225</td>\n",
       "      <td>0.201428</td>\n",
       "    </tr>\n",
       "  </tbody>\n",
       "</table>\n",
       "</div>"
      ],
      "text/plain": [
       "           Maas       Yas  Calısma Saati\n",
       "Baran  0.331693  0.357233       0.669824\n",
       "Öner   0.154819  0.770345       0.275699\n",
       "Arda   0.813537  0.421485       0.261062\n",
       "Çolak  0.610447  0.984225       0.201428"
      ]
     },
     "execution_count": 9,
     "metadata": {},
     "output_type": "execute_result"
    }
   ],
   "source": [
    "yeniDataFrame"
   ]
  },
  {
   "cell_type": "code",
   "execution_count": 10,
   "id": "909f4232-3fd1-4c46-b066-8cf2847305b9",
   "metadata": {},
   "outputs": [
    {
     "data": {
      "text/plain": [
       "Baran    0.331693\n",
       "Öner     0.154819\n",
       "Arda     0.813537\n",
       "Çolak    0.610447\n",
       "Name: Maas, dtype: float64"
      ]
     },
     "execution_count": 10,
     "metadata": {},
     "output_type": "execute_result"
    }
   ],
   "source": [
    "yeniDataFrame[\"Maas\"]"
   ]
  },
  {
   "cell_type": "code",
   "execution_count": 11,
   "id": "f50fd8ee-3eed-4337-914c-f775343391cd",
   "metadata": {},
   "outputs": [
    {
     "data": {
      "text/html": [
       "<div>\n",
       "<style scoped>\n",
       "    .dataframe tbody tr th:only-of-type {\n",
       "        vertical-align: middle;\n",
       "    }\n",
       "\n",
       "    .dataframe tbody tr th {\n",
       "        vertical-align: top;\n",
       "    }\n",
       "\n",
       "    .dataframe thead th {\n",
       "        text-align: right;\n",
       "    }\n",
       "</style>\n",
       "<table border=\"1\" class=\"dataframe\">\n",
       "  <thead>\n",
       "    <tr style=\"text-align: right;\">\n",
       "      <th></th>\n",
       "      <th>Maas</th>\n",
       "      <th>Yas</th>\n",
       "    </tr>\n",
       "  </thead>\n",
       "  <tbody>\n",
       "    <tr>\n",
       "      <th>Baran</th>\n",
       "      <td>0.331693</td>\n",
       "      <td>0.357233</td>\n",
       "    </tr>\n",
       "    <tr>\n",
       "      <th>Öner</th>\n",
       "      <td>0.154819</td>\n",
       "      <td>0.770345</td>\n",
       "    </tr>\n",
       "    <tr>\n",
       "      <th>Arda</th>\n",
       "      <td>0.813537</td>\n",
       "      <td>0.421485</td>\n",
       "    </tr>\n",
       "    <tr>\n",
       "      <th>Çolak</th>\n",
       "      <td>0.610447</td>\n",
       "      <td>0.984225</td>\n",
       "    </tr>\n",
       "  </tbody>\n",
       "</table>\n",
       "</div>"
      ],
      "text/plain": [
       "           Maas       Yas\n",
       "Baran  0.331693  0.357233\n",
       "Öner   0.154819  0.770345\n",
       "Arda   0.813537  0.421485\n",
       "Çolak  0.610447  0.984225"
      ]
     },
     "execution_count": 11,
     "metadata": {},
     "output_type": "execute_result"
    }
   ],
   "source": [
    "yeniDataFrame[[\"Maas\",\"Yas\"]]"
   ]
  },
  {
   "cell_type": "code",
   "execution_count": 12,
   "id": "eaef2a29-21ba-44eb-ad53-11d20ab56e96",
   "metadata": {},
   "outputs": [
    {
     "data": {
      "text/plain": [
       "Maas             0.331693\n",
       "Yas              0.357233\n",
       "Calısma Saati    0.669824\n",
       "Name: Baran, dtype: float64"
      ]
     },
     "execution_count": 12,
     "metadata": {},
     "output_type": "execute_result"
    }
   ],
   "source": [
    "yeniDataFrame.loc[\"Baran\"]"
   ]
  },
  {
   "cell_type": "code",
   "execution_count": 14,
   "id": "7a335bf9-3f0b-416a-8b8f-8380820e0508",
   "metadata": {},
   "outputs": [
    {
     "data": {
      "text/plain": [
       "Maas             0.154819\n",
       "Yas              0.770345\n",
       "Calısma Saati    0.275699\n",
       "Name: Öner, dtype: float64"
      ]
     },
     "execution_count": 14,
     "metadata": {},
     "output_type": "execute_result"
    }
   ],
   "source": [
    "yeniDataFrame.iloc[1]"
   ]
  },
  {
   "cell_type": "code",
   "execution_count": 15,
   "id": "3c436063-2d68-4ceb-ac5a-ba7baf253f8a",
   "metadata": {},
   "outputs": [],
   "source": [
    "yeniDataFrame[\"Emeklilik Yasi\"]= yeniDataFrame[\"Yas\"] + yeniDataFrame['Yas']"
   ]
  },
  {
   "cell_type": "code",
   "execution_count": 16,
   "id": "500ae434-b1ca-4f58-b4cf-4d583761a6d5",
   "metadata": {},
   "outputs": [
    {
     "data": {
      "text/html": [
       "<div>\n",
       "<style scoped>\n",
       "    .dataframe tbody tr th:only-of-type {\n",
       "        vertical-align: middle;\n",
       "    }\n",
       "\n",
       "    .dataframe tbody tr th {\n",
       "        vertical-align: top;\n",
       "    }\n",
       "\n",
       "    .dataframe thead th {\n",
       "        text-align: right;\n",
       "    }\n",
       "</style>\n",
       "<table border=\"1\" class=\"dataframe\">\n",
       "  <thead>\n",
       "    <tr style=\"text-align: right;\">\n",
       "      <th></th>\n",
       "      <th>Maas</th>\n",
       "      <th>Yas</th>\n",
       "      <th>Calısma Saati</th>\n",
       "      <th>Emeklilik Yasi</th>\n",
       "    </tr>\n",
       "  </thead>\n",
       "  <tbody>\n",
       "    <tr>\n",
       "      <th>Baran</th>\n",
       "      <td>0.331693</td>\n",
       "      <td>0.357233</td>\n",
       "      <td>0.669824</td>\n",
       "      <td>0.714467</td>\n",
       "    </tr>\n",
       "    <tr>\n",
       "      <th>Öner</th>\n",
       "      <td>0.154819</td>\n",
       "      <td>0.770345</td>\n",
       "      <td>0.275699</td>\n",
       "      <td>1.540690</td>\n",
       "    </tr>\n",
       "    <tr>\n",
       "      <th>Arda</th>\n",
       "      <td>0.813537</td>\n",
       "      <td>0.421485</td>\n",
       "      <td>0.261062</td>\n",
       "      <td>0.842970</td>\n",
       "    </tr>\n",
       "    <tr>\n",
       "      <th>Çolak</th>\n",
       "      <td>0.610447</td>\n",
       "      <td>0.984225</td>\n",
       "      <td>0.201428</td>\n",
       "      <td>1.968450</td>\n",
       "    </tr>\n",
       "  </tbody>\n",
       "</table>\n",
       "</div>"
      ],
      "text/plain": [
       "           Maas       Yas  Calısma Saati  Emeklilik Yasi\n",
       "Baran  0.331693  0.357233       0.669824        0.714467\n",
       "Öner   0.154819  0.770345       0.275699        1.540690\n",
       "Arda   0.813537  0.421485       0.261062        0.842970\n",
       "Çolak  0.610447  0.984225       0.201428        1.968450"
      ]
     },
     "execution_count": 16,
     "metadata": {},
     "output_type": "execute_result"
    }
   ],
   "source": [
    "yeniDataFrame\n"
   ]
  },
  {
   "cell_type": "code",
   "execution_count": 17,
   "id": "a40fd89d-7bf3-47bf-9e5b-45d9ad895f54",
   "metadata": {},
   "outputs": [
    {
     "data": {
      "text/html": [
       "<div>\n",
       "<style scoped>\n",
       "    .dataframe tbody tr th:only-of-type {\n",
       "        vertical-align: middle;\n",
       "    }\n",
       "\n",
       "    .dataframe tbody tr th {\n",
       "        vertical-align: top;\n",
       "    }\n",
       "\n",
       "    .dataframe thead th {\n",
       "        text-align: right;\n",
       "    }\n",
       "</style>\n",
       "<table border=\"1\" class=\"dataframe\">\n",
       "  <thead>\n",
       "    <tr style=\"text-align: right;\">\n",
       "      <th></th>\n",
       "      <th>Maas</th>\n",
       "      <th>Yas</th>\n",
       "      <th>Calısma Saati</th>\n",
       "    </tr>\n",
       "  </thead>\n",
       "  <tbody>\n",
       "    <tr>\n",
       "      <th>Baran</th>\n",
       "      <td>0.331693</td>\n",
       "      <td>0.357233</td>\n",
       "      <td>0.669824</td>\n",
       "    </tr>\n",
       "    <tr>\n",
       "      <th>Öner</th>\n",
       "      <td>0.154819</td>\n",
       "      <td>0.770345</td>\n",
       "      <td>0.275699</td>\n",
       "    </tr>\n",
       "    <tr>\n",
       "      <th>Arda</th>\n",
       "      <td>0.813537</td>\n",
       "      <td>0.421485</td>\n",
       "      <td>0.261062</td>\n",
       "    </tr>\n",
       "    <tr>\n",
       "      <th>Çolak</th>\n",
       "      <td>0.610447</td>\n",
       "      <td>0.984225</td>\n",
       "      <td>0.201428</td>\n",
       "    </tr>\n",
       "  </tbody>\n",
       "</table>\n",
       "</div>"
      ],
      "text/plain": [
       "           Maas       Yas  Calısma Saati\n",
       "Baran  0.331693  0.357233       0.669824\n",
       "Öner   0.154819  0.770345       0.275699\n",
       "Arda   0.813537  0.421485       0.261062\n",
       "Çolak  0.610447  0.984225       0.201428"
      ]
     },
     "execution_count": 17,
     "metadata": {},
     "output_type": "execute_result"
    }
   ],
   "source": [
    "yeniDataFrame.drop(\"Emeklilik Yasi\",axis=1)"
   ]
  },
  {
   "cell_type": "code",
   "execution_count": null,
   "id": "f48f1bcf-8c5f-4485-85f5-98ddf372df8e",
   "metadata": {},
   "outputs": [],
   "source": []
  },
  {
   "cell_type": "code",
   "execution_count": 18,
   "id": "8ec0ad5d-87a2-4a6f-bea8-2517462c7064",
   "metadata": {},
   "outputs": [
    {
     "data": {
      "text/html": [
       "<div>\n",
       "<style scoped>\n",
       "    .dataframe tbody tr th:only-of-type {\n",
       "        vertical-align: middle;\n",
       "    }\n",
       "\n",
       "    .dataframe tbody tr th {\n",
       "        vertical-align: top;\n",
       "    }\n",
       "\n",
       "    .dataframe thead th {\n",
       "        text-align: right;\n",
       "    }\n",
       "</style>\n",
       "<table border=\"1\" class=\"dataframe\">\n",
       "  <thead>\n",
       "    <tr style=\"text-align: right;\">\n",
       "      <th></th>\n",
       "      <th>Maas</th>\n",
       "      <th>Yas</th>\n",
       "      <th>Calısma Saati</th>\n",
       "      <th>Emeklilik Yasi</th>\n",
       "    </tr>\n",
       "  </thead>\n",
       "  <tbody>\n",
       "    <tr>\n",
       "      <th>Baran</th>\n",
       "      <td>0.331693</td>\n",
       "      <td>0.357233</td>\n",
       "      <td>0.669824</td>\n",
       "      <td>0.714467</td>\n",
       "    </tr>\n",
       "    <tr>\n",
       "      <th>Arda</th>\n",
       "      <td>0.813537</td>\n",
       "      <td>0.421485</td>\n",
       "      <td>0.261062</td>\n",
       "      <td>0.842970</td>\n",
       "    </tr>\n",
       "    <tr>\n",
       "      <th>Çolak</th>\n",
       "      <td>0.610447</td>\n",
       "      <td>0.984225</td>\n",
       "      <td>0.201428</td>\n",
       "      <td>1.968450</td>\n",
       "    </tr>\n",
       "  </tbody>\n",
       "</table>\n",
       "</div>"
      ],
      "text/plain": [
       "           Maas       Yas  Calısma Saati  Emeklilik Yasi\n",
       "Baran  0.331693  0.357233       0.669824        0.714467\n",
       "Arda   0.813537  0.421485       0.261062        0.842970\n",
       "Çolak  0.610447  0.984225       0.201428        1.968450"
      ]
     },
     "execution_count": 18,
     "metadata": {},
     "output_type": "execute_result"
    }
   ],
   "source": [
    "yeniDataFrame.drop(\"Öner\",axis=0)"
   ]
  },
  {
   "cell_type": "code",
   "execution_count": 20,
   "id": "134cfa85-7b07-455d-9826-1ec5b7fa03bd",
   "metadata": {},
   "outputs": [],
   "source": [
    "yeniDataFrame.drop(\"Emeklilik Yasi\",axis=1,inplace=True)"
   ]
  },
  {
   "cell_type": "code",
   "execution_count": 21,
   "id": "19628ad9-40dd-499e-abcd-5e4da17c8eaf",
   "metadata": {},
   "outputs": [
    {
     "data": {
      "text/html": [
       "<div>\n",
       "<style scoped>\n",
       "    .dataframe tbody tr th:only-of-type {\n",
       "        vertical-align: middle;\n",
       "    }\n",
       "\n",
       "    .dataframe tbody tr th {\n",
       "        vertical-align: top;\n",
       "    }\n",
       "\n",
       "    .dataframe thead th {\n",
       "        text-align: right;\n",
       "    }\n",
       "</style>\n",
       "<table border=\"1\" class=\"dataframe\">\n",
       "  <thead>\n",
       "    <tr style=\"text-align: right;\">\n",
       "      <th></th>\n",
       "      <th>Maas</th>\n",
       "      <th>Yas</th>\n",
       "      <th>Calısma Saati</th>\n",
       "    </tr>\n",
       "  </thead>\n",
       "  <tbody>\n",
       "    <tr>\n",
       "      <th>Baran</th>\n",
       "      <td>0.331693</td>\n",
       "      <td>0.357233</td>\n",
       "      <td>0.669824</td>\n",
       "    </tr>\n",
       "    <tr>\n",
       "      <th>Öner</th>\n",
       "      <td>0.154819</td>\n",
       "      <td>0.770345</td>\n",
       "      <td>0.275699</td>\n",
       "    </tr>\n",
       "    <tr>\n",
       "      <th>Arda</th>\n",
       "      <td>0.813537</td>\n",
       "      <td>0.421485</td>\n",
       "      <td>0.261062</td>\n",
       "    </tr>\n",
       "    <tr>\n",
       "      <th>Çolak</th>\n",
       "      <td>0.610447</td>\n",
       "      <td>0.984225</td>\n",
       "      <td>0.201428</td>\n",
       "    </tr>\n",
       "  </tbody>\n",
       "</table>\n",
       "</div>"
      ],
      "text/plain": [
       "           Maas       Yas  Calısma Saati\n",
       "Baran  0.331693  0.357233       0.669824\n",
       "Öner   0.154819  0.770345       0.275699\n",
       "Arda   0.813537  0.421485       0.261062\n",
       "Çolak  0.610447  0.984225       0.201428"
      ]
     },
     "execution_count": 21,
     "metadata": {},
     "output_type": "execute_result"
    }
   ],
   "source": [
    "yeniDataFrame"
   ]
  },
  {
   "cell_type": "code",
   "execution_count": 22,
   "id": "f98dbcf9-0d29-483b-8124-e6001383e61f",
   "metadata": {},
   "outputs": [
    {
     "data": {
      "text/plain": [
       "0.3572333578707453"
      ]
     },
     "execution_count": 22,
     "metadata": {},
     "output_type": "execute_result"
    }
   ],
   "source": [
    "yeniDataFrame.loc[\"Baran\",\"Yas\"]"
   ]
  },
  {
   "cell_type": "code",
   "execution_count": 24,
   "id": "1c8dbf26-9b42-44fa-8d4c-55bda6040d19",
   "metadata": {},
   "outputs": [],
   "source": [
    "boolean =yeniDataFrame<0"
   ]
  },
  {
   "cell_type": "code",
   "execution_count": 25,
   "id": "9f80ab16-7e23-468c-bad1-0bb9c15fdb2a",
   "metadata": {},
   "outputs": [
    {
     "data": {
      "text/html": [
       "<div>\n",
       "<style scoped>\n",
       "    .dataframe tbody tr th:only-of-type {\n",
       "        vertical-align: middle;\n",
       "    }\n",
       "\n",
       "    .dataframe tbody tr th {\n",
       "        vertical-align: top;\n",
       "    }\n",
       "\n",
       "    .dataframe thead th {\n",
       "        text-align: right;\n",
       "    }\n",
       "</style>\n",
       "<table border=\"1\" class=\"dataframe\">\n",
       "  <thead>\n",
       "    <tr style=\"text-align: right;\">\n",
       "      <th></th>\n",
       "      <th>Maas</th>\n",
       "      <th>Yas</th>\n",
       "      <th>Calısma Saati</th>\n",
       "    </tr>\n",
       "  </thead>\n",
       "  <tbody>\n",
       "    <tr>\n",
       "      <th>Baran</th>\n",
       "      <td>NaN</td>\n",
       "      <td>NaN</td>\n",
       "      <td>NaN</td>\n",
       "    </tr>\n",
       "    <tr>\n",
       "      <th>Öner</th>\n",
       "      <td>NaN</td>\n",
       "      <td>NaN</td>\n",
       "      <td>NaN</td>\n",
       "    </tr>\n",
       "    <tr>\n",
       "      <th>Arda</th>\n",
       "      <td>NaN</td>\n",
       "      <td>NaN</td>\n",
       "      <td>NaN</td>\n",
       "    </tr>\n",
       "    <tr>\n",
       "      <th>Çolak</th>\n",
       "      <td>NaN</td>\n",
       "      <td>NaN</td>\n",
       "      <td>NaN</td>\n",
       "    </tr>\n",
       "  </tbody>\n",
       "</table>\n",
       "</div>"
      ],
      "text/plain": [
       "       Maas  Yas  Calısma Saati\n",
       "Baran   NaN  NaN            NaN\n",
       "Öner    NaN  NaN            NaN\n",
       "Arda    NaN  NaN            NaN\n",
       "Çolak   NaN  NaN            NaN"
      ]
     },
     "execution_count": 25,
     "metadata": {},
     "output_type": "execute_result"
    }
   ],
   "source": [
    "yeniDataFrame[boolean]"
   ]
  },
  {
   "cell_type": "code",
   "execution_count": 26,
   "id": "1f74fa60-0047-4ec8-a7b0-a7c01d61f1ec",
   "metadata": {},
   "outputs": [
    {
     "data": {
      "text/html": [
       "<div>\n",
       "<style scoped>\n",
       "    .dataframe tbody tr th:only-of-type {\n",
       "        vertical-align: middle;\n",
       "    }\n",
       "\n",
       "    .dataframe tbody tr th {\n",
       "        vertical-align: top;\n",
       "    }\n",
       "\n",
       "    .dataframe thead th {\n",
       "        text-align: right;\n",
       "    }\n",
       "</style>\n",
       "<table border=\"1\" class=\"dataframe\">\n",
       "  <thead>\n",
       "    <tr style=\"text-align: right;\">\n",
       "      <th></th>\n",
       "      <th>Maas</th>\n",
       "      <th>Yas</th>\n",
       "      <th>Calısma Saati</th>\n",
       "    </tr>\n",
       "  </thead>\n",
       "  <tbody>\n",
       "    <tr>\n",
       "      <th>Baran</th>\n",
       "      <td>NaN</td>\n",
       "      <td>NaN</td>\n",
       "      <td>NaN</td>\n",
       "    </tr>\n",
       "    <tr>\n",
       "      <th>Öner</th>\n",
       "      <td>NaN</td>\n",
       "      <td>NaN</td>\n",
       "      <td>NaN</td>\n",
       "    </tr>\n",
       "    <tr>\n",
       "      <th>Arda</th>\n",
       "      <td>NaN</td>\n",
       "      <td>NaN</td>\n",
       "      <td>NaN</td>\n",
       "    </tr>\n",
       "    <tr>\n",
       "      <th>Çolak</th>\n",
       "      <td>NaN</td>\n",
       "      <td>NaN</td>\n",
       "      <td>NaN</td>\n",
       "    </tr>\n",
       "  </tbody>\n",
       "</table>\n",
       "</div>"
      ],
      "text/plain": [
       "       Maas  Yas  Calısma Saati\n",
       "Baran   NaN  NaN            NaN\n",
       "Öner    NaN  NaN            NaN\n",
       "Arda    NaN  NaN            NaN\n",
       "Çolak   NaN  NaN            NaN"
      ]
     },
     "execution_count": 26,
     "metadata": {},
     "output_type": "execute_result"
    }
   ],
   "source": [
    "yeniDataFrame[yeniDataFrame<0]"
   ]
  },
  {
   "cell_type": "code",
   "execution_count": 27,
   "id": "76113098-967e-4e47-a80b-b428cf8e6f5a",
   "metadata": {},
   "outputs": [
    {
     "data": {
      "text/plain": [
       "Baran    True\n",
       "Öner     True\n",
       "Arda     True\n",
       "Çolak    True\n",
       "Name: Yas, dtype: bool"
      ]
     },
     "execution_count": 27,
     "metadata": {},
     "output_type": "execute_result"
    }
   ],
   "source": [
    "yeniDataFrame[\"Yas\"]>0"
   ]
  },
  {
   "cell_type": "code",
   "execution_count": 35,
   "id": "aa6154b3-7d70-4de8-9624-8ea899998530",
   "metadata": {},
   "outputs": [
    {
     "data": {
      "text/html": [
       "<div>\n",
       "<style scoped>\n",
       "    .dataframe tbody tr th:only-of-type {\n",
       "        vertical-align: middle;\n",
       "    }\n",
       "\n",
       "    .dataframe tbody tr th {\n",
       "        vertical-align: top;\n",
       "    }\n",
       "\n",
       "    .dataframe thead th {\n",
       "        text-align: right;\n",
       "    }\n",
       "</style>\n",
       "<table border=\"1\" class=\"dataframe\">\n",
       "  <thead>\n",
       "    <tr style=\"text-align: right;\">\n",
       "      <th></th>\n",
       "      <th>Maas</th>\n",
       "      <th>Yas</th>\n",
       "      <th>Calısma Saati</th>\n",
       "    </tr>\n",
       "  </thead>\n",
       "  <tbody>\n",
       "    <tr>\n",
       "      <th>Öner</th>\n",
       "      <td>0.154819</td>\n",
       "      <td>0.770345</td>\n",
       "      <td>0.275699</td>\n",
       "    </tr>\n",
       "    <tr>\n",
       "      <th>Arda</th>\n",
       "      <td>0.813537</td>\n",
       "      <td>0.421485</td>\n",
       "      <td>0.261062</td>\n",
       "    </tr>\n",
       "    <tr>\n",
       "      <th>Çolak</th>\n",
       "      <td>0.610447</td>\n",
       "      <td>0.984225</td>\n",
       "      <td>0.201428</td>\n",
       "    </tr>\n",
       "  </tbody>\n",
       "</table>\n",
       "</div>"
      ],
      "text/plain": [
       "           Maas       Yas  Calısma Saati\n",
       "Öner   0.154819  0.770345       0.275699\n",
       "Arda   0.813537  0.421485       0.261062\n",
       "Çolak  0.610447  0.984225       0.201428"
      ]
     },
     "execution_count": 35,
     "metadata": {},
     "output_type": "execute_result"
    }
   ],
   "source": [
    "yeniDataFrame[yeniDataFrame[\"Yas\"] > 0.4]"
   ]
  },
  {
   "cell_type": "code",
   "execution_count": null,
   "id": "c79a0472-d591-4744-8bb8-7f7e1a7cd489",
   "metadata": {},
   "outputs": [],
   "source": []
  },
  {
   "cell_type": "code",
   "execution_count": null,
   "id": "1fdafd10-13bf-4a22-b54a-a33a75f5b230",
   "metadata": {},
   "outputs": [],
   "source": []
  }
 ],
 "metadata": {
  "kernelspec": {
   "display_name": "Python 3 (ipykernel)",
   "language": "python",
   "name": "python3"
  },
  "language_info": {
   "codemirror_mode": {
    "name": "ipython",
    "version": 3
   },
   "file_extension": ".py",
   "mimetype": "text/x-python",
   "name": "python",
   "nbconvert_exporter": "python",
   "pygments_lexer": "ipython3",
   "version": "3.12.4"
  }
 },
 "nbformat": 4,
 "nbformat_minor": 5
}
