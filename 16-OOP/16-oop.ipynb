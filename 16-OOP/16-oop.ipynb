{
 "cells": [
  {
   "cell_type": "markdown",
   "id": "a946d614-9e10-43a8-b301-596d64601e90",
   "metadata": {},
   "source": [
    "İnstance attribute\n"
   ]
  },
  {
   "cell_type": "code",
   "execution_count": 21,
   "id": "e211dfa9-559b-4ae4-9239-e73dba06e7a0",
   "metadata": {},
   "outputs": [],
   "source": [
    "\n",
    "class SuperKahraman():\n",
    "    ozelGuc = \"Görünmezlik\"\n",
    "\n",
    "    def __init__(self, isim, yas, meslek):\n",
    "        print(\"init çağrıldı\")\n",
    "        self.isim = isim\n",
    "        self.yas = yas\n",
    "        self.meslek = meslek\n",
    "\n",
    "    def ornekMethod(self):\n",
    "        print(f\"Ben Süperkahramanım : {self.meslek}\" )\n",
    "\n"
   ]
  },
  {
   "cell_type": "code",
   "execution_count": 23,
   "id": "c5e65fb2-10ab-45df-8dd7-bdcca44327d7",
   "metadata": {},
   "outputs": [
    {
     "name": "stdout",
     "output_type": "stream",
     "text": [
      "init çağrıldı\n"
     ]
    }
   ],
   "source": [
    "superman = SuperKahraman(\"batman\",30,\"zengin\")"
   ]
  },
  {
   "cell_type": "code",
   "execution_count": 24,
   "id": "a7eef955-0fe1-4569-9f8d-4c2e81709883",
   "metadata": {},
   "outputs": [],
   "source": [
    "superman.isim=\"Clark\""
   ]
  },
  {
   "cell_type": "code",
   "execution_count": 25,
   "id": "d49f35df-8d21-4a25-bc8d-1f30ae11085c",
   "metadata": {},
   "outputs": [
    {
     "data": {
      "text/plain": [
       "'Clark'"
      ]
     },
     "execution_count": 25,
     "metadata": {},
     "output_type": "execute_result"
    }
   ],
   "source": [
    "superman.isim"
   ]
  },
  {
   "cell_type": "code",
   "execution_count": 26,
   "id": "8ecfd071-76fc-4a1d-a60f-acb17aef1cc7",
   "metadata": {},
   "outputs": [
    {
     "name": "stdout",
     "output_type": "stream",
     "text": [
      "Ben Süperkahramanım : zengin\n"
     ]
    }
   ],
   "source": [
    "superman.ornekMethod()"
   ]
  },
  {
   "cell_type": "code",
   "execution_count": 55,
   "id": "d55cf334-45dc-4440-a791-494d0e1b49c5",
   "metadata": {},
   "outputs": [],
   "source": [
    "class Kopek ():\n",
    "\n",
    "    yılCarpani = 7\n",
    "    \n",
    "    def __init__(self,yas=5):\n",
    "        self.yas =yas\n",
    "        \n",
    "    def insanYasiniHesapla(self):\n",
    "        return self.yas * self.yilCarpani"
   ]
  },
  {
   "cell_type": "code",
   "execution_count": 56,
   "id": "1d62e252-5816-427e-a826-657ad261685a",
   "metadata": {},
   "outputs": [],
   "source": [
    "benimKopek = Kopek(4)\n"
   ]
  },
  {
   "cell_type": "code",
   "execution_count": 57,
   "id": "344495cc-2f44-4ded-af13-d696e2b52962",
   "metadata": {},
   "outputs": [
    {
     "data": {
      "text/plain": [
       "4"
      ]
     },
     "execution_count": 57,
     "metadata": {},
     "output_type": "execute_result"
    }
   ],
   "source": [
    "benimKopek.yas"
   ]
  },
  {
   "cell_type": "code",
   "execution_count": 19,
   "id": "385a6a36-7550-4e68-b16b-0ba4a5bb68b1",
   "metadata": {},
   "outputs": [
    {
     "ename": "NameError",
     "evalue": "name 'benimKopek' is not defined",
     "output_type": "error",
     "traceback": [
      "\u001b[1;31m---------------------------------------------------------------------------\u001b[0m",
      "\u001b[1;31mNameError\u001b[0m                                 Traceback (most recent call last)",
      "Cell \u001b[1;32mIn[19], line 1\u001b[0m\n\u001b[1;32m----> 1\u001b[0m benimKopek\u001b[38;5;241m.\u001b[39minsanYasiniHesapla()\n",
      "\u001b[1;31mNameError\u001b[0m: name 'benimKopek' is not defined"
     ]
    }
   ],
   "source": [
    "benimKopek.insanYasiniHesapla()\n",
    "\n"
   ]
  },
  {
   "cell_type": "markdown",
   "id": "ff88fb9b-3981-4150-ba41-29d5dc25d20d",
   "metadata": {},
   "source": [
    "INHERİTANCE"
   ]
  },
  {
   "cell_type": "code",
   "execution_count": 7,
   "id": "3c026503-c6fe-4205-8ba6-7036ff1031d4",
   "metadata": {},
   "outputs": [],
   "source": [
    "class Hayvan():\n",
    "    def _init_(self):\n",
    "     print(\"Hayvan Sınıfı İnit Çağrıldı\")\n",
    "    def method1(self):\n",
    "     print(\"hayvan sınıfı mt1 çağrıldı\")\n",
    "    def method2(self):\n",
    "      print(\"hayvan sınıfı mt1 çağrıldı\")    "
   ]
  },
  {
   "cell_type": "code",
   "execution_count": 8,
   "id": "a5172416-04f4-4af3-8174-36b763614d7f",
   "metadata": {},
   "outputs": [],
   "source": [
    "benimHayvanım = Hayvan()\n"
   ]
  },
  {
   "cell_type": "code",
   "execution_count": 9,
   "id": "e9548c1a-846b-494d-ac42-4f57217736de",
   "metadata": {},
   "outputs": [
    {
     "name": "stdout",
     "output_type": "stream",
     "text": [
      "hayvan sınıfı mt1 çağrıldı\n"
     ]
    }
   ],
   "source": [
    "benimHayvanım.method1()"
   ]
  },
  {
   "cell_type": "code",
   "execution_count": 11,
   "id": "34b8823c-70d7-4a6a-befc-2b7a1c6f02f9",
   "metadata": {},
   "outputs": [
    {
     "name": "stdout",
     "output_type": "stream",
     "text": [
      "hayvan sınıfı mt1 çağrıldı\n"
     ]
    }
   ],
   "source": [
    "benimHayvanım.method2()"
   ]
  },
  {
   "cell_type": "code",
   "execution_count": 16,
   "id": "65749522-cef6-4057-a348-a3d50cda08e3",
   "metadata": {},
   "outputs": [],
   "source": [
    "class Kedi(Hayvan):\n",
    "    def _init_(self):\n",
    "        Hayvan._init_(self)\n",
    "        print(\"Kedi sınıfı\")\n",
    "\n",
    "    def miyavla(self):\n",
    "        print(\"miyav\")"
   ]
  },
  {
   "cell_type": "code",
   "execution_count": 17,
   "id": "bacf9209-6a90-4e6a-83c8-0d01df692750",
   "metadata": {},
   "outputs": [],
   "source": [
    "benimKedim =Kedi()"
   ]
  },
  {
   "cell_type": "code",
   "execution_count": 18,
   "id": "672ff232-5278-4e7e-ba05-11f6798dae5a",
   "metadata": {},
   "outputs": [
    {
     "name": "stdout",
     "output_type": "stream",
     "text": [
      "miyav\n"
     ]
    }
   ],
   "source": [
    "benimKedim.miyavla()"
   ]
  },
  {
   "cell_type": "markdown",
   "id": "27cf0592-2aae-49ad-ac00-e06badca2aa9",
   "metadata": {},
   "source": [
    "Polymorphism"
   ]
  },
  {
   "cell_type": "code",
   "execution_count": 20,
   "id": "5ac53342-0383-4a97-97c2-aad5be2aec2b",
   "metadata": {},
   "outputs": [],
   "source": [
    "class Elma():\n",
    "    def __init__(self,isim):\n",
    "        self.isim=isim\n",
    "    def bilgiVer(self):\n",
    "        return self.isim + \"100 kalori\"   "
   ]
  },
  {
   "cell_type": "code",
   "execution_count": null,
   "id": "ec9ec7bb-7fdc-4a95-8304-dc22a999a898",
   "metadata": {},
   "outputs": [],
   "source": [
    "class Muz():\n",
    "    def __init__(self,isim):\n",
    "        self.isim=isim\n",
    "    def bilgiVer(self):\n",
    "        return self.isim + \"100 kalori\" "
   ]
  }
 ],
 "metadata": {
  "kernelspec": {
   "display_name": "Python 3 (ipykernel)",
   "language": "python",
   "name": "python3"
  },
  "language_info": {
   "codemirror_mode": {
    "name": "ipython",
    "version": 3
   },
   "file_extension": ".py",
   "mimetype": "text/x-python",
   "name": "python",
   "nbconvert_exporter": "python",
   "pygments_lexer": "ipython3",
   "version": "3.12.4"
  }
 },
 "nbformat": 4,
 "nbformat_minor": 5
}
