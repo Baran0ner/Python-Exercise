{
 "cells": [
  {
   "cell_type": "code",
   "execution_count": 7,
   "id": "992e6f55-ca75-46d8-ac44-bcdd93a5ef1f",
   "metadata": {},
   "outputs": [],
   "source": [
    "benimListem=[1,2,3,4]"
   ]
  },
  {
   "cell_type": "code",
   "execution_count": 8,
   "id": "e3c9509f-2a72-4086-b71e-6521188f25f7",
   "metadata": {},
   "outputs": [
    {
     "data": {
      "text/plain": [
       "[1, 2, 3, 4]"
      ]
     },
     "execution_count": 8,
     "metadata": {},
     "output_type": "execute_result"
    }
   ],
   "source": [
    "benimListem\n"
   ]
  },
  {
   "cell_type": "code",
   "execution_count": 9,
   "id": "51ea546b-be83-44be-bd99-184eb4cca1c4",
   "metadata": {},
   "outputs": [],
   "source": [
    "benimListeSetim = set(benimListem)"
   ]
  },
  {
   "cell_type": "code",
   "execution_count": 11,
   "id": "d2c62bfe-9a73-4bb0-837c-12dabd437092",
   "metadata": {},
   "outputs": [
    {
     "data": {
      "text/plain": [
       "list"
      ]
     },
     "execution_count": 11,
     "metadata": {},
     "output_type": "execute_result"
    }
   ],
   "source": [
    "type(benimListem)"
   ]
  },
  {
   "cell_type": "code",
   "execution_count": 12,
   "id": "328ca32d-ea8d-44fc-b5de-ce1225bd400c",
   "metadata": {},
   "outputs": [
    {
     "data": {
      "text/plain": [
       "set"
      ]
     },
     "execution_count": 12,
     "metadata": {},
     "output_type": "execute_result"
    }
   ],
   "source": [
    "type(benimListeSetim)"
   ]
  },
  {
   "cell_type": "code",
   "execution_count": 13,
   "id": "7a2cf921-c14f-46bf-af29-ceea8843e946",
   "metadata": {},
   "outputs": [],
   "source": [
    "bosListe = []"
   ]
  },
  {
   "cell_type": "code",
   "execution_count": 14,
   "id": "544e5309-1da0-42a2-9bac-628295fa7e2e",
   "metadata": {},
   "outputs": [
    {
     "data": {
      "text/plain": [
       "[]"
      ]
     },
     "execution_count": 14,
     "metadata": {},
     "output_type": "execute_result"
    }
   ],
   "source": [
    "bosListe"
   ]
  },
  {
   "cell_type": "code",
   "execution_count": 15,
   "id": "c6c833ea-04fd-41ca-a85a-878a7d562bbb",
   "metadata": {},
   "outputs": [],
   "source": [
    "bosListe.append(1)"
   ]
  },
  {
   "cell_type": "code",
   "execution_count": 16,
   "id": "e3e9638b-9004-4411-8969-2f4529d5f8f1",
   "metadata": {},
   "outputs": [
    {
     "data": {
      "text/plain": [
       "[1]"
      ]
     },
     "execution_count": 16,
     "metadata": {},
     "output_type": "execute_result"
    }
   ],
   "source": [
    "bosListe"
   ]
  },
  {
   "cell_type": "code",
   "execution_count": 17,
   "id": "d663432f-a9fa-40b3-91b8-32491ce5d293",
   "metadata": {},
   "outputs": [],
   "source": [
    "bosSet = {}"
   ]
  },
  {
   "cell_type": "code",
   "execution_count": 18,
   "id": "9ad8fdc7-27ee-47c1-81f5-179841ba79a6",
   "metadata": {},
   "outputs": [
    {
     "data": {
      "text/plain": [
       "dict"
      ]
     },
     "execution_count": 18,
     "metadata": {},
     "output_type": "execute_result"
    }
   ],
   "source": [
    "type(bosSet)"
   ]
  },
  {
   "cell_type": "code",
   "execution_count": 19,
   "id": "76bde708-d704-412f-915d-d8c17783caaa",
   "metadata": {},
   "outputs": [],
   "source": [
    "bosSet[\"key\"] = 10"
   ]
  },
  {
   "cell_type": "code",
   "execution_count": 23,
   "id": "a66cce29-6ccd-44e9-a0e0-f0ad8943e78d",
   "metadata": {},
   "outputs": [
    {
     "data": {
      "text/plain": [
       "{'key': 10}"
      ]
     },
     "execution_count": 23,
     "metadata": {},
     "output_type": "execute_result"
    }
   ],
   "source": [
    "bosSet\n"
   ]
  },
  {
   "cell_type": "code",
   "execution_count": 24,
   "id": "bbe01cc2-6da1-4ff6-b5c6-a8e94f27d924",
   "metadata": {},
   "outputs": [],
   "source": [
    "benimBosSetim = set()"
   ]
  },
  {
   "cell_type": "code",
   "execution_count": 25,
   "id": "c67c4101-4576-41b6-896a-0ecad8576e5b",
   "metadata": {},
   "outputs": [
    {
     "data": {
      "text/plain": [
       "set()"
      ]
     },
     "execution_count": 25,
     "metadata": {},
     "output_type": "execute_result"
    }
   ],
   "source": [
    "benimBosSetim"
   ]
  },
  {
   "cell_type": "code",
   "execution_count": 26,
   "id": "548de1b4-ca51-4e58-a1c0-b8b2327546dd",
   "metadata": {},
   "outputs": [],
   "source": [
    "benimBosSetim.add(20)"
   ]
  },
  {
   "cell_type": "code",
   "execution_count": 27,
   "id": "ccfcbf86-5f28-435e-a243-ae19962f8641",
   "metadata": {},
   "outputs": [],
   "source": [
    "benimBosSetim.add(34)"
   ]
  },
  {
   "cell_type": "code",
   "execution_count": null,
   "id": "da0852f8-270a-408d-a0a0-ff2e5fba6e44",
   "metadata": {},
   "outputs": [],
   "source": []
  }
 ],
 "metadata": {
  "kernelspec": {
   "display_name": "Python 3 (ipykernel)",
   "language": "python",
   "name": "python3"
  },
  "language_info": {
   "codemirror_mode": {
    "name": "ipython",
    "version": 3
   },
   "file_extension": ".py",
   "mimetype": "text/x-python",
   "name": "python",
   "nbconvert_exporter": "python",
   "pygments_lexer": "ipython3",
   "version": "3.12.4"
  }
 },
 "nbformat": 4,
 "nbformat_minor": 5
}
