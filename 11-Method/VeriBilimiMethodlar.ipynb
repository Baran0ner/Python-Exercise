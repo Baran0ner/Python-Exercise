{
 "cells": [
  {
   "cell_type": "code",
   "execution_count": 1,
   "id": "2a648b4a-5f71-4b21-a087-a72e159b7b6a",
   "metadata": {},
   "outputs": [],
   "source": [
    "benimListem = [1,2,3,4,5]"
   ]
  },
  {
   "cell_type": "code",
   "execution_count": 4,
   "id": "6cae652d-40bb-4bac-bc79-080e4c3c4f25",
   "metadata": {},
   "outputs": [
    {
     "name": "stdout",
     "output_type": "stream",
     "text": [
      "1\n",
      "2\n",
      "3\n",
      "4\n",
      "5\n"
     ]
    }
   ],
   "source": [
    "for numara in benimListem:\n",
    "   print(numara)"
   ]
  },
  {
   "cell_type": "code",
   "execution_count": 5,
   "id": "3fc49ced-e2b5-4273-bef8-88cf951632ac",
   "metadata": {},
   "outputs": [
    {
     "data": {
      "text/plain": [
       "range(0, 18)"
      ]
     },
     "execution_count": 5,
     "metadata": {},
     "output_type": "execute_result"
    }
   ],
   "source": [
    "range(18)"
   ]
  },
  {
   "cell_type": "code",
   "execution_count": 7,
   "id": "d998679e-0c39-47b9-9128-e2af0d3b3699",
   "metadata": {},
   "outputs": [
    {
     "data": {
      "text/plain": [
       "[0, 1, 2, 3, 4]"
      ]
     },
     "execution_count": 7,
     "metadata": {},
     "output_type": "execute_result"
    }
   ],
   "source": [
    "list(range(5))"
   ]
  },
  {
   "cell_type": "code",
   "execution_count": 9,
   "id": "68e3c61a-2e14-4e52-ab70-4d618503f9de",
   "metadata": {},
   "outputs": [
    {
     "name": "stdout",
     "output_type": "stream",
     "text": [
      "0\n",
      "1\n",
      "2\n",
      "3\n",
      "4\n"
     ]
    }
   ],
   "source": [
    "for numara in list(range(5)):\n",
    "    print(numara)\n",
    "  "
   ]
  },
  {
   "cell_type": "code",
   "execution_count": 11,
   "id": "fe6103eb-cc11-4139-bf6d-573470faaceb",
   "metadata": {},
   "outputs": [
    {
     "data": {
      "text/plain": [
       "[1, 5, 9]"
      ]
     },
     "execution_count": 11,
     "metadata": {},
     "output_type": "execute_result"
    }
   ],
   "source": [
    "list(range(1,10,4))"
   ]
  },
  {
   "cell_type": "code",
   "execution_count": 14,
   "id": "bf0f852e-4992-490d-b539-5fd16c842873",
   "metadata": {},
   "outputs": [
    {
     "name": "stdout",
     "output_type": "stream",
     "text": [
      "güncel numara : 5 güncel index : 0\n",
      "güncel numara : 6 güncel index : 1\n",
      "güncel numara : 7 güncel index : 2\n",
      "güncel numara : 8 güncel index : 3\n",
      "güncel numara : 9 güncel index : 4\n",
      "güncel numara : 10 güncel index : 5\n",
      "güncel numara : 11 güncel index : 6\n",
      "güncel numara : 12 güncel index : 7\n",
      "güncel numara : 13 güncel index : 8\n",
      "güncel numara : 14 güncel index : 9\n",
      "güncel numara : 15 güncel index : 10\n",
      "güncel numara : 16 güncel index : 11\n",
      "güncel numara : 17 güncel index : 12\n",
      "güncel numara : 18 güncel index : 13\n",
      "güncel numara : 19 güncel index : 14\n",
      "güncel numara : 20 güncel index : 15\n",
      "güncel numara : 21 güncel index : 16\n",
      "güncel numara : 22 güncel index : 17\n",
      "güncel numara : 23 güncel index : 18\n",
      "güncel numara : 24 güncel index : 19\n",
      "güncel numara : 25 güncel index : 20\n",
      "güncel numara : 26 güncel index : 21\n",
      "güncel numara : 27 güncel index : 22\n",
      "güncel numara : 28 güncel index : 23\n",
      "güncel numara : 29 güncel index : 24\n",
      "güncel numara : 30 güncel index : 25\n",
      "güncel numara : 31 güncel index : 26\n",
      "güncel numara : 32 güncel index : 27\n",
      "güncel numara : 33 güncel index : 28\n"
     ]
    }
   ],
   "source": [
    "index =0\n",
    "for numara in list(range(5,34)):\n",
    "    print(f\"güncel numara : {numara } güncel index : {index}\")\n",
    "    index= index +1\n",
    "    "
   ]
  },
  {
   "cell_type": "code",
   "execution_count": 16,
   "id": "1befabf2-0676-4f8c-9a92-372230de16de",
   "metadata": {},
   "outputs": [
    {
     "name": "stdout",
     "output_type": "stream",
     "text": [
      "(0, 5)\n",
      "(1, 6)\n",
      "(2, 7)\n",
      "(3, 8)\n",
      "(4, 9)\n",
      "(5, 10)\n",
      "(6, 11)\n",
      "(7, 12)\n",
      "(8, 13)\n",
      "(9, 14)\n",
      "(10, 15)\n",
      "(11, 16)\n",
      "(12, 17)\n",
      "(13, 18)\n",
      "(14, 19)\n",
      "(15, 20)\n",
      "(16, 21)\n",
      "(17, 22)\n"
     ]
    }
   ],
   "source": [
    "for eleman in enumerate(list(range(5,23))):\n",
    "    print(eleman)"
   ]
  },
  {
   "cell_type": "code",
   "execution_count": 20,
   "id": "e0296b11-df5a-4a66-97a6-f7aefe86cc45",
   "metadata": {},
   "outputs": [
    {
     "name": "stdout",
     "output_type": "stream",
     "text": [
      "5 0\n",
      "6 1\n",
      "7 2\n",
      "8 3\n",
      "9 4\n",
      "10 5\n",
      "11 6\n",
      "12 7\n",
      "13 8\n",
      "14 9\n",
      "15 10\n",
      "16 11\n",
      "17 12\n",
      "18 13\n",
      "19 14\n",
      "20 15\n",
      "21 16\n",
      "22 17\n"
     ]
    }
   ],
   "source": [
    "for(index,numara )in enumerate(list(range(5,23))):\n",
    "    print(numara,index)"
   ]
  },
  {
   "cell_type": "markdown",
   "id": "3357c213-9029-4096-a153-c2d11cc33538",
   "metadata": {},
   "source": [
    "##RANGE"
   ]
  },
  {
   "cell_type": "code",
   "execution_count": 21,
   "id": "d6840d2b-849e-409b-9be8-8611f3b19ab6",
   "metadata": {},
   "outputs": [],
   "source": [
    "from random import randint"
   ]
  },
  {
   "cell_type": "code",
   "execution_count": 22,
   "id": "2db2683d-6e94-46b2-b570-f8fb57e6d778",
   "metadata": {},
   "outputs": [
    {
     "data": {
      "text/plain": [
       "3"
      ]
     },
     "execution_count": 22,
     "metadata": {},
     "output_type": "execute_result"
    }
   ],
   "source": [
    "randint(0,12)"
   ]
  },
  {
   "cell_type": "code",
   "execution_count": 23,
   "id": "5cc54220-0a55-476e-b570-e27ff5fcc64c",
   "metadata": {},
   "outputs": [],
   "source": [
    "liste = list(range(10))"
   ]
  },
  {
   "cell_type": "code",
   "execution_count": 25,
   "id": "60608b64-cc51-4875-92bd-2b9ac67c94b0",
   "metadata": {},
   "outputs": [
    {
     "data": {
      "text/plain": [
       "[0, 1, 2, 3, 4, 5, 6, 7, 8, 9]"
      ]
     },
     "execution_count": 25,
     "metadata": {},
     "output_type": "execute_result"
    }
   ],
   "source": [
    "liste"
   ]
  },
  {
   "cell_type": "code",
   "execution_count": 26,
   "id": "1860a03e-c555-4d63-877a-af6a9b5edaf5",
   "metadata": {},
   "outputs": [],
   "source": [
    "from random import shuffle"
   ]
  },
  {
   "cell_type": "code",
   "execution_count": 28,
   "id": "1cc52e1b-62a0-466d-ad34-c0484e457f9a",
   "metadata": {},
   "outputs": [],
   "source": [
    "shuffle(liste)"
   ]
  },
  {
   "cell_type": "code",
   "execution_count": 29,
   "id": "f9384f97-ae45-4b53-8df9-5e642f260150",
   "metadata": {},
   "outputs": [
    {
     "data": {
      "text/plain": [
       "[0, 4, 9, 8, 1, 6, 3, 5, 7, 2]"
      ]
     },
     "execution_count": 29,
     "metadata": {},
     "output_type": "execute_result"
    }
   ],
   "source": [
    "liste"
   ]
  },
  {
   "cell_type": "code",
   "execution_count": 31,
   "id": "2dfd59f1-e435-4f2e-8237-574148356ad2",
   "metadata": {},
   "outputs": [],
   "source": [
    "##ZİP\n"
   ]
  },
  {
   "cell_type": "code",
   "execution_count": 36,
   "id": "3e253fbb-dadb-4b50-94a1-e2f3e03f7ac4",
   "metadata": {},
   "outputs": [],
   "source": [
    "yemekListesi = [\"muz\",\"ananas\",\"kiraz\"]\n",
    "kaloriListeis =[\"100\",\"200\",\"300\"]\n",
    "gunListesi = [\"pazartesi \" ,\"salı\",\"çarşamba\"]"
   ]
  },
  {
   "cell_type": "code",
   "execution_count": 38,
   "id": "909766ef-e579-406e-af69-e387f4a89eec",
   "metadata": {},
   "outputs": [],
   "source": [
    "zipListe = list(zip(yemekListesi,kaloriListeis,gunListesi))"
   ]
  },
  {
   "cell_type": "code",
   "execution_count": 39,
   "id": "91237a61-8a35-4455-ba0f-8064bbb5cb95",
   "metadata": {},
   "outputs": [
    {
     "name": "stdout",
     "output_type": "stream",
     "text": [
      "('muz', '100', 'pazartesi ')\n",
      "('ananas', '200', 'salı')\n",
      "('kiraz', '300', 'çarşamba')\n"
     ]
    }
   ],
   "source": [
    "for eleman in zipListe:\n",
    "    print(eleman)\n",
    " "
   ]
  },
  {
   "cell_type": "markdown",
   "id": "39fe8716-1edf-473d-ba8b-a0d4a224c406",
   "metadata": {},
   "source": [
    "listeler ileri seviye"
   ]
  },
  {
   "cell_type": "code",
   "execution_count": 40,
   "id": "0bfa348a-70b9-4e7a-9005-060c8f3d8da0",
   "metadata": {},
   "outputs": [],
   "source": []
  },
  {
   "cell_type": "code",
   "execution_count": 48,
   "id": "8d078648-9974-45da-9077-0a62ee140bf8",
   "metadata": {},
   "outputs": [],
   "source": [
    "listeOrnegi =[]\n",
    "benimString = \"baran Oner\"\n",
    "\n",
    "for harf in benimString:\n",
    "    listeOrnegi.append(harf)"
   ]
  },
  {
   "cell_type": "code",
   "execution_count": 49,
   "id": "14f4f82c-8949-407f-ad90-87aa506ab134",
   "metadata": {},
   "outputs": [
    {
     "data": {
      "text/plain": [
       "['b', 'a', 'r', 'a', 'n', ' ', 'O', 'n', 'e', 'r']"
      ]
     },
     "execution_count": 49,
     "metadata": {},
     "output_type": "execute_result"
    }
   ],
   "source": [
    "listeOrnegi"
   ]
  },
  {
   "cell_type": "code",
   "execution_count": 50,
   "id": "c86579e3-42ec-4743-820e-0a18dec392df",
   "metadata": {},
   "outputs": [],
   "source": [
    "yeniListe = [ eleman for eleman in benimString]"
   ]
  },
  {
   "cell_type": "code",
   "execution_count": 51,
   "id": "896984d6-cd19-42a6-8421-fc8e040371ac",
   "metadata": {},
   "outputs": [
    {
     "data": {
      "text/plain": [
       "['b', 'a', 'r', 'a', 'n', ' ', 'O', 'n', 'e', 'r']"
      ]
     },
     "execution_count": 51,
     "metadata": {},
     "output_type": "execute_result"
    }
   ],
   "source": [
    "yeniListe"
   ]
  },
  {
   "cell_type": "code",
   "execution_count": 53,
   "id": "63e9bb42-3168-4070-96fe-ec9a8b374af6",
   "metadata": {},
   "outputs": [],
   "source": [
    "ikinciListe = [numara *5 for numara in list(range(0,10))]"
   ]
  },
  {
   "cell_type": "code",
   "execution_count": 54,
   "id": "7b5cb9b6-0821-48eb-a6a1-e5ed8666aee5",
   "metadata": {},
   "outputs": [
    {
     "data": {
      "text/plain": [
       "[0, 5, 10, 15, 20, 25, 30, 35, 40, 45]"
      ]
     },
     "execution_count": 54,
     "metadata": {},
     "output_type": "execute_result"
    }
   ],
   "source": [
    "ikinciListe"
   ]
  },
  {
   "cell_type": "code",
   "execution_count": null,
   "id": "c4cb2d27-ec7c-49ca-ae3d-158f1d66b7ac",
   "metadata": {},
   "outputs": [],
   "source": []
  }
 ],
 "metadata": {
  "kernelspec": {
   "display_name": "Python 3 (ipykernel)",
   "language": "python",
   "name": "python3"
  },
  "language_info": {
   "codemirror_mode": {
    "name": "ipython",
    "version": 3
   },
   "file_extension": ".py",
   "mimetype": "text/x-python",
   "name": "python",
   "nbconvert_exporter": "python",
   "pygments_lexer": "ipython3",
   "version": "3.12.4"
  }
 },
 "nbformat": 4,
 "nbformat_minor": 5
}
